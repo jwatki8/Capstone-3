{
 "cells": [
  {
   "cell_type": "markdown",
   "id": "0a80ea6d",
   "metadata": {},
   "source": [
    "# Capstone 3 Data Wrangling- Jessica Williams"
   ]
  },
  {
   "cell_type": "code",
   "execution_count": 1,
   "id": "97292899",
   "metadata": {},
   "outputs": [],
   "source": [
    "import pandas as pd\n",
    "import numpy as np\n",
    "import os\n",
    "import matplotlib.pyplot as plt\n",
    "import seaborn as sns\n",
    "import sklearn\n",
    "from sklearn.feature_extraction.text import CountVectorizer\n",
    "import spacy\n",
    "from yellowbrick.text import FreqDistVisualizer\n",
    "from pathlib import Path\n",
    "nlp=spacy.load('en_core_web_sm')\n",
    "from textblob import TextBlob, Word, Blobber\n",
    "\n",
    "from sb_utils import save_file"
   ]
  },
  {
   "cell_type": "markdown",
   "id": "c466f43d",
   "metadata": {},
   "source": [
    "Lets take a look at both dataframes."
   ]
  },
  {
   "cell_type": "code",
   "execution_count": 2,
   "id": "767a97a8",
   "metadata": {},
   "outputs": [],
   "source": [
    "wine_list = pd.read_csv('C:/Users/jwatki8/Downloads/XWines_Full_100K_wines.csv')"
   ]
  },
  {
   "cell_type": "code",
   "execution_count": 3,
   "id": "82fb4a92",
   "metadata": {},
   "outputs": [
    {
     "name": "stdout",
     "output_type": "stream",
     "text": [
      "<class 'pandas.core.frame.DataFrame'>\n",
      "RangeIndex: 100646 entries, 0 to 100645\n",
      "Data columns (total 17 columns):\n",
      " #   Column      Non-Null Count   Dtype  \n",
      "---  ------      --------------   -----  \n",
      " 0   WineID      100646 non-null  int64  \n",
      " 1   WineName    100646 non-null  object \n",
      " 2   Type        100646 non-null  object \n",
      " 3   Elaborate   100646 non-null  object \n",
      " 4   Grapes      100646 non-null  object \n",
      " 5   Harmonize   100646 non-null  object \n",
      " 6   ABV         100646 non-null  float64\n",
      " 7   Body        100646 non-null  object \n",
      " 8   Acidity     100646 non-null  object \n",
      " 9   Code        100646 non-null  object \n",
      " 10  Country     100646 non-null  object \n",
      " 11  RegionID    100646 non-null  int64  \n",
      " 12  RegionName  100646 non-null  object \n",
      " 13  WineryID    100646 non-null  int64  \n",
      " 14  WineryName  100646 non-null  object \n",
      " 15  Website     82779 non-null   object \n",
      " 16  Vintages    100646 non-null  object \n",
      "dtypes: float64(1), int64(3), object(13)\n",
      "memory usage: 13.1+ MB\n"
     ]
    }
   ],
   "source": [
    "wine_list.info()"
   ]
  },
  {
   "cell_type": "code",
   "execution_count": 4,
   "id": "50f757a1",
   "metadata": {},
   "outputs": [
    {
     "data": {
      "text/html": [
       "<div>\n",
       "<style scoped>\n",
       "    .dataframe tbody tr th:only-of-type {\n",
       "        vertical-align: middle;\n",
       "    }\n",
       "\n",
       "    .dataframe tbody tr th {\n",
       "        vertical-align: top;\n",
       "    }\n",
       "\n",
       "    .dataframe thead th {\n",
       "        text-align: right;\n",
       "    }\n",
       "</style>\n",
       "<table border=\"1\" class=\"dataframe\">\n",
       "  <thead>\n",
       "    <tr style=\"text-align: right;\">\n",
       "      <th></th>\n",
       "      <th>WineID</th>\n",
       "      <th>WineName</th>\n",
       "      <th>Type</th>\n",
       "      <th>Elaborate</th>\n",
       "      <th>Grapes</th>\n",
       "      <th>Harmonize</th>\n",
       "      <th>ABV</th>\n",
       "      <th>Body</th>\n",
       "      <th>Acidity</th>\n",
       "      <th>Code</th>\n",
       "      <th>Country</th>\n",
       "      <th>RegionID</th>\n",
       "      <th>RegionName</th>\n",
       "      <th>WineryID</th>\n",
       "      <th>WineryName</th>\n",
       "      <th>Website</th>\n",
       "      <th>Vintages</th>\n",
       "    </tr>\n",
       "  </thead>\n",
       "  <tbody>\n",
       "    <tr>\n",
       "      <th>0</th>\n",
       "      <td>100001</td>\n",
       "      <td>Espumante Moscatel</td>\n",
       "      <td>Sparkling</td>\n",
       "      <td>Varietal/100%</td>\n",
       "      <td>['Muscat/Moscato']</td>\n",
       "      <td>['Pork', 'Rich Fish', 'Shellfish']</td>\n",
       "      <td>7.5</td>\n",
       "      <td>Medium-bodied</td>\n",
       "      <td>High</td>\n",
       "      <td>BR</td>\n",
       "      <td>Brazil</td>\n",
       "      <td>1001</td>\n",
       "      <td>Serra Gaúcha</td>\n",
       "      <td>10001</td>\n",
       "      <td>Casa Perini</td>\n",
       "      <td>http://www.vinicolaperini.com.br</td>\n",
       "      <td>[2020, 2019, 2018, 2017, 2016, 2015, 2014, 201...</td>\n",
       "    </tr>\n",
       "    <tr>\n",
       "      <th>1</th>\n",
       "      <td>100002</td>\n",
       "      <td>Ancellotta</td>\n",
       "      <td>Red</td>\n",
       "      <td>Varietal/100%</td>\n",
       "      <td>['Ancellotta']</td>\n",
       "      <td>['Beef', 'Barbecue', 'Codfish', 'Pasta', 'Pizz...</td>\n",
       "      <td>12.0</td>\n",
       "      <td>Medium-bodied</td>\n",
       "      <td>Medium</td>\n",
       "      <td>BR</td>\n",
       "      <td>Brazil</td>\n",
       "      <td>1001</td>\n",
       "      <td>Serra Gaúcha</td>\n",
       "      <td>10001</td>\n",
       "      <td>Casa Perini</td>\n",
       "      <td>http://www.vinicolaperini.com.br</td>\n",
       "      <td>[2016, 2015, 2014, 2013, 2012, 2011, 2010, 200...</td>\n",
       "    </tr>\n",
       "    <tr>\n",
       "      <th>2</th>\n",
       "      <td>100003</td>\n",
       "      <td>Cabernet Sauvignon</td>\n",
       "      <td>Red</td>\n",
       "      <td>Varietal/100%</td>\n",
       "      <td>['Cabernet Sauvignon']</td>\n",
       "      <td>['Beef', 'Lamb', 'Poultry']</td>\n",
       "      <td>12.0</td>\n",
       "      <td>Full-bodied</td>\n",
       "      <td>High</td>\n",
       "      <td>BR</td>\n",
       "      <td>Brazil</td>\n",
       "      <td>1001</td>\n",
       "      <td>Serra Gaúcha</td>\n",
       "      <td>10002</td>\n",
       "      <td>Castellamare</td>\n",
       "      <td>https://www.emporiocastellamare.com.br</td>\n",
       "      <td>[2021, 2020, 2019, 2018, 2017, 2016, 2015, 201...</td>\n",
       "    </tr>\n",
       "    <tr>\n",
       "      <th>3</th>\n",
       "      <td>100004</td>\n",
       "      <td>Virtus Moscato</td>\n",
       "      <td>White</td>\n",
       "      <td>Varietal/100%</td>\n",
       "      <td>['Muscat/Moscato']</td>\n",
       "      <td>['Sweet Dessert']</td>\n",
       "      <td>12.0</td>\n",
       "      <td>Medium-bodied</td>\n",
       "      <td>Medium</td>\n",
       "      <td>BR</td>\n",
       "      <td>Brazil</td>\n",
       "      <td>1001</td>\n",
       "      <td>Serra Gaúcha</td>\n",
       "      <td>10003</td>\n",
       "      <td>Monte Paschoal</td>\n",
       "      <td>http://www.montepaschoal.com.br</td>\n",
       "      <td>[2021, 2020, 2019, 2018, 2017, 2016, 2015, 201...</td>\n",
       "    </tr>\n",
       "    <tr>\n",
       "      <th>4</th>\n",
       "      <td>100005</td>\n",
       "      <td>Maison de Ville Cabernet-Merlot</td>\n",
       "      <td>Red</td>\n",
       "      <td>Assemblage/Bordeaux Red Blend</td>\n",
       "      <td>['Cabernet Sauvignon', 'Merlot']</td>\n",
       "      <td>['Beef', 'Lamb', 'Game Meat', 'Poultry']</td>\n",
       "      <td>11.0</td>\n",
       "      <td>Full-bodied</td>\n",
       "      <td>Medium</td>\n",
       "      <td>BR</td>\n",
       "      <td>Brazil</td>\n",
       "      <td>1001</td>\n",
       "      <td>Serra Gaúcha</td>\n",
       "      <td>10000</td>\n",
       "      <td>Aurora</td>\n",
       "      <td>http://www.vinicolaaurora.com.br</td>\n",
       "      <td>[2021, 2020, 2019, 2018, 2017, 2016, 2015, 201...</td>\n",
       "    </tr>\n",
       "  </tbody>\n",
       "</table>\n",
       "</div>"
      ],
      "text/plain": [
       "   WineID                         WineName       Type  \\\n",
       "0  100001               Espumante Moscatel  Sparkling   \n",
       "1  100002                       Ancellotta        Red   \n",
       "2  100003               Cabernet Sauvignon        Red   \n",
       "3  100004                   Virtus Moscato      White   \n",
       "4  100005  Maison de Ville Cabernet-Merlot        Red   \n",
       "\n",
       "                       Elaborate                            Grapes  \\\n",
       "0                  Varietal/100%                ['Muscat/Moscato']   \n",
       "1                  Varietal/100%                    ['Ancellotta']   \n",
       "2                  Varietal/100%            ['Cabernet Sauvignon']   \n",
       "3                  Varietal/100%                ['Muscat/Moscato']   \n",
       "4  Assemblage/Bordeaux Red Blend  ['Cabernet Sauvignon', 'Merlot']   \n",
       "\n",
       "                                           Harmonize   ABV           Body  \\\n",
       "0                 ['Pork', 'Rich Fish', 'Shellfish']   7.5  Medium-bodied   \n",
       "1  ['Beef', 'Barbecue', 'Codfish', 'Pasta', 'Pizz...  12.0  Medium-bodied   \n",
       "2                        ['Beef', 'Lamb', 'Poultry']  12.0    Full-bodied   \n",
       "3                                  ['Sweet Dessert']  12.0  Medium-bodied   \n",
       "4           ['Beef', 'Lamb', 'Game Meat', 'Poultry']  11.0    Full-bodied   \n",
       "\n",
       "  Acidity Code Country  RegionID    RegionName  WineryID      WineryName  \\\n",
       "0    High   BR  Brazil      1001  Serra Gaúcha     10001     Casa Perini   \n",
       "1  Medium   BR  Brazil      1001  Serra Gaúcha     10001     Casa Perini   \n",
       "2    High   BR  Brazil      1001  Serra Gaúcha     10002    Castellamare   \n",
       "3  Medium   BR  Brazil      1001  Serra Gaúcha     10003  Monte Paschoal   \n",
       "4  Medium   BR  Brazil      1001  Serra Gaúcha     10000          Aurora   \n",
       "\n",
       "                                  Website  \\\n",
       "0        http://www.vinicolaperini.com.br   \n",
       "1        http://www.vinicolaperini.com.br   \n",
       "2  https://www.emporiocastellamare.com.br   \n",
       "3         http://www.montepaschoal.com.br   \n",
       "4        http://www.vinicolaaurora.com.br   \n",
       "\n",
       "                                            Vintages  \n",
       "0  [2020, 2019, 2018, 2017, 2016, 2015, 2014, 201...  \n",
       "1  [2016, 2015, 2014, 2013, 2012, 2011, 2010, 200...  \n",
       "2  [2021, 2020, 2019, 2018, 2017, 2016, 2015, 201...  \n",
       "3  [2021, 2020, 2019, 2018, 2017, 2016, 2015, 201...  \n",
       "4  [2021, 2020, 2019, 2018, 2017, 2016, 2015, 201...  "
      ]
     },
     "execution_count": 4,
     "metadata": {},
     "output_type": "execute_result"
    }
   ],
   "source": [
    "wine_list.head()"
   ]
  },
  {
   "cell_type": "code",
   "execution_count": 5,
   "id": "cf5d7ec5",
   "metadata": {},
   "outputs": [
    {
     "name": "stderr",
     "output_type": "stream",
     "text": [
      "C:\\Users\\jwatki8\\AppData\\Local\\Temp\\ipykernel_16648\\3750174202.py:1: DtypeWarning: Columns (3) have mixed types. Specify dtype option on import or set low_memory=False.\n",
      "  wine_ratings = pd.read_csv('C:/Users/jwatki8/Downloads/XWines_Full_21M_ratings.csv')\n"
     ]
    }
   ],
   "source": [
    "wine_ratings = pd.read_csv('C:/Users/jwatki8/Downloads/XWines_Full_21M_ratings.csv')"
   ]
  },
  {
   "cell_type": "code",
   "execution_count": 6,
   "id": "ac3fd526",
   "metadata": {},
   "outputs": [
    {
     "name": "stdout",
     "output_type": "stream",
     "text": [
      "<class 'pandas.core.frame.DataFrame'>\n",
      "RangeIndex: 21013536 entries, 0 to 21013535\n",
      "Data columns (total 6 columns):\n",
      " #   Column    Dtype  \n",
      "---  ------    -----  \n",
      " 0   RatingID  int64  \n",
      " 1   UserID    int64  \n",
      " 2   WineID    int64  \n",
      " 3   Vintage   object \n",
      " 4   Rating    float64\n",
      " 5   Date      object \n",
      "dtypes: float64(1), int64(3), object(2)\n",
      "memory usage: 961.9+ MB\n"
     ]
    }
   ],
   "source": [
    "wine_ratings.info()"
   ]
  },
  {
   "cell_type": "code",
   "execution_count": 7,
   "id": "27e27508",
   "metadata": {},
   "outputs": [
    {
     "data": {
      "text/html": [
       "<div>\n",
       "<style scoped>\n",
       "    .dataframe tbody tr th:only-of-type {\n",
       "        vertical-align: middle;\n",
       "    }\n",
       "\n",
       "    .dataframe tbody tr th {\n",
       "        vertical-align: top;\n",
       "    }\n",
       "\n",
       "    .dataframe thead th {\n",
       "        text-align: right;\n",
       "    }\n",
       "</style>\n",
       "<table border=\"1\" class=\"dataframe\">\n",
       "  <thead>\n",
       "    <tr style=\"text-align: right;\">\n",
       "      <th></th>\n",
       "      <th>RatingID</th>\n",
       "      <th>UserID</th>\n",
       "      <th>WineID</th>\n",
       "      <th>Vintage</th>\n",
       "      <th>Rating</th>\n",
       "      <th>Date</th>\n",
       "    </tr>\n",
       "  </thead>\n",
       "  <tbody>\n",
       "    <tr>\n",
       "      <th>0</th>\n",
       "      <td>1</td>\n",
       "      <td>1604441</td>\n",
       "      <td>136103</td>\n",
       "      <td>1950</td>\n",
       "      <td>4.0</td>\n",
       "      <td>2019-10-14 11:20:52</td>\n",
       "    </tr>\n",
       "    <tr>\n",
       "      <th>1</th>\n",
       "      <td>2</td>\n",
       "      <td>1291483</td>\n",
       "      <td>136103</td>\n",
       "      <td>1950</td>\n",
       "      <td>5.0</td>\n",
       "      <td>2019-11-28 03:36:33</td>\n",
       "    </tr>\n",
       "    <tr>\n",
       "      <th>2</th>\n",
       "      <td>3</td>\n",
       "      <td>1070605</td>\n",
       "      <td>104036</td>\n",
       "      <td>1950</td>\n",
       "      <td>5.0</td>\n",
       "      <td>2017-12-28 10:15:55</td>\n",
       "    </tr>\n",
       "    <tr>\n",
       "      <th>3</th>\n",
       "      <td>4</td>\n",
       "      <td>1080181</td>\n",
       "      <td>144864</td>\n",
       "      <td>1950</td>\n",
       "      <td>5.0</td>\n",
       "      <td>2016-06-23 02:16:22</td>\n",
       "    </tr>\n",
       "    <tr>\n",
       "      <th>4</th>\n",
       "      <td>5</td>\n",
       "      <td>1834379</td>\n",
       "      <td>111430</td>\n",
       "      <td>1950</td>\n",
       "      <td>5.0</td>\n",
       "      <td>2021-05-16 17:58:14</td>\n",
       "    </tr>\n",
       "  </tbody>\n",
       "</table>\n",
       "</div>"
      ],
      "text/plain": [
       "   RatingID   UserID  WineID Vintage  Rating                 Date\n",
       "0         1  1604441  136103    1950     4.0  2019-10-14 11:20:52\n",
       "1         2  1291483  136103    1950     5.0  2019-11-28 03:36:33\n",
       "2         3  1070605  104036    1950     5.0  2017-12-28 10:15:55\n",
       "3         4  1080181  144864    1950     5.0  2016-06-23 02:16:22\n",
       "4         5  1834379  111430    1950     5.0  2021-05-16 17:58:14"
      ]
     },
     "execution_count": 7,
     "metadata": {},
     "output_type": "execute_result"
    }
   ],
   "source": [
    "wine_ratings.head()"
   ]
  },
  {
   "cell_type": "code",
   "execution_count": 8,
   "id": "b75361cf",
   "metadata": {},
   "outputs": [
    {
     "data": {
      "text/plain": [
       "(100646, 17)"
      ]
     },
     "execution_count": 8,
     "metadata": {},
     "output_type": "execute_result"
    }
   ],
   "source": [
    "wine_list.shape"
   ]
  },
  {
   "cell_type": "code",
   "execution_count": 9,
   "id": "d4f695b7",
   "metadata": {},
   "outputs": [
    {
     "data": {
      "text/plain": [
       "WineID          int64\n",
       "WineName       object\n",
       "Type           object\n",
       "Elaborate      object\n",
       "Grapes         object\n",
       "Harmonize      object\n",
       "ABV           float64\n",
       "Body           object\n",
       "Acidity        object\n",
       "Code           object\n",
       "Country        object\n",
       "RegionID        int64\n",
       "RegionName     object\n",
       "WineryID        int64\n",
       "WineryName     object\n",
       "Website        object\n",
       "Vintages       object\n",
       "dtype: object"
      ]
     },
     "execution_count": 9,
     "metadata": {},
     "output_type": "execute_result"
    }
   ],
   "source": [
    "wine_list.dtypes"
   ]
  },
  {
   "cell_type": "markdown",
   "id": "d7085b29",
   "metadata": {},
   "source": [
    "The first thing I would like to do with the wine list dataframe is drop the website column as I don’t see this as being of any use."
   ]
  },
  {
   "cell_type": "code",
   "execution_count": 10,
   "id": "bfcbcf20",
   "metadata": {},
   "outputs": [],
   "source": [
    "wine_list=wine_list.drop(columns='Website')"
   ]
  },
  {
   "cell_type": "code",
   "execution_count": 11,
   "id": "11604a80",
   "metadata": {},
   "outputs": [
    {
     "data": {
      "text/plain": [
       "WineID          int64\n",
       "WineName       object\n",
       "Type           object\n",
       "Elaborate      object\n",
       "Grapes         object\n",
       "Harmonize      object\n",
       "ABV           float64\n",
       "Body           object\n",
       "Acidity        object\n",
       "Code           object\n",
       "Country        object\n",
       "RegionID        int64\n",
       "RegionName     object\n",
       "WineryID        int64\n",
       "WineryName     object\n",
       "Vintages       object\n",
       "dtype: object"
      ]
     },
     "execution_count": 11,
     "metadata": {},
     "output_type": "execute_result"
    }
   ],
   "source": [
    "wine_list.dtypes"
   ]
  },
  {
   "cell_type": "markdown",
   "id": "c970aa57",
   "metadata": {},
   "source": [
    "Let’s check for null values"
   ]
  },
  {
   "cell_type": "code",
   "execution_count": 12,
   "id": "758878b8",
   "metadata": {},
   "outputs": [
    {
     "data": {
      "text/plain": [
       "WineID        0\n",
       "WineName      0\n",
       "Type          0\n",
       "Elaborate     0\n",
       "Grapes        0\n",
       "Harmonize     0\n",
       "ABV           0\n",
       "Body          0\n",
       "Acidity       0\n",
       "Code          0\n",
       "Country       0\n",
       "RegionID      0\n",
       "RegionName    0\n",
       "WineryID      0\n",
       "WineryName    0\n",
       "Vintages      0\n",
       "dtype: int64"
      ]
     },
     "execution_count": 12,
     "metadata": {},
     "output_type": "execute_result"
    }
   ],
   "source": [
    "wine_list.isnull().sum()"
   ]
  },
  {
   "cell_type": "markdown",
   "id": "00fa66d9",
   "metadata": {},
   "source": [
    "Now I want to examine the unique values in the different string attribute columns."
   ]
  },
  {
   "cell_type": "code",
   "execution_count": 13,
   "id": "5bf7506c",
   "metadata": {},
   "outputs": [
    {
     "data": {
      "text/plain": [
       "Red             56162\n",
       "White           29196\n",
       "Sparkling        7366\n",
       "Rosé             4401\n",
       "Dessert          2409\n",
       "Dessert/Port     1112\n",
       "Name: Type, dtype: int64"
      ]
     },
     "execution_count": 13,
     "metadata": {},
     "output_type": "execute_result"
    }
   ],
   "source": [
    "wine_list['Type'].value_counts()"
   ]
  },
  {
   "cell_type": "code",
   "execution_count": 14,
   "id": "1c997537",
   "metadata": {},
   "outputs": [
    {
     "data": {
      "text/plain": [
       "Varietal/100%                        72496\n",
       "Assemblage/Blend                     19257\n",
       "Assemblage/Bordeaux Red Blend         4374\n",
       "Assemblage/Rhône Red Blend            1254\n",
       "Assemblage/Valpolicella Red Blend      803\n",
       "Assemblage/Champagne Blend             699\n",
       "Assemblage/Portuguese Red Blend        562\n",
       "Assemblage/Port Blend                  442\n",
       "Assemblage/Provence Rosé Blend         258\n",
       "Assemblage/Meritage Red Blend          104\n",
       "Assemblage/Portuguese White Blend       78\n",
       "Varietal/>75%                           68\n",
       "Assemblage/Bourgogne Red Blend          67\n",
       "Assemblage/Rioja Red Blend              60\n",
       "Assemblage/Cava Blend                   42\n",
       "Assemblage/Tuscan Red Blend             26\n",
       "Assemblage/Priorat Red Blend            15\n",
       "Assemblage/Soave White Blend            14\n",
       "Assemblage/Chianti Red Blend            11\n",
       "Assemblage/Meritage White Blend          6\n",
       "Assemblage/Rioja White Blend             5\n",
       "Assemblage/Bourgogne White Blend         5\n",
       "Name: Elaborate, dtype: int64"
      ]
     },
     "execution_count": 14,
     "metadata": {},
     "output_type": "execute_result"
    }
   ],
   "source": [
    "wine_list['Elaborate'].value_counts()"
   ]
  },
  {
   "cell_type": "code",
   "execution_count": 15,
   "id": "f521e0c4",
   "metadata": {},
   "outputs": [
    {
     "data": {
      "text/plain": [
       "['Chardonnay']                                                                                                                                8702\n",
       "['Pinot Noir']                                                                                                                                7892\n",
       "['Cabernet Sauvignon']                                                                                                                        5532\n",
       "['Syrah/Shiraz']                                                                                                                              3864\n",
       "['Riesling']                                                                                                                                  3641\n",
       "                                                                                                                                              ... \n",
       "['Sangiovese', 'Primitivo', 'Negroamaro']                                                                                                        1\n",
       "['Primitivo', 'Negroamaro', 'Merlot', 'Malvasia']                                                                                                1\n",
       "['Rondinella', 'Corvinone', 'Negrara Veronese', 'Corvina']                                                                                       1\n",
       "['Riesling', 'Tocai Friulano', 'Chardonnay', 'Sauvignon Blanc', 'Trebbiano', 'Cortese', 'Garganega', 'Tocai Italico', 'Trebbiano Toscano']       1\n",
       "['Cabernet Sauvignon', 'Zweigelt', 'St. Laurent']                                                                                                1\n",
       "Name: Grapes, Length: 7107, dtype: int64"
      ]
     },
     "execution_count": 15,
     "metadata": {},
     "output_type": "execute_result"
    }
   ],
   "source": [
    "wine_list['Grapes'].value_counts()"
   ]
  },
  {
   "cell_type": "code",
   "execution_count": 16,
   "id": "57244206",
   "metadata": {},
   "outputs": [
    {
     "data": {
      "text/plain": [
       "['Beef', 'Lamb', 'Game Meat', 'Poultry']                     9575\n",
       "['Beef', 'Veal', 'Game Meat', 'Poultry']                     8548\n",
       "['Pork', 'Rich Fish', 'Vegetarian', 'Poultry']               4538\n",
       "['Beef', 'Pasta', 'Lamb', 'Game Meat']                       4522\n",
       "['Beef', 'Lamb', 'Poultry']                                  4039\n",
       "                                                             ... \n",
       "['Pasta', 'Fruit', 'Chocolate', 'Lean Fish']                    1\n",
       "['Cheese', 'Spiced Fruit Cake', 'Fruit Dessert', 'Meat']        1\n",
       "['Beef', 'Maturated Cheese', 'Sweet Dessert']                   1\n",
       "['Shellfish', 'Pork', 'Appetizer', 'Snack', 'Cured Meat']       1\n",
       "['Fish', 'Seafood']                                             1\n",
       "Name: Harmonize, Length: 900, dtype: int64"
      ]
     },
     "execution_count": 16,
     "metadata": {},
     "output_type": "execute_result"
    }
   ],
   "source": [
    "wine_list['Harmonize'].value_counts()"
   ]
  },
  {
   "cell_type": "code",
   "execution_count": 17,
   "id": "1fc45f08",
   "metadata": {},
   "outputs": [
    {
     "data": {
      "text/plain": [
       "Full-bodied          43881\n",
       "Medium-bodied        34397\n",
       "Very full-bodied     10879\n",
       "Light-bodied         10034\n",
       "Very light-bodied     1455\n",
       "Name: Body, dtype: int64"
      ]
     },
     "execution_count": 17,
     "metadata": {},
     "output_type": "execute_result"
    }
   ],
   "source": [
    "wine_list['Body'].value_counts()"
   ]
  },
  {
   "cell_type": "code",
   "execution_count": 18,
   "id": "c5ed50ba",
   "metadata": {},
   "outputs": [
    {
     "data": {
      "text/plain": [
       "High      79394\n",
       "Medium    17842\n",
       "Low        3410\n",
       "Name: Acidity, dtype: int64"
      ]
     },
     "execution_count": 18,
     "metadata": {},
     "output_type": "execute_result"
    }
   ],
   "source": [
    "wine_list['Acidity'].value_counts()"
   ]
  },
  {
   "cell_type": "markdown",
   "id": "8ef5ee82",
   "metadata": {},
   "source": [
    "Next let’s check the wine Id variable for duplicates."
   ]
  },
  {
   "cell_type": "code",
   "execution_count": 19,
   "id": "9c93ec3d",
   "metadata": {},
   "outputs": [
    {
     "data": {
      "text/plain": [
       "100001    1\n",
       "167210    1\n",
       "167208    1\n",
       "167207    1\n",
       "167206    1\n",
       "         ..\n",
       "133568    1\n",
       "133567    1\n",
       "133566    1\n",
       "133565    1\n",
       "200795    1\n",
       "Name: WineID, Length: 100646, dtype: int64"
      ]
     },
     "execution_count": 19,
     "metadata": {},
     "output_type": "execute_result"
    }
   ],
   "source": [
    "wine_list['WineID'].value_counts()"
   ]
  },
  {
   "cell_type": "code",
   "execution_count": 20,
   "id": "dcbea1f0",
   "metadata": {},
   "outputs": [
    {
     "data": {
      "text/plain": [
       "1"
      ]
     },
     "execution_count": 20,
     "metadata": {},
     "output_type": "execute_result"
    }
   ],
   "source": [
    "wine_list['WineID'].value_counts().max()"
   ]
  },
  {
   "cell_type": "markdown",
   "id": "1873b27f",
   "metadata": {},
   "source": [
    "It looks like the ids for the recipes are all unique."
   ]
  },
  {
   "cell_type": "markdown",
   "id": "f4622c1b",
   "metadata": {},
   "source": [
    "Let’s examine the wine rating dataframe a little closer."
   ]
  },
  {
   "cell_type": "code",
   "execution_count": 21,
   "id": "777b28b0",
   "metadata": {},
   "outputs": [
    {
     "data": {
      "text/plain": [
       "RatingID      int64\n",
       "UserID        int64\n",
       "WineID        int64\n",
       "Vintage      object\n",
       "Rating      float64\n",
       "Date         object\n",
       "dtype: object"
      ]
     },
     "execution_count": 21,
     "metadata": {},
     "output_type": "execute_result"
    }
   ],
   "source": [
    "wine_ratings.dtypes"
   ]
  },
  {
   "cell_type": "markdown",
   "id": "41f84d6c",
   "metadata": {},
   "source": [
    "Once again we will check for null values."
   ]
  },
  {
   "cell_type": "code",
   "execution_count": 22,
   "id": "6d3c9fb8",
   "metadata": {},
   "outputs": [
    {
     "data": {
      "text/plain": [
       "RatingID    0\n",
       "UserID      0\n",
       "WineID      0\n",
       "Vintage     0\n",
       "Rating      0\n",
       "Date        0\n",
       "dtype: int64"
      ]
     },
     "execution_count": 22,
     "metadata": {},
     "output_type": "execute_result"
    }
   ],
   "source": [
    "wine_ratings.isnull().sum()"
   ]
  },
  {
   "cell_type": "code",
   "execution_count": 23,
   "id": "161d6861",
   "metadata": {},
   "outputs": [
    {
     "data": {
      "text/plain": [
       "2016    2281547\n",
       "2015    2263576\n",
       "2017    2099372\n",
       "2018    1943550\n",
       "2014    1897335\n",
       "         ...   \n",
       "1950        171\n",
       "1952        164\n",
       "1956         62\n",
       "1954         55\n",
       "1951         30\n",
       "Name: Vintage, Length: 74, dtype: int64"
      ]
     },
     "execution_count": 23,
     "metadata": {},
     "output_type": "execute_result"
    }
   ],
   "source": [
    "wine_ratings['Vintage'].value_counts()"
   ]
  },
  {
   "cell_type": "markdown",
   "id": "71645e36",
   "metadata": {},
   "source": [
    "Now let’s take a look at the value range for the ratings columns in this dataframe."
   ]
  },
  {
   "cell_type": "code",
   "execution_count": 24,
   "id": "f8eef4cb",
   "metadata": {},
   "outputs": [
    {
     "name": "stdout",
     "output_type": "stream",
     "text": [
      "1.0\n",
      "5.0\n"
     ]
    }
   ],
   "source": [
    "print(wine_ratings['Rating'].min())\n",
    "print(wine_ratings['Rating'].max())"
   ]
  },
  {
   "cell_type": "code",
   "execution_count": 25,
   "id": "0dc88bab",
   "metadata": {},
   "outputs": [
    {
     "data": {
      "text/plain": [
       "155289    27415\n",
       "179010    23626\n",
       "179011    21216\n",
       "111391    20913\n",
       "167418    20817\n",
       "          ...  \n",
       "200675        5\n",
       "200771        5\n",
       "191650        5\n",
       "111109        5\n",
       "154991        5\n",
       "Name: WineID, Length: 100646, dtype: int64"
      ]
     },
     "execution_count": 25,
     "metadata": {},
     "output_type": "execute_result"
    }
   ],
   "source": [
    "wine_ratings['WineID'].value_counts()"
   ]
  },
  {
   "cell_type": "markdown",
   "id": "0497bc31",
   "metadata": {},
   "source": [
    "I would like to get the mean of the rating column grouped by Wine ID. In other words find the mean of the ratings for each recipe and then apply it to the recipe data frame by id#. Looking at the value counts for the Wine ID column in both data frames I can see that they contain the same number of unique values in each column. This mean that there is at least some rating data for all recipe ids. Now let’s calculate the mean rating."
   ]
  },
  {
   "cell_type": "code",
   "execution_count": 26,
   "id": "70455f22",
   "metadata": {},
   "outputs": [],
   "source": [
    "wine_ratings['rating_mean'] = wine_ratings['Rating'].groupby(wine_ratings['WineID']).transform('mean')"
   ]
  },
  {
   "cell_type": "code",
   "execution_count": 27,
   "id": "72b8f983",
   "metadata": {},
   "outputs": [
    {
     "data": {
      "text/html": [
       "<div>\n",
       "<style scoped>\n",
       "    .dataframe tbody tr th:only-of-type {\n",
       "        vertical-align: middle;\n",
       "    }\n",
       "\n",
       "    .dataframe tbody tr th {\n",
       "        vertical-align: top;\n",
       "    }\n",
       "\n",
       "    .dataframe thead th {\n",
       "        text-align: right;\n",
       "    }\n",
       "</style>\n",
       "<table border=\"1\" class=\"dataframe\">\n",
       "  <thead>\n",
       "    <tr style=\"text-align: right;\">\n",
       "      <th></th>\n",
       "      <th>RatingID</th>\n",
       "      <th>UserID</th>\n",
       "      <th>WineID</th>\n",
       "      <th>Vintage</th>\n",
       "      <th>Rating</th>\n",
       "      <th>Date</th>\n",
       "      <th>rating_mean</th>\n",
       "    </tr>\n",
       "  </thead>\n",
       "  <tbody>\n",
       "    <tr>\n",
       "      <th>0</th>\n",
       "      <td>1</td>\n",
       "      <td>1604441</td>\n",
       "      <td>136103</td>\n",
       "      <td>1950</td>\n",
       "      <td>4.0</td>\n",
       "      <td>2019-10-14 11:20:52</td>\n",
       "      <td>3.611725</td>\n",
       "    </tr>\n",
       "    <tr>\n",
       "      <th>1</th>\n",
       "      <td>2</td>\n",
       "      <td>1291483</td>\n",
       "      <td>136103</td>\n",
       "      <td>1950</td>\n",
       "      <td>5.0</td>\n",
       "      <td>2019-11-28 03:36:33</td>\n",
       "      <td>3.611725</td>\n",
       "    </tr>\n",
       "    <tr>\n",
       "      <th>2</th>\n",
       "      <td>3</td>\n",
       "      <td>1070605</td>\n",
       "      <td>104036</td>\n",
       "      <td>1950</td>\n",
       "      <td>5.0</td>\n",
       "      <td>2017-12-28 10:15:55</td>\n",
       "      <td>4.551546</td>\n",
       "    </tr>\n",
       "    <tr>\n",
       "      <th>3</th>\n",
       "      <td>4</td>\n",
       "      <td>1080181</td>\n",
       "      <td>144864</td>\n",
       "      <td>1950</td>\n",
       "      <td>5.0</td>\n",
       "      <td>2016-06-23 02:16:22</td>\n",
       "      <td>3.746667</td>\n",
       "    </tr>\n",
       "    <tr>\n",
       "      <th>4</th>\n",
       "      <td>5</td>\n",
       "      <td>1834379</td>\n",
       "      <td>111430</td>\n",
       "      <td>1950</td>\n",
       "      <td>5.0</td>\n",
       "      <td>2021-05-16 17:58:14</td>\n",
       "      <td>4.773632</td>\n",
       "    </tr>\n",
       "  </tbody>\n",
       "</table>\n",
       "</div>"
      ],
      "text/plain": [
       "   RatingID   UserID  WineID Vintage  Rating                 Date  rating_mean\n",
       "0         1  1604441  136103    1950     4.0  2019-10-14 11:20:52     3.611725\n",
       "1         2  1291483  136103    1950     5.0  2019-11-28 03:36:33     3.611725\n",
       "2         3  1070605  104036    1950     5.0  2017-12-28 10:15:55     4.551546\n",
       "3         4  1080181  144864    1950     5.0  2016-06-23 02:16:22     3.746667\n",
       "4         5  1834379  111430    1950     5.0  2021-05-16 17:58:14     4.773632"
      ]
     },
     "execution_count": 27,
     "metadata": {},
     "output_type": "execute_result"
    }
   ],
   "source": [
    "wine_ratings.head()"
   ]
  },
  {
   "cell_type": "code",
   "execution_count": 28,
   "id": "10fc3110",
   "metadata": {},
   "outputs": [
    {
     "data": {
      "text/html": [
       "<div>\n",
       "<style scoped>\n",
       "    .dataframe tbody tr th:only-of-type {\n",
       "        vertical-align: middle;\n",
       "    }\n",
       "\n",
       "    .dataframe tbody tr th {\n",
       "        vertical-align: top;\n",
       "    }\n",
       "\n",
       "    .dataframe thead th {\n",
       "        text-align: right;\n",
       "    }\n",
       "</style>\n",
       "<table border=\"1\" class=\"dataframe\">\n",
       "  <thead>\n",
       "    <tr style=\"text-align: right;\">\n",
       "      <th></th>\n",
       "      <th>RatingID</th>\n",
       "      <th>UserID</th>\n",
       "      <th>WineID</th>\n",
       "      <th>Vintage</th>\n",
       "      <th>Rating</th>\n",
       "      <th>Date</th>\n",
       "      <th>rating_mean</th>\n",
       "    </tr>\n",
       "  </thead>\n",
       "  <tbody>\n",
       "    <tr>\n",
       "      <th>21013531</th>\n",
       "      <td>21013532</td>\n",
       "      <td>2015383</td>\n",
       "      <td>113302</td>\n",
       "      <td>N.V.</td>\n",
       "      <td>3.0</td>\n",
       "      <td>2019-02-16 14:15:48</td>\n",
       "      <td>3.778169</td>\n",
       "    </tr>\n",
       "    <tr>\n",
       "      <th>21013532</th>\n",
       "      <td>21013533</td>\n",
       "      <td>1868739</td>\n",
       "      <td>111440</td>\n",
       "      <td>N.V.</td>\n",
       "      <td>2.0</td>\n",
       "      <td>2018-09-30 16:47:05</td>\n",
       "      <td>4.203804</td>\n",
       "    </tr>\n",
       "    <tr>\n",
       "      <th>21013533</th>\n",
       "      <td>21013534</td>\n",
       "      <td>1402947</td>\n",
       "      <td>142467</td>\n",
       "      <td>N.V.</td>\n",
       "      <td>3.0</td>\n",
       "      <td>2021-01-29 19:21:14</td>\n",
       "      <td>3.633094</td>\n",
       "    </tr>\n",
       "    <tr>\n",
       "      <th>21013534</th>\n",
       "      <td>21013535</td>\n",
       "      <td>1360350</td>\n",
       "      <td>111440</td>\n",
       "      <td>N.V.</td>\n",
       "      <td>4.0</td>\n",
       "      <td>2021-07-26 14:02:14</td>\n",
       "      <td>4.203804</td>\n",
       "    </tr>\n",
       "    <tr>\n",
       "      <th>21013535</th>\n",
       "      <td>21013536</td>\n",
       "      <td>1192603</td>\n",
       "      <td>111393</td>\n",
       "      <td>N.V.</td>\n",
       "      <td>5.0</td>\n",
       "      <td>2016-11-17 04:48:43</td>\n",
       "      <td>4.261586</td>\n",
       "    </tr>\n",
       "  </tbody>\n",
       "</table>\n",
       "</div>"
      ],
      "text/plain": [
       "          RatingID   UserID  WineID Vintage  Rating                 Date  \\\n",
       "21013531  21013532  2015383  113302    N.V.     3.0  2019-02-16 14:15:48   \n",
       "21013532  21013533  1868739  111440    N.V.     2.0  2018-09-30 16:47:05   \n",
       "21013533  21013534  1402947  142467    N.V.     3.0  2021-01-29 19:21:14   \n",
       "21013534  21013535  1360350  111440    N.V.     4.0  2021-07-26 14:02:14   \n",
       "21013535  21013536  1192603  111393    N.V.     5.0  2016-11-17 04:48:43   \n",
       "\n",
       "          rating_mean  \n",
       "21013531     3.778169  \n",
       "21013532     4.203804  \n",
       "21013533     3.633094  \n",
       "21013534     4.203804  \n",
       "21013535     4.261586  "
      ]
     },
     "execution_count": 28,
     "metadata": {},
     "output_type": "execute_result"
    }
   ],
   "source": [
    "wine_ratings.tail()"
   ]
  },
  {
   "cell_type": "markdown",
   "id": "81fe20cf",
   "metadata": {},
   "source": [
    "Let’s look at the minimum and maximum values for our new rating mean column."
   ]
  },
  {
   "cell_type": "code",
   "execution_count": 29,
   "id": "8024726f",
   "metadata": {},
   "outputs": [
    {
     "name": "stdout",
     "output_type": "stream",
     "text": [
      "1.25\n",
      "5.0\n"
     ]
    }
   ],
   "source": [
    "print(wine_ratings['rating_mean'].min())\n",
    "print(wine_ratings['rating_mean'].max())\n"
   ]
  },
  {
   "cell_type": "markdown",
   "id": "365dda3c",
   "metadata": {},
   "source": [
    "Next let’s take a look at some of the user information. Let’s see how many unique raters we have out of all of our ratings."
   ]
  },
  {
   "cell_type": "code",
   "execution_count": 30,
   "id": "bc0c1e1a",
   "metadata": {},
   "outputs": [
    {
     "data": {
      "text/plain": [
       "1056079"
      ]
     },
     "execution_count": 30,
     "metadata": {},
     "output_type": "execute_result"
    }
   ],
   "source": [
    "wine_ratings['UserID'].nunique()"
   ]
  },
  {
   "cell_type": "markdown",
   "id": "40248e8a",
   "metadata": {},
   "source": [
    "Our dataset contains 1,056,079 unique raters. Let’s examine further."
   ]
  },
  {
   "cell_type": "code",
   "execution_count": 31,
   "id": "5e247ca7",
   "metadata": {},
   "outputs": [
    {
     "name": "stdout",
     "output_type": "stream",
     "text": [
      "2986\n"
     ]
    }
   ],
   "source": [
    "print(wine_ratings['UserID'].value_counts().max())"
   ]
  },
  {
   "cell_type": "code",
   "execution_count": 32,
   "id": "51958af5",
   "metadata": {},
   "outputs": [
    {
     "data": {
      "text/plain": [
       "1084433    2986\n",
       "1034989    2979\n",
       "1070878    2613\n",
       "1048267    2597\n",
       "1160536    2392\n",
       "1000272    2309\n",
       "1006657    2307\n",
       "1019610    2291\n",
       "1107271    2225\n",
       "1035125    2101\n",
       "1163129    2059\n",
       "1165081    2004\n",
       "1169598    1995\n",
       "1165941    1923\n",
       "1008661    1909\n",
       "1028358    1859\n",
       "1089420    1804\n",
       "1878271    1800\n",
       "1217756    1787\n",
       "1151866    1721\n",
       "Name: UserID, dtype: int64"
      ]
     },
     "execution_count": 32,
     "metadata": {},
     "output_type": "execute_result"
    }
   ],
   "source": [
    "wine_ratings['UserID'].value_counts().head(20)"
   ]
  },
  {
   "cell_type": "code",
   "execution_count": 33,
   "id": "255c291f",
   "metadata": {},
   "outputs": [
    {
     "data": {
      "text/plain": [
       "2007445    5\n",
       "1376871    5\n",
       "1831028    5\n",
       "1161762    5\n",
       "1524599    5\n",
       "1331122    5\n",
       "2028527    5\n",
       "1921392    5\n",
       "1347527    5\n",
       "1415002    5\n",
       "1912519    5\n",
       "1721488    5\n",
       "1495745    5\n",
       "2008918    5\n",
       "1010653    5\n",
       "1808349    5\n",
       "1301644    5\n",
       "1344498    5\n",
       "1407463    5\n",
       "1064572    5\n",
       "Name: UserID, dtype: int64"
      ]
     },
     "execution_count": 33,
     "metadata": {},
     "output_type": "execute_result"
    }
   ],
   "source": [
    "wine_ratings['UserID'].value_counts().tail(20)"
   ]
  },
  {
   "cell_type": "markdown",
   "id": "57aa0253",
   "metadata": {},
   "source": [
    "It looks like the maximum number of times someone reviewed a wine was 2986 while the minimum number of times someone rated wine was 5. This means that we have no one time raters in this dataset and a good amount of high frequency raters. "
   ]
  },
  {
   "cell_type": "markdown",
   "id": "8ecc8ac7",
   "metadata": {},
   "source": [
    "Now we are dealing with two fairly clean dataframes. We dropped a few items and created some new variables. I think it is too early to combine the two data frames as I would like to examine more relationships and correlations during EDA that may lead to more variables being created."
   ]
  },
  {
   "cell_type": "code",
   "execution_count": 32,
   "id": "ffbf8183",
   "metadata": {},
   "outputs": [
    {
     "name": "stdout",
     "output_type": "stream",
     "text": [
      "Writing file.  \"C:/Users/jwatki8/Documents/Data Science Program information/My Capstone project\\wine_list.csv\"\n"
     ]
    }
   ],
   "source": [
    "datapath ='C:/Users/jwatki8/Documents/Data Science Program information/My Capstone project'\n",
    "save_file(wine_list,'wine_list.csv', datapath)"
   ]
  },
  {
   "cell_type": "code",
   "execution_count": 33,
   "id": "5164efdc",
   "metadata": {},
   "outputs": [
    {
     "name": "stdout",
     "output_type": "stream",
     "text": [
      "Writing file.  \"C:/Users/jwatki8/Documents/Data Science Program information/My Capstone project\\wine_ratings.csv\"\n"
     ]
    }
   ],
   "source": [
    "datapath ='C:/Users/jwatki8/Documents/Data Science Program information/My Capstone project'\n",
    "save_file(wine_ratings,'wine_ratings.csv', datapath)"
   ]
  },
  {
   "cell_type": "code",
   "execution_count": null,
   "id": "1f99e152",
   "metadata": {},
   "outputs": [],
   "source": []
  }
 ],
 "metadata": {
  "kernelspec": {
   "display_name": "Python 3 (ipykernel)",
   "language": "python",
   "name": "python3"
  },
  "language_info": {
   "codemirror_mode": {
    "name": "ipython",
    "version": 3
   },
   "file_extension": ".py",
   "mimetype": "text/x-python",
   "name": "python",
   "nbconvert_exporter": "python",
   "pygments_lexer": "ipython3",
   "version": "3.9.13"
  }
 },
 "nbformat": 4,
 "nbformat_minor": 5
}
