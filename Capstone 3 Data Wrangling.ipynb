{
 "cells": [
  {
   "cell_type": "markdown",
   "id": "0a80ea6d",
   "metadata": {},
   "source": [
    "# Capstone 3 Data Wrangling- Jessica Williams"
   ]
  },
  {
   "cell_type": "code",
   "execution_count": 1,
   "id": "97292899",
   "metadata": {},
   "outputs": [],
   "source": [
    "import pandas as pd\n",
    "import numpy as np\n",
    "import os\n",
    "import matplotlib.pyplot as plt\n",
    "import seaborn as sns\n",
    "import sklearn\n",
    "from sklearn.feature_extraction.text import CountVectorizer\n",
    "import spacy\n",
    "from yellowbrick.text import FreqDistVisualizer\n",
    "from pathlib import Path\n",
    "nlp=spacy.load('en_core_web_sm')\n",
    "from textblob import TextBlob, Word, Blobber\n",
    "\n",
    "from sb_utils import save_file"
   ]
  },
  {
   "cell_type": "markdown",
   "id": "c466f43d",
   "metadata": {},
   "source": [
    "Lets take a look at both dataframes."
   ]
  },
  {
   "cell_type": "code",
   "execution_count": 2,
   "id": "7f073820",
   "metadata": {},
   "outputs": [],
   "source": [
    "wine_list = pd.read_csv('C:/Users/jwatki8/Downloads/XWines_Test_100_wines.csv')"
   ]
  },
  {
   "cell_type": "code",
   "execution_count": 3,
   "id": "82fb4a92",
   "metadata": {},
   "outputs": [
    {
     "name": "stdout",
     "output_type": "stream",
     "text": [
      "<class 'pandas.core.frame.DataFrame'>\n",
      "RangeIndex: 100 entries, 0 to 99\n",
      "Data columns (total 17 columns):\n",
      " #   Column      Non-Null Count  Dtype  \n",
      "---  ------      --------------  -----  \n",
      " 0   WineID      100 non-null    int64  \n",
      " 1   WineName    100 non-null    object \n",
      " 2   Type        100 non-null    object \n",
      " 3   Elaborate   100 non-null    object \n",
      " 4   Grapes      100 non-null    object \n",
      " 5   Harmonize   100 non-null    object \n",
      " 6   ABV         100 non-null    float64\n",
      " 7   Body        100 non-null    object \n",
      " 8   Acidity     100 non-null    object \n",
      " 9   Code        100 non-null    object \n",
      " 10  Country     100 non-null    object \n",
      " 11  RegionID    100 non-null    int64  \n",
      " 12  RegionName  100 non-null    object \n",
      " 13  WineryID    100 non-null    int64  \n",
      " 14  WineryName  100 non-null    object \n",
      " 15  Website     100 non-null    object \n",
      " 16  Vintages    100 non-null    object \n",
      "dtypes: float64(1), int64(3), object(13)\n",
      "memory usage: 13.4+ KB\n"
     ]
    }
   ],
   "source": [
    "wine_list.info()"
   ]
  },
  {
   "cell_type": "code",
   "execution_count": 4,
   "id": "50f757a1",
   "metadata": {},
   "outputs": [
    {
     "data": {
      "text/html": [
       "<div>\n",
       "<style scoped>\n",
       "    .dataframe tbody tr th:only-of-type {\n",
       "        vertical-align: middle;\n",
       "    }\n",
       "\n",
       "    .dataframe tbody tr th {\n",
       "        vertical-align: top;\n",
       "    }\n",
       "\n",
       "    .dataframe thead th {\n",
       "        text-align: right;\n",
       "    }\n",
       "</style>\n",
       "<table border=\"1\" class=\"dataframe\">\n",
       "  <thead>\n",
       "    <tr style=\"text-align: right;\">\n",
       "      <th></th>\n",
       "      <th>WineID</th>\n",
       "      <th>WineName</th>\n",
       "      <th>Type</th>\n",
       "      <th>Elaborate</th>\n",
       "      <th>Grapes</th>\n",
       "      <th>Harmonize</th>\n",
       "      <th>ABV</th>\n",
       "      <th>Body</th>\n",
       "      <th>Acidity</th>\n",
       "      <th>Code</th>\n",
       "      <th>Country</th>\n",
       "      <th>RegionID</th>\n",
       "      <th>RegionName</th>\n",
       "      <th>WineryID</th>\n",
       "      <th>WineryName</th>\n",
       "      <th>Website</th>\n",
       "      <th>Vintages</th>\n",
       "    </tr>\n",
       "  </thead>\n",
       "  <tbody>\n",
       "    <tr>\n",
       "      <th>0</th>\n",
       "      <td>100062</td>\n",
       "      <td>Origem Merlot</td>\n",
       "      <td>Red</td>\n",
       "      <td>Varietal/100%</td>\n",
       "      <td>['Merlot']</td>\n",
       "      <td>['Beef', 'Lamb', 'Veal', 'Grilled', 'Pizza', '...</td>\n",
       "      <td>13.0</td>\n",
       "      <td>Full-bodied</td>\n",
       "      <td>Medium</td>\n",
       "      <td>BR</td>\n",
       "      <td>Brazil</td>\n",
       "      <td>1002</td>\n",
       "      <td>Vale dos Vinhedos</td>\n",
       "      <td>10014</td>\n",
       "      <td>Casa Valduga</td>\n",
       "      <td>http://www.casavalduga.com.br</td>\n",
       "      <td>[2020, 2019, 2018, 2017, 2016, 2015, 2014, 201...</td>\n",
       "    </tr>\n",
       "    <tr>\n",
       "      <th>1</th>\n",
       "      <td>100191</td>\n",
       "      <td>Reserva Chardonnay</td>\n",
       "      <td>White</td>\n",
       "      <td>Varietal/100%</td>\n",
       "      <td>['Chardonnay']</td>\n",
       "      <td>['Rich Fish', 'Seafood', 'Risotto', 'Poultry',...</td>\n",
       "      <td>13.0</td>\n",
       "      <td>Medium-bodied</td>\n",
       "      <td>Medium</td>\n",
       "      <td>BR</td>\n",
       "      <td>Brazil</td>\n",
       "      <td>1001</td>\n",
       "      <td>Serra Gaúcha</td>\n",
       "      <td>10000</td>\n",
       "      <td>Aurora</td>\n",
       "      <td>http://www.vinicolaaurora.com.br</td>\n",
       "      <td>[2021, 2020, 2019, 2018, 2017, 2016, 2015, 201...</td>\n",
       "    </tr>\n",
       "    <tr>\n",
       "      <th>2</th>\n",
       "      <td>101847</td>\n",
       "      <td>Dona Antonia Porto Reserva Tawny</td>\n",
       "      <td>Dessert/Port</td>\n",
       "      <td>Assemblage/Blend</td>\n",
       "      <td>['Touriga Nacional', 'Touriga Franca', 'Tinta ...</td>\n",
       "      <td>['Appetizer', 'Sweet Dessert', 'Blue Cheese']</td>\n",
       "      <td>20.0</td>\n",
       "      <td>Very full-bodied</td>\n",
       "      <td>High</td>\n",
       "      <td>PT</td>\n",
       "      <td>Portugal</td>\n",
       "      <td>1031</td>\n",
       "      <td>Porto</td>\n",
       "      <td>10674</td>\n",
       "      <td>Porto Ferreira</td>\n",
       "      <td>https://sogrape.com/pt/brand/porto-ferreira</td>\n",
       "      <td>[2021, 2020, 2019, 2018, 2017, 2016, 2015, 201...</td>\n",
       "    </tr>\n",
       "    <tr>\n",
       "      <th>3</th>\n",
       "      <td>102055</td>\n",
       "      <td>Fine Ruby Port</td>\n",
       "      <td>Dessert/Port</td>\n",
       "      <td>Assemblage/Blend</td>\n",
       "      <td>['Tinta Amarela', 'Tinta Barroca', 'Touriga Fr...</td>\n",
       "      <td>['Sweet Dessert', 'Cake', 'Fruit', 'Soft Cheese']</td>\n",
       "      <td>19.5</td>\n",
       "      <td>Very full-bodied</td>\n",
       "      <td>Medium</td>\n",
       "      <td>PT</td>\n",
       "      <td>Portugal</td>\n",
       "      <td>1031</td>\n",
       "      <td>Porto</td>\n",
       "      <td>10703</td>\n",
       "      <td>Sandeman</td>\n",
       "      <td>http://www.sandeman.com</td>\n",
       "      <td>[2020, 2019, 2018, 2017, 2016, 2015, 2014, 201...</td>\n",
       "    </tr>\n",
       "    <tr>\n",
       "      <th>4</th>\n",
       "      <td>102079</td>\n",
       "      <td>Maré Alta</td>\n",
       "      <td>White</td>\n",
       "      <td>Assemblage/Blend</td>\n",
       "      <td>['Loureiro', 'Alvarinho', 'Arinto']</td>\n",
       "      <td>['Fish', 'Shellfish', 'Vegetarian', 'Appetizer...</td>\n",
       "      <td>10.0</td>\n",
       "      <td>Very light-bodied</td>\n",
       "      <td>High</td>\n",
       "      <td>PT</td>\n",
       "      <td>Portugal</td>\n",
       "      <td>1034</td>\n",
       "      <td>Vinho Verde</td>\n",
       "      <td>11486</td>\n",
       "      <td>Fonte Pequena</td>\n",
       "      <td>https://www.casadafontepequena.pt</td>\n",
       "      <td>[2022, 2021, 2020, 2019, 2018, 2017, 2016, 201...</td>\n",
       "    </tr>\n",
       "  </tbody>\n",
       "</table>\n",
       "</div>"
      ],
      "text/plain": [
       "   WineID                          WineName          Type         Elaborate  \\\n",
       "0  100062                     Origem Merlot           Red     Varietal/100%   \n",
       "1  100191                Reserva Chardonnay         White     Varietal/100%   \n",
       "2  101847  Dona Antonia Porto Reserva Tawny  Dessert/Port  Assemblage/Blend   \n",
       "3  102055                    Fine Ruby Port  Dessert/Port  Assemblage/Blend   \n",
       "4  102079                         Maré Alta         White  Assemblage/Blend   \n",
       "\n",
       "                                              Grapes  \\\n",
       "0                                         ['Merlot']   \n",
       "1                                     ['Chardonnay']   \n",
       "2  ['Touriga Nacional', 'Touriga Franca', 'Tinta ...   \n",
       "3  ['Tinta Amarela', 'Tinta Barroca', 'Touriga Fr...   \n",
       "4                ['Loureiro', 'Alvarinho', 'Arinto']   \n",
       "\n",
       "                                           Harmonize   ABV               Body  \\\n",
       "0  ['Beef', 'Lamb', 'Veal', 'Grilled', 'Pizza', '...  13.0        Full-bodied   \n",
       "1  ['Rich Fish', 'Seafood', 'Risotto', 'Poultry',...  13.0      Medium-bodied   \n",
       "2      ['Appetizer', 'Sweet Dessert', 'Blue Cheese']  20.0   Very full-bodied   \n",
       "3  ['Sweet Dessert', 'Cake', 'Fruit', 'Soft Cheese']  19.5   Very full-bodied   \n",
       "4  ['Fish', 'Shellfish', 'Vegetarian', 'Appetizer...  10.0  Very light-bodied   \n",
       "\n",
       "  Acidity Code   Country  RegionID         RegionName  WineryID  \\\n",
       "0  Medium   BR    Brazil      1002  Vale dos Vinhedos     10014   \n",
       "1  Medium   BR    Brazil      1001       Serra Gaúcha     10000   \n",
       "2    High   PT  Portugal      1031              Porto     10674   \n",
       "3  Medium   PT  Portugal      1031              Porto     10703   \n",
       "4    High   PT  Portugal      1034        Vinho Verde     11486   \n",
       "\n",
       "       WineryName                                      Website  \\\n",
       "0    Casa Valduga                http://www.casavalduga.com.br   \n",
       "1          Aurora             http://www.vinicolaaurora.com.br   \n",
       "2  Porto Ferreira  https://sogrape.com/pt/brand/porto-ferreira   \n",
       "3        Sandeman                      http://www.sandeman.com   \n",
       "4   Fonte Pequena            https://www.casadafontepequena.pt   \n",
       "\n",
       "                                            Vintages  \n",
       "0  [2020, 2019, 2018, 2017, 2016, 2015, 2014, 201...  \n",
       "1  [2021, 2020, 2019, 2018, 2017, 2016, 2015, 201...  \n",
       "2  [2021, 2020, 2019, 2018, 2017, 2016, 2015, 201...  \n",
       "3  [2020, 2019, 2018, 2017, 2016, 2015, 2014, 201...  \n",
       "4  [2022, 2021, 2020, 2019, 2018, 2017, 2016, 201...  "
      ]
     },
     "execution_count": 4,
     "metadata": {},
     "output_type": "execute_result"
    }
   ],
   "source": [
    "wine_list.head()"
   ]
  },
  {
   "cell_type": "code",
   "execution_count": 5,
   "id": "d36da818",
   "metadata": {},
   "outputs": [],
   "source": [
    "wine_ratings = pd.read_csv('C:/Users/jwatki8/Downloads/XWines_Test_1K_ratings.csv')"
   ]
  },
  {
   "cell_type": "code",
   "execution_count": 6,
   "id": "ac3fd526",
   "metadata": {},
   "outputs": [
    {
     "name": "stdout",
     "output_type": "stream",
     "text": [
      "<class 'pandas.core.frame.DataFrame'>\n",
      "RangeIndex: 1000 entries, 0 to 999\n",
      "Data columns (total 6 columns):\n",
      " #   Column    Non-Null Count  Dtype  \n",
      "---  ------    --------------  -----  \n",
      " 0   RatingID  1000 non-null   int64  \n",
      " 1   UserID    1000 non-null   int64  \n",
      " 2   WineID    1000 non-null   int64  \n",
      " 3   Vintage   1000 non-null   object \n",
      " 4   Rating    1000 non-null   float64\n",
      " 5   Date      1000 non-null   object \n",
      "dtypes: float64(1), int64(3), object(2)\n",
      "memory usage: 47.0+ KB\n"
     ]
    }
   ],
   "source": [
    "wine_ratings.info()"
   ]
  },
  {
   "cell_type": "code",
   "execution_count": 7,
   "id": "27e27508",
   "metadata": {},
   "outputs": [
    {
     "data": {
      "text/html": [
       "<div>\n",
       "<style scoped>\n",
       "    .dataframe tbody tr th:only-of-type {\n",
       "        vertical-align: middle;\n",
       "    }\n",
       "\n",
       "    .dataframe tbody tr th {\n",
       "        vertical-align: top;\n",
       "    }\n",
       "\n",
       "    .dataframe thead th {\n",
       "        text-align: right;\n",
       "    }\n",
       "</style>\n",
       "<table border=\"1\" class=\"dataframe\">\n",
       "  <thead>\n",
       "    <tr style=\"text-align: right;\">\n",
       "      <th></th>\n",
       "      <th>RatingID</th>\n",
       "      <th>UserID</th>\n",
       "      <th>WineID</th>\n",
       "      <th>Vintage</th>\n",
       "      <th>Rating</th>\n",
       "      <th>Date</th>\n",
       "    </tr>\n",
       "  </thead>\n",
       "  <tbody>\n",
       "    <tr>\n",
       "      <th>0</th>\n",
       "      <td>3211</td>\n",
       "      <td>1209683</td>\n",
       "      <td>111478</td>\n",
       "      <td>1959</td>\n",
       "      <td>4.5</td>\n",
       "      <td>2016-08-08 00:50:22</td>\n",
       "    </tr>\n",
       "    <tr>\n",
       "      <th>1</th>\n",
       "      <td>27878</td>\n",
       "      <td>1209980</td>\n",
       "      <td>111478</td>\n",
       "      <td>1975</td>\n",
       "      <td>4.0</td>\n",
       "      <td>2018-08-12 17:09:39</td>\n",
       "    </tr>\n",
       "    <tr>\n",
       "      <th>2</th>\n",
       "      <td>31227</td>\n",
       "      <td>1258705</td>\n",
       "      <td>111478</td>\n",
       "      <td>1975</td>\n",
       "      <td>5.0</td>\n",
       "      <td>2014-11-16 19:52:38</td>\n",
       "    </tr>\n",
       "    <tr>\n",
       "      <th>3</th>\n",
       "      <td>41946</td>\n",
       "      <td>1139706</td>\n",
       "      <td>111478</td>\n",
       "      <td>1979</td>\n",
       "      <td>5.0</td>\n",
       "      <td>2014-12-22 02:30:15</td>\n",
       "    </tr>\n",
       "    <tr>\n",
       "      <th>4</th>\n",
       "      <td>61700</td>\n",
       "      <td>1240747</td>\n",
       "      <td>111478</td>\n",
       "      <td>1982</td>\n",
       "      <td>4.5</td>\n",
       "      <td>2019-10-21 02:01:10</td>\n",
       "    </tr>\n",
       "  </tbody>\n",
       "</table>\n",
       "</div>"
      ],
      "text/plain": [
       "   RatingID   UserID  WineID Vintage  Rating                 Date\n",
       "0      3211  1209683  111478    1959     4.5  2016-08-08 00:50:22\n",
       "1     27878  1209980  111478    1975     4.0  2018-08-12 17:09:39\n",
       "2     31227  1258705  111478    1975     5.0  2014-11-16 19:52:38\n",
       "3     41946  1139706  111478    1979     5.0  2014-12-22 02:30:15\n",
       "4     61700  1240747  111478    1982     4.5  2019-10-21 02:01:10"
      ]
     },
     "execution_count": 7,
     "metadata": {},
     "output_type": "execute_result"
    }
   ],
   "source": [
    "wine_ratings.head()"
   ]
  },
  {
   "cell_type": "code",
   "execution_count": 8,
   "id": "b75361cf",
   "metadata": {},
   "outputs": [
    {
     "data": {
      "text/plain": [
       "(100, 17)"
      ]
     },
     "execution_count": 8,
     "metadata": {},
     "output_type": "execute_result"
    }
   ],
   "source": [
    "wine_list.shape"
   ]
  },
  {
   "cell_type": "code",
   "execution_count": 9,
   "id": "d4f695b7",
   "metadata": {},
   "outputs": [
    {
     "data": {
      "text/plain": [
       "WineID          int64\n",
       "WineName       object\n",
       "Type           object\n",
       "Elaborate      object\n",
       "Grapes         object\n",
       "Harmonize      object\n",
       "ABV           float64\n",
       "Body           object\n",
       "Acidity        object\n",
       "Code           object\n",
       "Country        object\n",
       "RegionID        int64\n",
       "RegionName     object\n",
       "WineryID        int64\n",
       "WineryName     object\n",
       "Website        object\n",
       "Vintages       object\n",
       "dtype: object"
      ]
     },
     "execution_count": 9,
     "metadata": {},
     "output_type": "execute_result"
    }
   ],
   "source": [
    "wine_list.dtypes"
   ]
  },
  {
   "cell_type": "markdown",
   "id": "d7085b29",
   "metadata": {},
   "source": [
    "The first thing I would like to do with the wine list dataframe is drop the website column as I don’t see this as being of any use."
   ]
  },
  {
   "cell_type": "code",
   "execution_count": 10,
   "id": "bfcbcf20",
   "metadata": {},
   "outputs": [],
   "source": [
    "wine_list=wine_list.drop(columns='Website')"
   ]
  },
  {
   "cell_type": "code",
   "execution_count": 11,
   "id": "11604a80",
   "metadata": {},
   "outputs": [
    {
     "data": {
      "text/plain": [
       "WineID          int64\n",
       "WineName       object\n",
       "Type           object\n",
       "Elaborate      object\n",
       "Grapes         object\n",
       "Harmonize      object\n",
       "ABV           float64\n",
       "Body           object\n",
       "Acidity        object\n",
       "Code           object\n",
       "Country        object\n",
       "RegionID        int64\n",
       "RegionName     object\n",
       "WineryID        int64\n",
       "WineryName     object\n",
       "Vintages       object\n",
       "dtype: object"
      ]
     },
     "execution_count": 11,
     "metadata": {},
     "output_type": "execute_result"
    }
   ],
   "source": [
    "wine_list.dtypes"
   ]
  },
  {
   "cell_type": "markdown",
   "id": "c970aa57",
   "metadata": {},
   "source": [
    "Let’s check for null values"
   ]
  },
  {
   "cell_type": "code",
   "execution_count": 12,
   "id": "758878b8",
   "metadata": {},
   "outputs": [
    {
     "data": {
      "text/plain": [
       "WineID        0\n",
       "WineName      0\n",
       "Type          0\n",
       "Elaborate     0\n",
       "Grapes        0\n",
       "Harmonize     0\n",
       "ABV           0\n",
       "Body          0\n",
       "Acidity       0\n",
       "Code          0\n",
       "Country       0\n",
       "RegionID      0\n",
       "RegionName    0\n",
       "WineryID      0\n",
       "WineryName    0\n",
       "Vintages      0\n",
       "dtype: int64"
      ]
     },
     "execution_count": 12,
     "metadata": {},
     "output_type": "execute_result"
    }
   ],
   "source": [
    "wine_list.isnull().sum()"
   ]
  },
  {
   "cell_type": "markdown",
   "id": "00fa66d9",
   "metadata": {},
   "source": [
    "Now I want to examine the unique values in the different string attribute columns."
   ]
  },
  {
   "cell_type": "code",
   "execution_count": 13,
   "id": "5bf7506c",
   "metadata": {},
   "outputs": [
    {
     "data": {
      "text/plain": [
       "Red             53\n",
       "White           19\n",
       "Rosé             8\n",
       "Dessert          8\n",
       "Sparkling        7\n",
       "Dessert/Port     5\n",
       "Name: Type, dtype: int64"
      ]
     },
     "execution_count": 13,
     "metadata": {},
     "output_type": "execute_result"
    }
   ],
   "source": [
    "wine_list['Type'].value_counts()"
   ]
  },
  {
   "cell_type": "code",
   "execution_count": 14,
   "id": "1c997537",
   "metadata": {},
   "outputs": [
    {
     "data": {
      "text/plain": [
       "Varietal/100%                        58\n",
       "Assemblage/Blend                     25\n",
       "Varietal/>75%                         5\n",
       "Assemblage/Bordeaux Red Blend         4\n",
       "Assemblage/Portuguese Red Blend       2\n",
       "Assemblage/Provence Rosé Blend        2\n",
       "Assemblage/Valpolicella Red Blend     2\n",
       "Assemblage/Port Blend                 1\n",
       "Assemblage/Rhône Red Blend            1\n",
       "Name: Elaborate, dtype: int64"
      ]
     },
     "execution_count": 14,
     "metadata": {},
     "output_type": "execute_result"
    }
   ],
   "source": [
    "wine_list['Elaborate'].value_counts()"
   ]
  },
  {
   "cell_type": "code",
   "execution_count": 15,
   "id": "f521e0c4",
   "metadata": {},
   "outputs": [
    {
     "data": {
      "text/plain": [
       "['Pinot Noir']                                      13\n",
       "['Chardonnay']                                       7\n",
       "['Nebbiolo']                                         5\n",
       "['Riesling']                                         3\n",
       "['Cabernet Franc']                                   3\n",
       "                                                    ..\n",
       "['Pinot Grigio', 'Chardonnay']                       1\n",
       "['Cabernet Sauvignon', 'Merlot', 'Petit Verdot']     1\n",
       "['Negroamaro', 'Merlot', 'Refosco']                  1\n",
       "['Müller-Thurgau']                                   1\n",
       "['Pinot Gris']                                       1\n",
       "Name: Grapes, Length: 65, dtype: int64"
      ]
     },
     "execution_count": 15,
     "metadata": {},
     "output_type": "execute_result"
    }
   ],
   "source": [
    "wine_list['Grapes'].value_counts()"
   ]
  },
  {
   "cell_type": "code",
   "execution_count": 16,
   "id": "57244206",
   "metadata": {},
   "outputs": [
    {
     "data": {
      "text/plain": [
       "['Beef', 'Veal', 'Game Meat', 'Poultry']                                  9\n",
       "['Beef', 'Lamb', 'Game Meat', 'Poultry']                                  6\n",
       "['Beef', 'Pasta', 'Lamb', 'Game Meat']                                    5\n",
       "['Beef', 'Lamb', 'Poultry']                                               3\n",
       "['Pasta', 'Veal', 'Pork', 'Game Meat', 'Poultry']                         2\n",
       "                                                                         ..\n",
       "['Pork', 'Rich Fish', 'Shellfish', 'Soft Cheese']                         1\n",
       "['Pork', 'Rich Fish', 'Spicy Food', 'Vegetarian', 'Cured Meat']           1\n",
       "['Appetizer', 'Snack', 'Pasta', 'Chicken', 'Vegetarian']                  1\n",
       "['Rich Fish', 'Fruit Dessert', 'Vegetarian', 'Poultry', 'Soft Cheese']    1\n",
       "['Pork', 'Spicy Food', 'Mushrooms', 'Vegetarian']                         1\n",
       "Name: Harmonize, Length: 76, dtype: int64"
      ]
     },
     "execution_count": 16,
     "metadata": {},
     "output_type": "execute_result"
    }
   ],
   "source": [
    "wine_list['Harmonize'].value_counts()"
   ]
  },
  {
   "cell_type": "code",
   "execution_count": 17,
   "id": "1fc45f08",
   "metadata": {},
   "outputs": [
    {
     "data": {
      "text/plain": [
       "Medium-bodied        46\n",
       "Full-bodied          32\n",
       "Very full-bodied     12\n",
       "Light-bodied          9\n",
       "Very light-bodied     1\n",
       "Name: Body, dtype: int64"
      ]
     },
     "execution_count": 17,
     "metadata": {},
     "output_type": "execute_result"
    }
   ],
   "source": [
    "wine_list['Body'].value_counts()"
   ]
  },
  {
   "cell_type": "code",
   "execution_count": 18,
   "id": "c5ed50ba",
   "metadata": {},
   "outputs": [
    {
     "data": {
      "text/plain": [
       "Medium    54\n",
       "High      45\n",
       "Low        1\n",
       "Name: Acidity, dtype: int64"
      ]
     },
     "execution_count": 18,
     "metadata": {},
     "output_type": "execute_result"
    }
   ],
   "source": [
    "wine_list['Acidity'].value_counts()"
   ]
  },
  {
   "cell_type": "markdown",
   "id": "8ef5ee82",
   "metadata": {},
   "source": [
    "Next let’s check the wine Id variable for duplicates."
   ]
  },
  {
   "cell_type": "code",
   "execution_count": 19,
   "id": "9c93ec3d",
   "metadata": {},
   "outputs": [
    {
     "data": {
      "text/plain": [
       "100062    1\n",
       "160271    1\n",
       "168457    1\n",
       "168182    1\n",
       "167464    1\n",
       "         ..\n",
       "120737    1\n",
       "119803    1\n",
       "118927    1\n",
       "118457    1\n",
       "198580    1\n",
       "Name: WineID, Length: 100, dtype: int64"
      ]
     },
     "execution_count": 19,
     "metadata": {},
     "output_type": "execute_result"
    }
   ],
   "source": [
    "wine_list['WineID'].value_counts()"
   ]
  },
  {
   "cell_type": "code",
   "execution_count": 20,
   "id": "dcbea1f0",
   "metadata": {},
   "outputs": [
    {
     "data": {
      "text/plain": [
       "1"
      ]
     },
     "execution_count": 20,
     "metadata": {},
     "output_type": "execute_result"
    }
   ],
   "source": [
    "wine_list['WineID'].value_counts().max()"
   ]
  },
  {
   "cell_type": "markdown",
   "id": "1873b27f",
   "metadata": {},
   "source": [
    "It looks like the ids for the recipes are all unique."
   ]
  },
  {
   "cell_type": "markdown",
   "id": "f4622c1b",
   "metadata": {},
   "source": [
    "Let’s examine the wine rating dataframe a little closer."
   ]
  },
  {
   "cell_type": "code",
   "execution_count": 21,
   "id": "777b28b0",
   "metadata": {},
   "outputs": [
    {
     "data": {
      "text/plain": [
       "RatingID      int64\n",
       "UserID        int64\n",
       "WineID        int64\n",
       "Vintage      object\n",
       "Rating      float64\n",
       "Date         object\n",
       "dtype: object"
      ]
     },
     "execution_count": 21,
     "metadata": {},
     "output_type": "execute_result"
    }
   ],
   "source": [
    "wine_ratings.dtypes"
   ]
  },
  {
   "cell_type": "markdown",
   "id": "41f84d6c",
   "metadata": {},
   "source": [
    "Once again we will check for null values."
   ]
  },
  {
   "cell_type": "code",
   "execution_count": 22,
   "id": "6d3c9fb8",
   "metadata": {},
   "outputs": [
    {
     "data": {
      "text/plain": [
       "RatingID    0\n",
       "UserID      0\n",
       "WineID      0\n",
       "Vintage     0\n",
       "Rating      0\n",
       "Date        0\n",
       "dtype: int64"
      ]
     },
     "execution_count": 22,
     "metadata": {},
     "output_type": "execute_result"
    }
   ],
   "source": [
    "wine_ratings.isnull().sum()"
   ]
  },
  {
   "cell_type": "code",
   "execution_count": 23,
   "id": "161d6861",
   "metadata": {},
   "outputs": [
    {
     "data": {
      "text/plain": [
       "2015    98\n",
       "2014    92\n",
       "2016    83\n",
       "2013    83\n",
       "2012    81\n",
       "2017    77\n",
       "2018    69\n",
       "2011    64\n",
       "2008    52\n",
       "2010    47\n",
       "N.V.    43\n",
       "2020    41\n",
       "2019    34\n",
       "2009    26\n",
       "2004    16\n",
       "2000    14\n",
       "2007    13\n",
       "2006    11\n",
       "1989    10\n",
       "2005     8\n",
       "1999     7\n",
       "2003     4\n",
       "1998     4\n",
       "2001     3\n",
       "1982     3\n",
       "1988     3\n",
       "1975     2\n",
       "2021     2\n",
       "2002     2\n",
       "1983     1\n",
       "1979     1\n",
       "1996     1\n",
       "1987     1\n",
       "1993     1\n",
       "1994     1\n",
       "1997     1\n",
       "1959     1\n",
       "Name: Vintage, dtype: int64"
      ]
     },
     "execution_count": 23,
     "metadata": {},
     "output_type": "execute_result"
    }
   ],
   "source": [
    "wine_ratings['Vintage'].value_counts()"
   ]
  },
  {
   "cell_type": "markdown",
   "id": "71645e36",
   "metadata": {},
   "source": [
    "Now let’s take a look at the value range for the ratings columns in this dataframe."
   ]
  },
  {
   "cell_type": "code",
   "execution_count": 24,
   "id": "f8eef4cb",
   "metadata": {},
   "outputs": [
    {
     "name": "stdout",
     "output_type": "stream",
     "text": [
      "1.0\n",
      "5.0\n"
     ]
    }
   ],
   "source": [
    "print(wine_ratings['Rating'].min())\n",
    "print(wine_ratings['Rating'].max())"
   ]
  },
  {
   "cell_type": "code",
   "execution_count": 25,
   "id": "0dc88bab",
   "metadata": {},
   "outputs": [
    {
     "data": {
      "text/plain": [
       "102055    25\n",
       "179386    24\n",
       "167079    23\n",
       "111478    22\n",
       "112875    22\n",
       "          ..\n",
       "120737     5\n",
       "143806     5\n",
       "102645     5\n",
       "175908     5\n",
       "154979     5\n",
       "Name: WineID, Length: 100, dtype: int64"
      ]
     },
     "execution_count": 25,
     "metadata": {},
     "output_type": "execute_result"
    }
   ],
   "source": [
    "wine_ratings['WineID'].value_counts()"
   ]
  },
  {
   "cell_type": "markdown",
   "id": "0497bc31",
   "metadata": {},
   "source": [
    "I would like to get the mean of the rating column grouped by Wine ID. In other words find the mean of the ratings for each recipe and then apply it to the recipe data frame by id#. Looking at the value counts for the Wine ID column in both data frames I can see that they contain the same number of unique values in each column. This mean that there is at least some rating data for all recipe ids. Now let’s calculate the mean rating."
   ]
  },
  {
   "cell_type": "code",
   "execution_count": 26,
   "id": "70455f22",
   "metadata": {},
   "outputs": [],
   "source": [
    "wine_ratings['rating_mean'] = wine_ratings['Rating'].groupby(wine_ratings['WineID']).transform('mean')"
   ]
  },
  {
   "cell_type": "code",
   "execution_count": 27,
   "id": "72b8f983",
   "metadata": {},
   "outputs": [
    {
     "data": {
      "text/html": [
       "<div>\n",
       "<style scoped>\n",
       "    .dataframe tbody tr th:only-of-type {\n",
       "        vertical-align: middle;\n",
       "    }\n",
       "\n",
       "    .dataframe tbody tr th {\n",
       "        vertical-align: top;\n",
       "    }\n",
       "\n",
       "    .dataframe thead th {\n",
       "        text-align: right;\n",
       "    }\n",
       "</style>\n",
       "<table border=\"1\" class=\"dataframe\">\n",
       "  <thead>\n",
       "    <tr style=\"text-align: right;\">\n",
       "      <th></th>\n",
       "      <th>RatingID</th>\n",
       "      <th>UserID</th>\n",
       "      <th>WineID</th>\n",
       "      <th>Vintage</th>\n",
       "      <th>Rating</th>\n",
       "      <th>Date</th>\n",
       "      <th>rating_mean</th>\n",
       "    </tr>\n",
       "  </thead>\n",
       "  <tbody>\n",
       "    <tr>\n",
       "      <th>0</th>\n",
       "      <td>3211</td>\n",
       "      <td>1209683</td>\n",
       "      <td>111478</td>\n",
       "      <td>1959</td>\n",
       "      <td>4.5</td>\n",
       "      <td>2016-08-08 00:50:22</td>\n",
       "      <td>4.136364</td>\n",
       "    </tr>\n",
       "    <tr>\n",
       "      <th>1</th>\n",
       "      <td>27878</td>\n",
       "      <td>1209980</td>\n",
       "      <td>111478</td>\n",
       "      <td>1975</td>\n",
       "      <td>4.0</td>\n",
       "      <td>2018-08-12 17:09:39</td>\n",
       "      <td>4.136364</td>\n",
       "    </tr>\n",
       "    <tr>\n",
       "      <th>2</th>\n",
       "      <td>31227</td>\n",
       "      <td>1258705</td>\n",
       "      <td>111478</td>\n",
       "      <td>1975</td>\n",
       "      <td>5.0</td>\n",
       "      <td>2014-11-16 19:52:38</td>\n",
       "      <td>4.136364</td>\n",
       "    </tr>\n",
       "    <tr>\n",
       "      <th>3</th>\n",
       "      <td>41946</td>\n",
       "      <td>1139706</td>\n",
       "      <td>111478</td>\n",
       "      <td>1979</td>\n",
       "      <td>5.0</td>\n",
       "      <td>2014-12-22 02:30:15</td>\n",
       "      <td>4.136364</td>\n",
       "    </tr>\n",
       "    <tr>\n",
       "      <th>4</th>\n",
       "      <td>61700</td>\n",
       "      <td>1240747</td>\n",
       "      <td>111478</td>\n",
       "      <td>1982</td>\n",
       "      <td>4.5</td>\n",
       "      <td>2019-10-21 02:01:10</td>\n",
       "      <td>4.136364</td>\n",
       "    </tr>\n",
       "  </tbody>\n",
       "</table>\n",
       "</div>"
      ],
      "text/plain": [
       "   RatingID   UserID  WineID Vintage  Rating                 Date  rating_mean\n",
       "0      3211  1209683  111478    1959     4.5  2016-08-08 00:50:22     4.136364\n",
       "1     27878  1209980  111478    1975     4.0  2018-08-12 17:09:39     4.136364\n",
       "2     31227  1258705  111478    1975     5.0  2014-11-16 19:52:38     4.136364\n",
       "3     41946  1139706  111478    1979     5.0  2014-12-22 02:30:15     4.136364\n",
       "4     61700  1240747  111478    1982     4.5  2019-10-21 02:01:10     4.136364"
      ]
     },
     "execution_count": 27,
     "metadata": {},
     "output_type": "execute_result"
    }
   ],
   "source": [
    "wine_ratings.head()"
   ]
  },
  {
   "cell_type": "code",
   "execution_count": 28,
   "id": "10fc3110",
   "metadata": {},
   "outputs": [
    {
     "data": {
      "text/html": [
       "<div>\n",
       "<style scoped>\n",
       "    .dataframe tbody tr th:only-of-type {\n",
       "        vertical-align: middle;\n",
       "    }\n",
       "\n",
       "    .dataframe tbody tr th {\n",
       "        vertical-align: top;\n",
       "    }\n",
       "\n",
       "    .dataframe thead th {\n",
       "        text-align: right;\n",
       "    }\n",
       "</style>\n",
       "<table border=\"1\" class=\"dataframe\">\n",
       "  <thead>\n",
       "    <tr style=\"text-align: right;\">\n",
       "      <th></th>\n",
       "      <th>RatingID</th>\n",
       "      <th>UserID</th>\n",
       "      <th>WineID</th>\n",
       "      <th>Vintage</th>\n",
       "      <th>Rating</th>\n",
       "      <th>Date</th>\n",
       "      <th>rating_mean</th>\n",
       "    </tr>\n",
       "  </thead>\n",
       "  <tbody>\n",
       "    <tr>\n",
       "      <th>995</th>\n",
       "      <td>20871491</td>\n",
       "      <td>1006657</td>\n",
       "      <td>102055</td>\n",
       "      <td>N.V.</td>\n",
       "      <td>3.5</td>\n",
       "      <td>2019-12-29 13:38:44</td>\n",
       "      <td>3.580000</td>\n",
       "    </tr>\n",
       "    <tr>\n",
       "      <th>996</th>\n",
       "      <td>20871989</td>\n",
       "      <td>1160496</td>\n",
       "      <td>160271</td>\n",
       "      <td>N.V.</td>\n",
       "      <td>4.0</td>\n",
       "      <td>2015-01-07 12:39:36</td>\n",
       "      <td>3.916667</td>\n",
       "    </tr>\n",
       "    <tr>\n",
       "      <th>997</th>\n",
       "      <td>20875704</td>\n",
       "      <td>1055576</td>\n",
       "      <td>102055</td>\n",
       "      <td>N.V.</td>\n",
       "      <td>3.5</td>\n",
       "      <td>2020-11-03 19:14:49</td>\n",
       "      <td>3.580000</td>\n",
       "    </tr>\n",
       "    <tr>\n",
       "      <th>998</th>\n",
       "      <td>20885463</td>\n",
       "      <td>1004369</td>\n",
       "      <td>102055</td>\n",
       "      <td>N.V.</td>\n",
       "      <td>3.5</td>\n",
       "      <td>2020-08-29 01:26:13</td>\n",
       "      <td>3.580000</td>\n",
       "    </tr>\n",
       "    <tr>\n",
       "      <th>999</th>\n",
       "      <td>20889646</td>\n",
       "      <td>1243678</td>\n",
       "      <td>102055</td>\n",
       "      <td>N.V.</td>\n",
       "      <td>3.5</td>\n",
       "      <td>2019-09-04 18:15:31</td>\n",
       "      <td>3.580000</td>\n",
       "    </tr>\n",
       "  </tbody>\n",
       "</table>\n",
       "</div>"
      ],
      "text/plain": [
       "     RatingID   UserID  WineID Vintage  Rating                 Date  \\\n",
       "995  20871491  1006657  102055    N.V.     3.5  2019-12-29 13:38:44   \n",
       "996  20871989  1160496  160271    N.V.     4.0  2015-01-07 12:39:36   \n",
       "997  20875704  1055576  102055    N.V.     3.5  2020-11-03 19:14:49   \n",
       "998  20885463  1004369  102055    N.V.     3.5  2020-08-29 01:26:13   \n",
       "999  20889646  1243678  102055    N.V.     3.5  2019-09-04 18:15:31   \n",
       "\n",
       "     rating_mean  \n",
       "995     3.580000  \n",
       "996     3.916667  \n",
       "997     3.580000  \n",
       "998     3.580000  \n",
       "999     3.580000  "
      ]
     },
     "execution_count": 28,
     "metadata": {},
     "output_type": "execute_result"
    }
   ],
   "source": [
    "wine_ratings.tail()"
   ]
  },
  {
   "cell_type": "markdown",
   "id": "81fe20cf",
   "metadata": {},
   "source": [
    "Let’s look at the minimum and maximum values for our new rating mean column."
   ]
  },
  {
   "cell_type": "code",
   "execution_count": 29,
   "id": "8024726f",
   "metadata": {},
   "outputs": [
    {
     "name": "stdout",
     "output_type": "stream",
     "text": [
      "2.7142857142857144\n",
      "4.875\n"
     ]
    }
   ],
   "source": [
    "print(wine_ratings['rating_mean'].min())\n",
    "print(wine_ratings['rating_mean'].max())\n"
   ]
  },
  {
   "cell_type": "markdown",
   "id": "365dda3c",
   "metadata": {},
   "source": [
    "Next let’s take a look at some of the user information. Let’s see how many unique raters we have out of 1000 ratings."
   ]
  },
  {
   "cell_type": "code",
   "execution_count": 30,
   "id": "bc0c1e1a",
   "metadata": {},
   "outputs": [
    {
     "data": {
      "text/plain": [
       "636"
      ]
     },
     "execution_count": 30,
     "metadata": {},
     "output_type": "execute_result"
    }
   ],
   "source": [
    "wine_ratings['UserID'].nunique()"
   ]
  },
  {
   "cell_type": "markdown",
   "id": "40248e8a",
   "metadata": {},
   "source": [
    "Our dataset contains 636 unique raters. Let’s examine further."
   ]
  },
  {
   "cell_type": "code",
   "execution_count": 31,
   "id": "5e247ca7",
   "metadata": {},
   "outputs": [
    {
     "name": "stdout",
     "output_type": "stream",
     "text": [
      "5\n"
     ]
    }
   ],
   "source": [
    "print(wine_ratings['UserID'].value_counts().max())"
   ]
  },
  {
   "cell_type": "code",
   "execution_count": 32,
   "id": "51958af5",
   "metadata": {},
   "outputs": [
    {
     "data": {
      "text/plain": [
       "1004940    5\n",
       "1123010    5\n",
       "1100007    5\n",
       "1084433    5\n",
       "1070726    4\n",
       "1000064    4\n",
       "1165941    4\n",
       "1119279    4\n",
       "1004804    4\n",
       "1188640    4\n",
       "1009797    4\n",
       "1196127    4\n",
       "1009381    4\n",
       "1003868    4\n",
       "1863413    4\n",
       "1070932    4\n",
       "1006657    3\n",
       "1000045    3\n",
       "1055113    3\n",
       "1209683    3\n",
       "Name: UserID, dtype: int64"
      ]
     },
     "execution_count": 32,
     "metadata": {},
     "output_type": "execute_result"
    }
   ],
   "source": [
    "wine_ratings['UserID'].value_counts().head(20)"
   ]
  },
  {
   "cell_type": "code",
   "execution_count": 33,
   "id": "255c291f",
   "metadata": {},
   "outputs": [
    {
     "data": {
      "text/plain": [
       "1687371    1\n",
       "1145862    1\n",
       "1267880    1\n",
       "1222784    1\n",
       "1165079    1\n",
       "1219368    1\n",
       "1189736    1\n",
       "1003724    1\n",
       "1176849    1\n",
       "1169832    1\n",
       "1324684    1\n",
       "1456446    1\n",
       "1086669    1\n",
       "1634303    1\n",
       "1979847    1\n",
       "2022471    1\n",
       "1434293    1\n",
       "1209706    1\n",
       "1844375    1\n",
       "1221444    1\n",
       "Name: UserID, dtype: int64"
      ]
     },
     "execution_count": 33,
     "metadata": {},
     "output_type": "execute_result"
    }
   ],
   "source": [
    "wine_ratings['UserID'].value_counts().tail(20)"
   ]
  },
  {
   "cell_type": "markdown",
   "id": "57aa0253",
   "metadata": {},
   "source": [
    "It looks like the maximum number of times someone reviewed a wine was 5. In examining the head and the tail of these values we can see that or max of users who rated 5 times didn’t occur very often. Only 4 of the 636 raters reviewed a wine at least 5 times."
   ]
  },
  {
   "cell_type": "code",
   "execution_count": 35,
   "id": "ffbf8183",
   "metadata": {},
   "outputs": [
    {
     "name": "stdout",
     "output_type": "stream",
     "text": [
      "Writing file.  \"C:/Users/jwatki8/Documents/Data Science Program information/My Capstone project\\wine_list.csv\"\n"
     ]
    }
   ],
   "source": [
    "datapath ='C:/Users/jwatki8/Documents/Data Science Program information/My Capstone project'\n",
    "save_file(wine_list,'wine_list.csv', datapath)"
   ]
  }
 ],
 "metadata": {
  "kernelspec": {
   "display_name": "Python 3 (ipykernel)",
   "language": "python",
   "name": "python3"
  },
  "language_info": {
   "codemirror_mode": {
    "name": "ipython",
    "version": 3
   },
   "file_extension": ".py",
   "mimetype": "text/x-python",
   "name": "python",
   "nbconvert_exporter": "python",
   "pygments_lexer": "ipython3",
   "version": "3.9.13"
  }
 },
 "nbformat": 4,
 "nbformat_minor": 5
}
