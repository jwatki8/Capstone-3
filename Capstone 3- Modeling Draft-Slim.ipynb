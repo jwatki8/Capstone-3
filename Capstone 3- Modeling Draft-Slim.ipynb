{
 "cells": [
  {
   "cell_type": "code",
   "execution_count": 1,
   "id": "c3f901c9",
   "metadata": {},
   "outputs": [],
   "source": [
    "import pandas as pd\n",
    "import numpy as np\n",
    "import os\n",
    "import matplotlib.pyplot as plt\n",
    "import seaborn as sns\n",
    "import sklearn\n",
    "from sklearn.feature_extraction.text import CountVectorizer\n",
    "from sklearn.metrics.pairwise import cosine_similarity\n",
    "import spacy\n",
    "from yellowbrick.text import FreqDistVisualizer\n",
    "from pathlib import Path\n",
    "nlp=spacy.load('en_core_web_sm')\n",
    "from textblob import TextBlob, Word, Blobber\n",
    "\n",
    "from sb_utils import save_file\n",
    "\n",
    "\n",
    "from surprise import accuracy, Dataset, SVD, NormalPredictor, BaselineOnly\n",
    "from surprise import Reader\n",
    "from surprise.model_selection import cross_validate, train_test_split, LeaveOneOut, ShuffleSplit \n",
    "from surprise.model_selection import RandomizedSearchCV,GridSearchCV\n",
    "from surprise import KNNBasic,  KNNWithMeans, KNNBaseline\n",
    "from surprise.model_selection import KFold\n",
    "\n",
    "from sklearn.model_selection import train_test_split as tts1\n",
    "import datetime\n",
    "import math"
   ]
  },
  {
   "cell_type": "code",
   "execution_count": 2,
   "id": "caf2fb69",
   "metadata": {},
   "outputs": [],
   "source": [
    "#full dataset\n",
    "#wine_df2 = pd.read_csv('C:/Users/jwatki8/Documents/Data Science Program information/Capstone project 3/data/wine_df.csv')"
   ]
  },
  {
   "cell_type": "code",
   "execution_count": 2,
   "id": "84dcc569",
   "metadata": {},
   "outputs": [],
   "source": [
    "wine_df = pd.read_csv('C:/Users/jwatki8/Documents/Data Science Program information/Capstone project 3/data/wine_df_S.csv')"
   ]
  },
  {
   "cell_type": "code",
   "execution_count": 3,
   "id": "b160f822",
   "metadata": {},
   "outputs": [
    {
     "name": "stdout",
     "output_type": "stream",
     "text": [
      "<class 'pandas.core.frame.DataFrame'>\n",
      "RangeIndex: 150000 entries, 0 to 149999\n",
      "Data columns (total 50 columns):\n",
      " #   Column                                  Non-Null Count   Dtype  \n",
      "---  ------                                  --------------   -----  \n",
      " 0   RatingID                                150000 non-null  int64  \n",
      " 1   UserID                                  150000 non-null  int64  \n",
      " 2   WineID                                  150000 non-null  int64  \n",
      " 3   Vintage                                 150000 non-null  object \n",
      " 4   Rating                                  150000 non-null  float64\n",
      " 5   Date                                    150000 non-null  object \n",
      " 6   rating_mean                             150000 non-null  float64\n",
      " 7   rater_count                             150000 non-null  int64  \n",
      " 8   rater_mean                              150000 non-null  float64\n",
      " 9   WineName                                150000 non-null  object \n",
      " 10  Type                                    150000 non-null  object \n",
      " 11  Elaborate                               150000 non-null  object \n",
      " 12  Grapes                                  150000 non-null  object \n",
      " 13  Harmonize                               150000 non-null  object \n",
      " 14  ABV                                     150000 non-null  float64\n",
      " 15  Body                                    150000 non-null  object \n",
      " 16  Acidity                                 150000 non-null  object \n",
      " 17  Country                                 150000 non-null  object \n",
      " 18  RegionID                                150000 non-null  int64  \n",
      " 19  RegionName                              150000 non-null  object \n",
      " 20  WineryID                                150000 non-null  int64  \n",
      " 21  WineryName                              150000 non-null  object \n",
      " 22  Vintages                                150000 non-null  object \n",
      " 23  type_Dessert                            150000 non-null  int64  \n",
      " 24  type_Dessert/Port                       150000 non-null  int64  \n",
      " 25  type_Red                                150000 non-null  int64  \n",
      " 26  type_Rosé                               150000 non-null  int64  \n",
      " 27  type_Sparkling                          150000 non-null  int64  \n",
      " 28  type_White                              150000 non-null  int64  \n",
      " 29  elab_Assemblage/Blend                   150000 non-null  int64  \n",
      " 30  elab_Assemblage/Bordeaux Red Blend      150000 non-null  int64  \n",
      " 31  elab_Assemblage/Champagne Blend         150000 non-null  int64  \n",
      " 32  elab_Assemblage/Port Blend              150000 non-null  int64  \n",
      " 33  elab_Assemblage/Portuguese Red Blend    150000 non-null  int64  \n",
      " 34  elab_Assemblage/Portuguese White Blend  150000 non-null  int64  \n",
      " 35  elab_Assemblage/Priorat Red Blend       150000 non-null  int64  \n",
      " 36  elab_Assemblage/Provence Rosé Blend     150000 non-null  int64  \n",
      " 37  elab_Assemblage/Rhône Red Blend         150000 non-null  int64  \n",
      " 38  elab_Assemblage/Tuscan Red Blend        150000 non-null  int64  \n",
      " 39  elab_Assemblage/Valpolicella Red Blend  150000 non-null  int64  \n",
      " 40  elab_Varietal/100%                      150000 non-null  int64  \n",
      " 41  elab_Varietal/>75%                      150000 non-null  int64  \n",
      " 42  body_Full-bodied                        150000 non-null  int64  \n",
      " 43  body_Light-bodied                       150000 non-null  int64  \n",
      " 44  body_Medium-bodied                      150000 non-null  int64  \n",
      " 45  body_Very full-bodied                   150000 non-null  int64  \n",
      " 46  body_Very light-bodied                  150000 non-null  int64  \n",
      " 47  acid_High                               150000 non-null  int64  \n",
      " 48  acid_Low                                150000 non-null  int64  \n",
      " 49  acid_Medium                             150000 non-null  int64  \n",
      "dtypes: float64(4), int64(33), object(13)\n",
      "memory usage: 57.2+ MB\n"
     ]
    }
   ],
   "source": [
    "wine_df.info()"
   ]
  },
  {
   "cell_type": "markdown",
   "id": "7fde1917",
   "metadata": {},
   "source": [
    "Since our recommender system will be based on user ratings of wine, let’s start by parsing out the user id, wine id and rating."
   ]
  },
  {
   "cell_type": "code",
   "execution_count": 4,
   "id": "01867e52",
   "metadata": {},
   "outputs": [],
   "source": [
    "rec_base=wine_df[['UserID', 'WineID','Rating']]"
   ]
  },
  {
   "cell_type": "code",
   "execution_count": 5,
   "id": "7d130ae3",
   "metadata": {},
   "outputs": [
    {
     "name": "stdout",
     "output_type": "stream",
     "text": [
      "<class 'pandas.core.frame.DataFrame'>\n",
      "RangeIndex: 150000 entries, 0 to 149999\n",
      "Data columns (total 3 columns):\n",
      " #   Column  Non-Null Count   Dtype  \n",
      "---  ------  --------------   -----  \n",
      " 0   UserID  150000 non-null  int64  \n",
      " 1   WineID  150000 non-null  int64  \n",
      " 2   Rating  150000 non-null  float64\n",
      "dtypes: float64(1), int64(2)\n",
      "memory usage: 3.4 MB\n"
     ]
    }
   ],
   "source": [
    "rec_base.info()"
   ]
  },
  {
   "cell_type": "markdown",
   "id": "d5b9d200",
   "metadata": {},
   "source": [
    "Next I will create the surprise data set to cross-validate our models on as well as create an anti-set to run predictions on later."
   ]
  },
  {
   "cell_type": "code",
   "execution_count": 6,
   "id": "ed73f1e7",
   "metadata": {},
   "outputs": [],
   "source": [
    "reader = Reader(rating_scale=(1, 5))\n",
    "data = Dataset.load_from_df(rec_base[['UserID', 'WineID', 'Rating']], reader)\n",
    "anti_set = data.build_full_trainset().build_anti_testset()"
   ]
  },
  {
   "cell_type": "markdown",
   "id": "95c985ad",
   "metadata": {},
   "source": [
    "I will start with a Normal Predictor model to examine a baseline RMSE for our dataset."
   ]
  },
  {
   "cell_type": "markdown",
   "id": "e622fb41",
   "metadata": {},
   "source": [
    "### Normal Predictor Model"
   ]
  },
  {
   "cell_type": "code",
   "execution_count": 7,
   "id": "722cbb68",
   "metadata": {},
   "outputs": [
    {
     "name": "stdout",
     "output_type": "stream",
     "text": [
      "Evaluating RMSE, MAE of algorithm NormalPredictor on 3 split(s).\n",
      "\n",
      "                  Fold 1  Fold 2  Fold 3  Mean    Std     \n",
      "RMSE (testset)    0.9052  0.9028  0.9048  0.9043  0.0010  \n",
      "MAE (testset)     0.7173  0.7173  0.7183  0.7176  0.0005  \n",
      "Fit time          0.16    0.19    0.19    0.18    0.01    \n",
      "Test time         0.55    0.55    0.35    0.48    0.09    \n"
     ]
    },
    {
     "data": {
      "text/plain": [
       "{'test_rmse': array([0.9052443 , 0.90283635, 0.90477309]),\n",
       " 'test_mae': array([0.71727643, 0.71726266, 0.71826113]),\n",
       " 'fit_time': (0.16220426559448242, 0.19246172904968262, 0.19398999214172363),\n",
       " 'test_time': (0.5460760593414307, 0.5487442016601562, 0.3549072742462158)}"
      ]
     },
     "execution_count": 7,
     "metadata": {},
     "output_type": "execute_result"
    }
   ],
   "source": [
    "algo = NormalPredictor()\n",
    "cross_validate(algo, data, measures=[\"RMSE\", \"MAE\"], cv=3,verbose=True)"
   ]
  },
  {
   "cell_type": "markdown",
   "id": "1bcbfbfa",
   "metadata": {},
   "source": [
    "As expected it looks like our mean RMSE (0.906) is fairly high for a rating scale of 1-5. Let’s try out another model."
   ]
  },
  {
   "cell_type": "markdown",
   "id": "fa59500c",
   "metadata": {},
   "source": [
    "### SVD Model"
   ]
  },
  {
   "cell_type": "code",
   "execution_count": 8,
   "id": "012670bb",
   "metadata": {},
   "outputs": [
    {
     "name": "stdout",
     "output_type": "stream",
     "text": [
      "Evaluating RMSE, MAE of algorithm SVD on 3 split(s).\n",
      "\n",
      "                  Fold 1  Fold 2  Fold 3  Mean    Std     \n",
      "RMSE (testset)    0.4895  0.4888  0.4864  0.4882  0.0013  \n",
      "MAE (testset)     0.3592  0.3591  0.3582  0.3588  0.0005  \n",
      "Fit time          1.42    1.39    1.39    1.40    0.01    \n",
      "Test time         0.65    0.61    0.37    0.54    0.12    \n"
     ]
    },
    {
     "data": {
      "text/plain": [
       "{'test_rmse': array([0.48945722, 0.4887702 , 0.48639002]),\n",
       " 'test_mae': array([0.35923702, 0.3591221 , 0.35816188]),\n",
       " 'fit_time': (1.4193427562713623, 1.3934082984924316, 1.3869843482971191),\n",
       " 'test_time': (0.6450481414794922, 0.6115481853485107, 0.36951470375061035)}"
      ]
     },
     "execution_count": 8,
     "metadata": {},
     "output_type": "execute_result"
    }
   ],
   "source": [
    "algo2 = SVD()\n",
    "cross_validate(algo2, data, measures=[\"RMSE\", \"MAE\"], cv=3,verbose=True)"
   ]
  },
  {
   "cell_type": "markdown",
   "id": "6d01ecec",
   "metadata": {},
   "source": [
    "The SVD model gives us a much better mean RMSE of 0.488. Next I will test out some of the KNN models."
   ]
  },
  {
   "cell_type": "markdown",
   "id": "d24dc39c",
   "metadata": {},
   "source": [
    "### KNN With Means Model"
   ]
  },
  {
   "cell_type": "code",
   "execution_count": 9,
   "id": "eb2436a9",
   "metadata": {},
   "outputs": [
    {
     "name": "stdout",
     "output_type": "stream",
     "text": [
      "Computing the msd similarity matrix...\n",
      "Done computing similarity matrix.\n",
      "Computing the msd similarity matrix...\n",
      "Done computing similarity matrix.\n",
      "Computing the msd similarity matrix...\n",
      "Done computing similarity matrix.\n",
      "Evaluating RMSE, MAE of algorithm KNNWithMeans on 3 split(s).\n",
      "\n",
      "                  Fold 1  Fold 2  Fold 3  Mean    Std     \n",
      "RMSE (testset)    0.5236  0.5292  0.5202  0.5244  0.0037  \n",
      "MAE (testset)     0.3889  0.3921  0.3868  0.3893  0.0022  \n",
      "Fit time          5.14    5.62    5.87    5.54    0.30    \n",
      "Test time         20.84   20.54   19.79   20.39   0.44    \n"
     ]
    },
    {
     "data": {
      "text/plain": [
       "{'test_rmse': array([0.52363883, 0.52919261, 0.52023413]),\n",
       " 'test_mae': array([0.38888393, 0.39208587, 0.38683604]),\n",
       " 'fit_time': (5.1357855796813965, 5.615605115890503, 5.866661310195923),\n",
       " 'test_time': (20.841920614242554, 20.53688144683838, 19.79275131225586)}"
      ]
     },
     "execution_count": 9,
     "metadata": {},
     "output_type": "execute_result"
    }
   ],
   "source": [
    "algo3 = KNNWithMeans()\n",
    "cross_validate(algo3, data, measures=[\"RMSE\", \"MAE\"], cv=3,verbose=True)"
   ]
  },
  {
   "cell_type": "markdown",
   "id": "8ec17063",
   "metadata": {},
   "source": [
    "The KNNWithMeans model has a higher mean RMSE than both of the previous models. The test time is also much longer than the both of the previous models. "
   ]
  },
  {
   "cell_type": "markdown",
   "id": "69a3ef97",
   "metadata": {},
   "source": [
    "### KNN Baseline Model"
   ]
  },
  {
   "cell_type": "code",
   "execution_count": 10,
   "id": "fc728c30",
   "metadata": {},
   "outputs": [
    {
     "name": "stdout",
     "output_type": "stream",
     "text": [
      "Estimating biases using als...\n",
      "Computing the msd similarity matrix...\n",
      "Done computing similarity matrix.\n",
      "Estimating biases using als...\n",
      "Computing the msd similarity matrix...\n",
      "Done computing similarity matrix.\n",
      "Estimating biases using als...\n",
      "Computing the msd similarity matrix...\n",
      "Done computing similarity matrix.\n",
      "Evaluating RMSE, MAE of algorithm KNNBaseline on 3 split(s).\n",
      "\n",
      "                  Fold 1  Fold 2  Fold 3  Mean    Std     \n",
      "RMSE (testset)    0.4888  0.4873  0.4845  0.4869  0.0018  \n",
      "MAE (testset)     0.3572  0.3557  0.3561  0.3563  0.0006  \n",
      "Fit time          5.65    5.90    5.78    5.77    0.10    \n",
      "Test time         21.14   21.49   21.80   21.48   0.27    \n"
     ]
    },
    {
     "data": {
      "text/plain": [
       "{'test_rmse': array([0.48878057, 0.48729374, 0.4845407 ]),\n",
       " 'test_mae': array([0.35718014, 0.35568927, 0.35606512]),\n",
       " 'fit_time': (5.648054122924805, 5.895566940307617, 5.7778480052948),\n",
       " 'test_time': (21.135846376419067, 21.487884998321533, 21.80464506149292)}"
      ]
     },
     "execution_count": 10,
     "metadata": {},
     "output_type": "execute_result"
    }
   ],
   "source": [
    "algo4 = KNNBaseline()\n",
    "cross_validate(algo4, data, measures=[\"RMSE\", \"MAE\"], cv=3,verbose=True)"
   ]
  },
  {
   "cell_type": "markdown",
   "id": "ebfe19cf",
   "metadata": {},
   "source": [
    "The KNNBaseline model seems to have the best mean RMSE at 0.486. It also has the longest mean fit and test time of all of our models. "
   ]
  },
  {
   "cell_type": "markdown",
   "id": "0d6d2ee8",
   "metadata": {},
   "source": [
    "From the results outputted from testing different models on our data, I think it would be wise to move forward with fine tuning and applying both the KNNBaseline model as well as our SVD model. Even though the KNNBaseline model technically has the best mean RMSE, The SVD model has an RMSE that is very close and also would save a lot of test and fit time. I think it would be worth comparing the predictions for both models to find out if we can save time in the long run."
   ]
  },
  {
   "cell_type": "markdown",
   "id": "7374f2c3",
   "metadata": {},
   "source": [
    "First let’s run a grid search for the best hyperparameters for our KNNBaseline Model."
   ]
  },
  {
   "cell_type": "code",
   "execution_count": null,
   "id": "9764965e",
   "metadata": {},
   "outputs": [],
   "source": [
    "#Gridsearch for KNNBaseline"
   ]
  },
  {
   "cell_type": "code",
   "execution_count": 12,
   "id": "b4161b93",
   "metadata": {},
   "outputs": [
    {
     "name": "stdout",
     "output_type": "stream",
     "text": [
      "Estimating biases using als...\n",
      "Computing the msd similarity matrix...\n",
      "Done computing similarity matrix.\n",
      "Estimating biases using als...\n",
      "Computing the msd similarity matrix...\n",
      "Done computing similarity matrix.\n",
      "Estimating biases using als...\n",
      "Computing the msd similarity matrix...\n",
      "Done computing similarity matrix.\n",
      "Estimating biases using als...\n",
      "Computing the msd similarity matrix...\n",
      "Done computing similarity matrix.\n",
      "Estimating biases using als...\n",
      "Computing the msd similarity matrix...\n",
      "Done computing similarity matrix.\n",
      "Estimating biases using als...\n",
      "Computing the msd similarity matrix...\n",
      "Done computing similarity matrix.\n",
      "Estimating biases using als...\n",
      "Computing the msd similarity matrix...\n",
      "Done computing similarity matrix.\n",
      "Estimating biases using als...\n",
      "Computing the msd similarity matrix...\n",
      "Done computing similarity matrix.\n",
      "Estimating biases using als...\n",
      "Computing the msd similarity matrix...\n",
      "Done computing similarity matrix.\n",
      "Estimating biases using als...\n",
      "Computing the msd similarity matrix...\n",
      "Done computing similarity matrix.\n",
      "Estimating biases using als...\n",
      "Computing the msd similarity matrix...\n",
      "Done computing similarity matrix.\n",
      "Estimating biases using als...\n",
      "Computing the msd similarity matrix...\n",
      "Done computing similarity matrix.\n",
      "Estimating biases using als...\n",
      "Computing the msd similarity matrix...\n",
      "Done computing similarity matrix.\n",
      "Estimating biases using als...\n",
      "Computing the msd similarity matrix...\n",
      "Done computing similarity matrix.\n",
      "Estimating biases using als...\n",
      "Computing the msd similarity matrix...\n",
      "Done computing similarity matrix.\n",
      "Estimating biases using als...\n",
      "Computing the msd similarity matrix...\n",
      "Done computing similarity matrix.\n",
      "Estimating biases using als...\n",
      "Computing the msd similarity matrix...\n",
      "Done computing similarity matrix.\n",
      "Estimating biases using als...\n",
      "Computing the msd similarity matrix...\n",
      "Done computing similarity matrix.\n",
      "Estimating biases using als...\n",
      "Computing the msd similarity matrix...\n",
      "Done computing similarity matrix.\n",
      "Estimating biases using als...\n",
      "Computing the msd similarity matrix...\n",
      "Done computing similarity matrix.\n",
      "Estimating biases using als...\n",
      "Computing the msd similarity matrix...\n",
      "Done computing similarity matrix.\n",
      "Estimating biases using als...\n",
      "Computing the msd similarity matrix...\n",
      "Done computing similarity matrix.\n",
      "Estimating biases using als...\n",
      "Computing the msd similarity matrix...\n",
      "Done computing similarity matrix.\n",
      "Estimating biases using als...\n",
      "Computing the msd similarity matrix...\n",
      "Done computing similarity matrix.\n",
      "Estimating biases using als...\n",
      "Computing the msd similarity matrix...\n",
      "Done computing similarity matrix.\n",
      "Estimating biases using als...\n",
      "Computing the msd similarity matrix...\n",
      "Done computing similarity matrix.\n",
      "Estimating biases using als...\n",
      "Computing the msd similarity matrix...\n",
      "Done computing similarity matrix.\n",
      "Estimating biases using als...\n",
      "Computing the msd similarity matrix...\n",
      "Done computing similarity matrix.\n",
      "Estimating biases using als...\n",
      "Computing the msd similarity matrix...\n",
      "Done computing similarity matrix.\n",
      "Estimating biases using als...\n",
      "Computing the msd similarity matrix...\n",
      "Done computing similarity matrix.\n",
      "Estimating biases using als...\n",
      "Computing the msd similarity matrix...\n",
      "Done computing similarity matrix.\n",
      "Estimating biases using als...\n",
      "Computing the msd similarity matrix...\n",
      "Done computing similarity matrix.\n",
      "Estimating biases using als...\n",
      "Computing the msd similarity matrix...\n",
      "Done computing similarity matrix.\n",
      "Estimating biases using als...\n",
      "Computing the msd similarity matrix...\n",
      "Done computing similarity matrix.\n",
      "Estimating biases using als...\n",
      "Computing the msd similarity matrix...\n",
      "Done computing similarity matrix.\n",
      "Estimating biases using als...\n",
      "Computing the msd similarity matrix...\n",
      "Done computing similarity matrix.\n",
      "Estimating biases using als...\n",
      "Computing the msd similarity matrix...\n",
      "Done computing similarity matrix.\n",
      "Estimating biases using als...\n",
      "Computing the msd similarity matrix...\n",
      "Done computing similarity matrix.\n",
      "Estimating biases using als...\n",
      "Computing the msd similarity matrix...\n",
      "Done computing similarity matrix.\n",
      "Estimating biases using als...\n",
      "Computing the msd similarity matrix...\n",
      "Done computing similarity matrix.\n",
      "Estimating biases using als...\n",
      "Computing the msd similarity matrix...\n",
      "Done computing similarity matrix.\n",
      "Estimating biases using als...\n",
      "Computing the msd similarity matrix...\n",
      "Done computing similarity matrix.\n",
      "Estimating biases using als...\n",
      "Computing the msd similarity matrix...\n",
      "Done computing similarity matrix.\n",
      "Estimating biases using als...\n",
      "Computing the msd similarity matrix...\n",
      "Done computing similarity matrix.\n",
      "Estimating biases using als...\n",
      "Computing the msd similarity matrix...\n",
      "Done computing similarity matrix.\n",
      "Estimating biases using als...\n",
      "Computing the msd similarity matrix...\n",
      "Done computing similarity matrix.\n",
      "Estimating biases using als...\n",
      "Computing the msd similarity matrix...\n",
      "Done computing similarity matrix.\n",
      "Estimating biases using als...\n",
      "Computing the msd similarity matrix...\n",
      "Done computing similarity matrix.\n",
      "Estimating biases using als...\n",
      "Computing the msd similarity matrix...\n",
      "Done computing similarity matrix.\n",
      "Estimating biases using als...\n",
      "Computing the msd similarity matrix...\n",
      "Done computing similarity matrix.\n",
      "Estimating biases using als...\n",
      "Computing the msd similarity matrix...\n",
      "Done computing similarity matrix.\n",
      "Estimating biases using als...\n",
      "Computing the msd similarity matrix...\n",
      "Done computing similarity matrix.\n",
      "Estimating biases using als...\n",
      "Computing the msd similarity matrix...\n",
      "Done computing similarity matrix.\n",
      "Estimating biases using als...\n",
      "Computing the msd similarity matrix...\n",
      "Done computing similarity matrix.\n",
      "Best RMSE: 0.4871450104344657 {'n_epochs': 5, 'lr_all': 0.002, 'reg_all': 0.4}\n"
     ]
    }
   ],
   "source": [
    "param_gridKNNB = {'n_epochs': [5, 10, 15],\n",
    "        'lr_all': [0.002, 0.005],\n",
    "        'reg_all': [0.4, 0.6, 0.8]\n",
    "        }\n",
    "\n",
    "gsKNNB = GridSearchCV(KNNBaseline, param_gridKNNB, measures=['rmse'], cv=3)\n",
    "\n",
    "gsKNNB.fit(data)\n",
    "\n",
    "print('Best RMSE:', gsKNNB.best_score['rmse'], gsKNNB.best_params['rmse'])"
   ]
  },
  {
   "cell_type": "markdown",
   "id": "8051c205",
   "metadata": {},
   "source": [
    "It looks like the best parameters for this model are as follows:\n",
    "{'n_epochs': 5, 'lr_all': 0.002, 'reg_all': 0.4}\n"
   ]
  },
  {
   "cell_type": "markdown",
   "id": "747ecc93",
   "metadata": {},
   "source": [
    "Now let’s find the best parameters for the SVD model."
   ]
  },
  {
   "cell_type": "code",
   "execution_count": null,
   "id": "02075c37",
   "metadata": {},
   "outputs": [],
   "source": [
    "#GridSearch for SVD"
   ]
  },
  {
   "cell_type": "code",
   "execution_count": 13,
   "id": "dfe07c6a",
   "metadata": {},
   "outputs": [
    {
     "name": "stdout",
     "output_type": "stream",
     "text": [
      "Best RMSE: 0.5019710396266478 {'n_epochs': 15, 'lr_all': 0.005, 'reg_all': 0.4}\n"
     ]
    }
   ],
   "source": [
    "param_grid = {'n_epochs': [5, 10, 15],\n",
    "        'lr_all': [0.002, 0.005],\n",
    "        'reg_all': [0.4, 0.6, 0.8]\n",
    "        }\n",
    "\n",
    "gs_SVD = GridSearchCV(SVD, param_grid, measures=['rmse', 'mae'], cv=3)\n",
    "\n",
    "gs_SVD.fit(data)\n",
    "\n",
    "print('Best RMSE:', gs_SVD.best_score['rmse'], gs_SVD.best_params['rmse'])"
   ]
  },
  {
   "cell_type": "markdown",
   "id": "60859854",
   "metadata": {},
   "source": [
    "The best parameters for the SVD model are as follows:\n",
    "{'n_epochs': 15, 'lr_all': 0.005, 'reg_all': 0.4}"
   ]
  },
  {
   "cell_type": "markdown",
   "id": "e2021bc8",
   "metadata": {},
   "source": [
    "Next I will create the traintest split for the data."
   ]
  },
  {
   "cell_type": "code",
   "execution_count": 14,
   "id": "a1740e08",
   "metadata": {},
   "outputs": [],
   "source": [
    "#update to surprise traintest set to make predictions\n",
    "trainset, testset = train_test_split(data, test_size=0.25, random_state=22)"
   ]
  },
  {
   "cell_type": "markdown",
   "id": "b6bd8e8b",
   "metadata": {},
   "source": [
    "To apply the model and get predictions, I will create a dataframe that will display the user, wine the actual rating and the predicted rating from our model."
   ]
  },
  {
   "cell_type": "code",
   "execution_count": 16,
   "id": "cc52f87d",
   "metadata": {},
   "outputs": [
    {
     "name": "stdout",
     "output_type": "stream",
     "text": [
      "Estimating biases using als...\n",
      "Computing the msd similarity matrix...\n",
      "Done computing similarity matrix.\n"
     ]
    }
   ],
   "source": [
    "#KNNBaseline\n",
    "predictions = KNNBaseline(bsl_options=gsKNNB.best_params['rmse']).fit(trainset).test(testset)\n",
    "KNN_Predictions = pd.DataFrame(predictions, columns=['UserID', 'WineID', 'Real_Rating', 'Estimated_Rating', 'details'])\n",
    "KNN_Predictions.drop(['details'], axis=1, inplace=True)"
   ]
  },
  {
   "cell_type": "code",
   "execution_count": 17,
   "id": "62b88b46",
   "metadata": {},
   "outputs": [],
   "source": [
    "#SVD\n",
    "predictions = SVD(n_epochs=15, lr_all=0.005, reg_all=0.4).fit(trainset).test(testset)\n",
    "SVD_Predictions = pd.DataFrame(predictions, columns=['UserID', 'WineID', 'Real_Rating', 'Estimated_Rating', 'details'])\n",
    "SVD_Predictions.drop(['details'], axis=1, inplace=True)"
   ]
  },
  {
   "cell_type": "markdown",
   "id": "c7b0e342",
   "metadata": {},
   "source": [
    "Because the actual ratings between 1 and 5 all have either .0 or .5 decimals, I need to create a function that will round the predicted results to .0 or .5. This will ensure that the predictions are actual possible ratings."
   ]
  },
  {
   "cell_type": "code",
   "execution_count": 18,
   "id": "23eb469c",
   "metadata": {},
   "outputs": [],
   "source": [
    "def halfrounder(x):\n",
    "    frac, whole = math.modf(x)\n",
    "    if frac > 0.7499999:\n",
    "        a = 1\n",
    "    elif frac < 0.25:\n",
    "        a = 0\n",
    "    else:\n",
    "        a = 0.5\n",
    "    return whole + a"
   ]
  },
  {
   "cell_type": "code",
   "execution_count": 19,
   "id": "c3641092",
   "metadata": {},
   "outputs": [],
   "source": [
    "#knnbaseline\n",
    "KNN_Predictions['Estimation_Rounded'] = KNN_Predictions.apply(lambda row: halfrounder(row.Estimated_Rating), axis=1)"
   ]
  },
  {
   "cell_type": "code",
   "execution_count": 20,
   "id": "346bb91d",
   "metadata": {},
   "outputs": [],
   "source": [
    "#svd\n",
    "SVD_Predictions['Estimation_Rounded'] = SVD_Predictions.apply(lambda row: halfrounder(row.Estimated_Rating), axis=1)\n"
   ]
  },
  {
   "cell_type": "markdown",
   "id": "f124b53d",
   "metadata": {},
   "source": [
    "Now we have a column in our predictions data frame that includes the rounded predictions. Let’s take a look at our results."
   ]
  },
  {
   "cell_type": "code",
   "execution_count": 21,
   "id": "1e66f97e",
   "metadata": {},
   "outputs": [
    {
     "data": {
      "text/html": [
       "<div>\n",
       "<style scoped>\n",
       "    .dataframe tbody tr th:only-of-type {\n",
       "        vertical-align: middle;\n",
       "    }\n",
       "\n",
       "    .dataframe tbody tr th {\n",
       "        vertical-align: top;\n",
       "    }\n",
       "\n",
       "    .dataframe thead th {\n",
       "        text-align: right;\n",
       "    }\n",
       "</style>\n",
       "<table border=\"1\" class=\"dataframe\">\n",
       "  <thead>\n",
       "    <tr style=\"text-align: right;\">\n",
       "      <th></th>\n",
       "      <th>UserID</th>\n",
       "      <th>WineID</th>\n",
       "      <th>Real_Rating</th>\n",
       "      <th>Estimated_Rating</th>\n",
       "      <th>Estimation_Rounded</th>\n",
       "    </tr>\n",
       "  </thead>\n",
       "  <tbody>\n",
       "    <tr>\n",
       "      <th>0</th>\n",
       "      <td>1971360</td>\n",
       "      <td>111475</td>\n",
       "      <td>4.0</td>\n",
       "      <td>4.297177</td>\n",
       "      <td>4.5</td>\n",
       "    </tr>\n",
       "    <tr>\n",
       "      <th>1</th>\n",
       "      <td>1358888</td>\n",
       "      <td>193487</td>\n",
       "      <td>3.0</td>\n",
       "      <td>3.284433</td>\n",
       "      <td>3.5</td>\n",
       "    </tr>\n",
       "    <tr>\n",
       "      <th>2</th>\n",
       "      <td>1222064</td>\n",
       "      <td>155623</td>\n",
       "      <td>3.0</td>\n",
       "      <td>2.885143</td>\n",
       "      <td>3.0</td>\n",
       "    </tr>\n",
       "    <tr>\n",
       "      <th>3</th>\n",
       "      <td>1095942</td>\n",
       "      <td>113730</td>\n",
       "      <td>4.5</td>\n",
       "      <td>4.218465</td>\n",
       "      <td>4.0</td>\n",
       "    </tr>\n",
       "    <tr>\n",
       "      <th>4</th>\n",
       "      <td>1006401</td>\n",
       "      <td>111434</td>\n",
       "      <td>4.0</td>\n",
       "      <td>4.336163</td>\n",
       "      <td>4.5</td>\n",
       "    </tr>\n",
       "  </tbody>\n",
       "</table>\n",
       "</div>"
      ],
      "text/plain": [
       "    UserID  WineID  Real_Rating  Estimated_Rating  Estimation_Rounded\n",
       "0  1971360  111475          4.0          4.297177                 4.5\n",
       "1  1358888  193487          3.0          3.284433                 3.5\n",
       "2  1222064  155623          3.0          2.885143                 3.0\n",
       "3  1095942  113730          4.5          4.218465                 4.0\n",
       "4  1006401  111434          4.0          4.336163                 4.5"
      ]
     },
     "execution_count": 21,
     "metadata": {},
     "output_type": "execute_result"
    }
   ],
   "source": [
    "KNN_Predictions.head()"
   ]
  },
  {
   "cell_type": "code",
   "execution_count": 22,
   "id": "2d95338d",
   "metadata": {},
   "outputs": [
    {
     "data": {
      "text/html": [
       "<div>\n",
       "<style scoped>\n",
       "    .dataframe tbody tr th:only-of-type {\n",
       "        vertical-align: middle;\n",
       "    }\n",
       "\n",
       "    .dataframe tbody tr th {\n",
       "        vertical-align: top;\n",
       "    }\n",
       "\n",
       "    .dataframe thead th {\n",
       "        text-align: right;\n",
       "    }\n",
       "</style>\n",
       "<table border=\"1\" class=\"dataframe\">\n",
       "  <thead>\n",
       "    <tr style=\"text-align: right;\">\n",
       "      <th></th>\n",
       "      <th>UserID</th>\n",
       "      <th>WineID</th>\n",
       "      <th>Real_Rating</th>\n",
       "      <th>Estimated_Rating</th>\n",
       "      <th>Estimation_Rounded</th>\n",
       "    </tr>\n",
       "  </thead>\n",
       "  <tbody>\n",
       "    <tr>\n",
       "      <th>37495</th>\n",
       "      <td>1959228</td>\n",
       "      <td>162507</td>\n",
       "      <td>4.0</td>\n",
       "      <td>3.818995</td>\n",
       "      <td>4.0</td>\n",
       "    </tr>\n",
       "    <tr>\n",
       "      <th>37496</th>\n",
       "      <td>1395496</td>\n",
       "      <td>135859</td>\n",
       "      <td>3.5</td>\n",
       "      <td>3.632870</td>\n",
       "      <td>3.5</td>\n",
       "    </tr>\n",
       "    <tr>\n",
       "      <th>37497</th>\n",
       "      <td>1303827</td>\n",
       "      <td>167429</td>\n",
       "      <td>3.5</td>\n",
       "      <td>4.189447</td>\n",
       "      <td>4.0</td>\n",
       "    </tr>\n",
       "    <tr>\n",
       "      <th>37498</th>\n",
       "      <td>1181889</td>\n",
       "      <td>101610</td>\n",
       "      <td>3.0</td>\n",
       "      <td>3.632358</td>\n",
       "      <td>3.5</td>\n",
       "    </tr>\n",
       "    <tr>\n",
       "      <th>37499</th>\n",
       "      <td>1014224</td>\n",
       "      <td>179034</td>\n",
       "      <td>3.0</td>\n",
       "      <td>3.903756</td>\n",
       "      <td>4.0</td>\n",
       "    </tr>\n",
       "  </tbody>\n",
       "</table>\n",
       "</div>"
      ],
      "text/plain": [
       "        UserID  WineID  Real_Rating  Estimated_Rating  Estimation_Rounded\n",
       "37495  1959228  162507          4.0          3.818995                 4.0\n",
       "37496  1395496  135859          3.5          3.632870                 3.5\n",
       "37497  1303827  167429          3.5          4.189447                 4.0\n",
       "37498  1181889  101610          3.0          3.632358                 3.5\n",
       "37499  1014224  179034          3.0          3.903756                 4.0"
      ]
     },
     "execution_count": 22,
     "metadata": {},
     "output_type": "execute_result"
    }
   ],
   "source": [
    "KNN_Predictions.tail()"
   ]
  },
  {
   "cell_type": "markdown",
   "id": "72bfb5aa",
   "metadata": {},
   "source": [
    "To get a better idea of the amount of accurate predictions we have, I want to create a subset of the dataframe that only includes the rows where the actual user rating and the predicted user ratings match."
   ]
  },
  {
   "cell_type": "code",
   "execution_count": 23,
   "id": "c1433488",
   "metadata": {},
   "outputs": [],
   "source": [
    "Perfect_KNN=KNN_Predictions.query('Real_Rating == Estimation_Rounded')\n"
   ]
  },
  {
   "cell_type": "code",
   "execution_count": 24,
   "id": "f280a43d",
   "metadata": {},
   "outputs": [
    {
     "name": "stdout",
     "output_type": "stream",
     "text": [
      "<class 'pandas.core.frame.DataFrame'>\n",
      "Int64Index: 17511 entries, 2 to 37496\n",
      "Data columns (total 5 columns):\n",
      " #   Column              Non-Null Count  Dtype  \n",
      "---  ------              --------------  -----  \n",
      " 0   UserID              17511 non-null  int64  \n",
      " 1   WineID              17511 non-null  int64  \n",
      " 2   Real_Rating         17511 non-null  float64\n",
      " 3   Estimated_Rating    17511 non-null  float64\n",
      " 4   Estimation_Rounded  17511 non-null  float64\n",
      "dtypes: float64(3), int64(2)\n",
      "memory usage: 820.8 KB\n"
     ]
    }
   ],
   "source": [
    "Perfect_KNN.info()"
   ]
  },
  {
   "cell_type": "code",
   "execution_count": 25,
   "id": "f087a5a7",
   "metadata": {},
   "outputs": [
    {
     "data": {
      "text/html": [
       "<div>\n",
       "<style scoped>\n",
       "    .dataframe tbody tr th:only-of-type {\n",
       "        vertical-align: middle;\n",
       "    }\n",
       "\n",
       "    .dataframe tbody tr th {\n",
       "        vertical-align: top;\n",
       "    }\n",
       "\n",
       "    .dataframe thead th {\n",
       "        text-align: right;\n",
       "    }\n",
       "</style>\n",
       "<table border=\"1\" class=\"dataframe\">\n",
       "  <thead>\n",
       "    <tr style=\"text-align: right;\">\n",
       "      <th></th>\n",
       "      <th>UserID</th>\n",
       "      <th>WineID</th>\n",
       "      <th>Real_Rating</th>\n",
       "      <th>Estimated_Rating</th>\n",
       "      <th>Estimation_Rounded</th>\n",
       "    </tr>\n",
       "  </thead>\n",
       "  <tbody>\n",
       "    <tr>\n",
       "      <th>2</th>\n",
       "      <td>1222064</td>\n",
       "      <td>155623</td>\n",
       "      <td>3.0</td>\n",
       "      <td>2.885143</td>\n",
       "      <td>3.0</td>\n",
       "    </tr>\n",
       "    <tr>\n",
       "      <th>5</th>\n",
       "      <td>1215266</td>\n",
       "      <td>111429</td>\n",
       "      <td>4.0</td>\n",
       "      <td>4.067975</td>\n",
       "      <td>4.0</td>\n",
       "    </tr>\n",
       "    <tr>\n",
       "      <th>6</th>\n",
       "      <td>1210984</td>\n",
       "      <td>135885</td>\n",
       "      <td>4.0</td>\n",
       "      <td>3.967138</td>\n",
       "      <td>4.0</td>\n",
       "    </tr>\n",
       "    <tr>\n",
       "      <th>7</th>\n",
       "      <td>1064790</td>\n",
       "      <td>113344</td>\n",
       "      <td>4.0</td>\n",
       "      <td>4.068471</td>\n",
       "      <td>4.0</td>\n",
       "    </tr>\n",
       "    <tr>\n",
       "      <th>10</th>\n",
       "      <td>1387564</td>\n",
       "      <td>167530</td>\n",
       "      <td>3.5</td>\n",
       "      <td>3.484070</td>\n",
       "      <td>3.5</td>\n",
       "    </tr>\n",
       "  </tbody>\n",
       "</table>\n",
       "</div>"
      ],
      "text/plain": [
       "     UserID  WineID  Real_Rating  Estimated_Rating  Estimation_Rounded\n",
       "2   1222064  155623          3.0          2.885143                 3.0\n",
       "5   1215266  111429          4.0          4.067975                 4.0\n",
       "6   1210984  135885          4.0          3.967138                 4.0\n",
       "7   1064790  113344          4.0          4.068471                 4.0\n",
       "10  1387564  167530          3.5          3.484070                 3.5"
      ]
     },
     "execution_count": 25,
     "metadata": {},
     "output_type": "execute_result"
    }
   ],
   "source": [
    "Perfect_KNN.head()"
   ]
  },
  {
   "cell_type": "markdown",
   "id": "1e0a3c26",
   "metadata": {},
   "source": [
    "For the KNNBaseline model we have 17511 accurate predicted ratings. Let’s also examine the distribution of ratings within our accurate predictions dataset."
   ]
  },
  {
   "cell_type": "code",
   "execution_count": 27,
   "id": "9ec4848d",
   "metadata": {},
   "outputs": [
    {
     "data": {
      "image/png": "[encoded data removed]",
      "text/plain": [
       "<Figure size 800x550 with 1 Axes>"
      ]
     },
     "metadata": {},
     "output_type": "display_data"
    }
   ],
   "source": [
    "sns.countplot(data=Perfect_KNN, x='Real_Rating')\n",
    "plt.ticklabel_format(style='plain', axis='y')\n",
    "plt.show()\n"
   ]
  },
  {
   "cell_type": "markdown",
   "id": "44804ad8",
   "metadata": {},
   "source": [
    "The most represented rating in this subset is 4.0 followed by 3.5. Is this representative of the distribution of the whole dataset?"
   ]
  },
  {
   "cell_type": "code",
   "execution_count": 26,
   "id": "e0a8959f",
   "metadata": {},
   "outputs": [
    {
     "data": {
      "image/png": "[encoded data removed]",
      "text/plain": [
       "<Figure size 800x550 with 1 Axes>"
      ]
     },
     "metadata": {},
     "output_type": "display_data"
    }
   ],
   "source": [
    "sns.countplot(data=Perfect_KNN, x='Real_Rating', stat='percent')\n",
    "plt.ticklabel_format(style='plain', axis='y')\n",
    "plt.show()\n"
   ]
  },
  {
   "cell_type": "markdown",
   "id": "98d0cd40",
   "metadata": {},
   "source": [
    "The percent distribution shows that our accurate results distribution is similar to that of the entire dataset which had just under 40% of the ratings as 4.0."
   ]
  },
  {
   "cell_type": "markdown",
   "id": "26c080da",
   "metadata": {},
   "source": [
    "Let’s take a look at our predictions with the SVD model."
   ]
  },
  {
   "cell_type": "code",
   "execution_count": 28,
   "id": "1ee74e6d",
   "metadata": {},
   "outputs": [],
   "source": [
    "Perfect_SVD=SVD_Predictions.query('Real_Rating == Estimation_Rounded')"
   ]
  },
  {
   "cell_type": "code",
   "execution_count": 29,
   "id": "166ead29",
   "metadata": {},
   "outputs": [
    {
     "name": "stdout",
     "output_type": "stream",
     "text": [
      "<class 'pandas.core.frame.DataFrame'>\n",
      "Int64Index: 16744 entries, 0 to 37496\n",
      "Data columns (total 5 columns):\n",
      " #   Column              Non-Null Count  Dtype  \n",
      "---  ------              --------------  -----  \n",
      " 0   UserID              16744 non-null  int64  \n",
      " 1   WineID              16744 non-null  int64  \n",
      " 2   Real_Rating         16744 non-null  float64\n",
      " 3   Estimated_Rating    16744 non-null  float64\n",
      " 4   Estimation_Rounded  16744 non-null  float64\n",
      "dtypes: float64(3), int64(2)\n",
      "memory usage: 784.9 KB\n"
     ]
    }
   ],
   "source": [
    "Perfect_SVD.info()"
   ]
  },
  {
   "cell_type": "code",
   "execution_count": 30,
   "id": "1c518b9f",
   "metadata": {},
   "outputs": [
    {
     "data": {
      "text/html": [
       "<div>\n",
       "<style scoped>\n",
       "    .dataframe tbody tr th:only-of-type {\n",
       "        vertical-align: middle;\n",
       "    }\n",
       "\n",
       "    .dataframe tbody tr th {\n",
       "        vertical-align: top;\n",
       "    }\n",
       "\n",
       "    .dataframe thead th {\n",
       "        text-align: right;\n",
       "    }\n",
       "</style>\n",
       "<table border=\"1\" class=\"dataframe\">\n",
       "  <thead>\n",
       "    <tr style=\"text-align: right;\">\n",
       "      <th></th>\n",
       "      <th>UserID</th>\n",
       "      <th>WineID</th>\n",
       "      <th>Real_Rating</th>\n",
       "      <th>Estimated_Rating</th>\n",
       "      <th>Estimation_Rounded</th>\n",
       "    </tr>\n",
       "  </thead>\n",
       "  <tbody>\n",
       "    <tr>\n",
       "      <th>0</th>\n",
       "      <td>1971360</td>\n",
       "      <td>111475</td>\n",
       "      <td>4.0</td>\n",
       "      <td>4.230864</td>\n",
       "      <td>4.0</td>\n",
       "    </tr>\n",
       "    <tr>\n",
       "      <th>2</th>\n",
       "      <td>1222064</td>\n",
       "      <td>155623</td>\n",
       "      <td>3.0</td>\n",
       "      <td>3.059422</td>\n",
       "      <td>3.0</td>\n",
       "    </tr>\n",
       "    <tr>\n",
       "      <th>5</th>\n",
       "      <td>1215266</td>\n",
       "      <td>111429</td>\n",
       "      <td>4.0</td>\n",
       "      <td>4.078885</td>\n",
       "      <td>4.0</td>\n",
       "    </tr>\n",
       "    <tr>\n",
       "      <th>6</th>\n",
       "      <td>1210984</td>\n",
       "      <td>135885</td>\n",
       "      <td>4.0</td>\n",
       "      <td>3.835609</td>\n",
       "      <td>4.0</td>\n",
       "    </tr>\n",
       "    <tr>\n",
       "      <th>7</th>\n",
       "      <td>1064790</td>\n",
       "      <td>113344</td>\n",
       "      <td>4.0</td>\n",
       "      <td>3.963171</td>\n",
       "      <td>4.0</td>\n",
       "    </tr>\n",
       "  </tbody>\n",
       "</table>\n",
       "</div>"
      ],
      "text/plain": [
       "    UserID  WineID  Real_Rating  Estimated_Rating  Estimation_Rounded\n",
       "0  1971360  111475          4.0          4.230864                 4.0\n",
       "2  1222064  155623          3.0          3.059422                 3.0\n",
       "5  1215266  111429          4.0          4.078885                 4.0\n",
       "6  1210984  135885          4.0          3.835609                 4.0\n",
       "7  1064790  113344          4.0          3.963171                 4.0"
      ]
     },
     "execution_count": 30,
     "metadata": {},
     "output_type": "execute_result"
    }
   ],
   "source": [
    "Perfect_SVD.head()"
   ]
  },
  {
   "cell_type": "code",
   "execution_count": 31,
   "id": "8a550f80",
   "metadata": {},
   "outputs": [
    {
     "data": {
      "image/png": "[encoded data removed]",
      "text/plain": [
       "<Figure size 800x550 with 1 Axes>"
      ]
     },
     "metadata": {},
     "output_type": "display_data"
    }
   ],
   "source": [
    "sns.countplot(data=Perfect_SVD, x='Real_Rating')\n",
    "plt.ticklabel_format(style='plain', axis='y')\n",
    "plt.show()"
   ]
  },
  {
   "cell_type": "code",
   "execution_count": 32,
   "id": "99ff3857",
   "metadata": {},
   "outputs": [
    {
     "data": {
      "image/png": "[encoded data removed]",
      "text/plain": [
       "<Figure size 800x550 with 1 Axes>"
      ]
     },
     "metadata": {},
     "output_type": "display_data"
    }
   ],
   "source": [
    "sns.countplot(data=Perfect_SVD, x='Real_Rating', stat='percent')\n",
    "plt.ticklabel_format(style='plain', axis='y')\n",
    "plt.show()"
   ]
  },
  {
   "cell_type": "markdown",
   "id": "9265269d",
   "metadata": {},
   "source": [
    "The number of accurate predictions for the SVD model are lower that the KNNBaseline at 16744. The rating distribution for this model is very similar to the KNNBaseline model with the top represented rating being 4.0."
   ]
  },
  {
   "cell_type": "markdown",
   "id": "6059f44b",
   "metadata": {},
   "source": [
    "### Conclusions"
   ]
  },
  {
   "cell_type": "markdown",
   "id": "266c1780",
   "metadata": {},
   "source": [
    "After using each model to create predictions it looks like the KNNBaseline model produces better results than the SVD model. The KNN baseline produces accurate predictions for 11.6% of the user ratings while the SVD model produces accurate predictions for 11.2 percent of the ratings. If the expense of time was a large factor for producing a final model, it could be argued that the SVD model could still be used. Considering the fact that both models give us accurate predictions of around 11% the time gained could be worth it to our stakeholders."
   ]
  }
 ],
 "metadata": {
  "kernelspec": {
   "display_name": "Python 3 (ipykernel)",
   "language": "python",
   "name": "python3"
  },
  "language_info": {
   "codemirror_mode": {
    "name": "ipython",
    "version": 3
   },
   "file_extension": ".py",
   "mimetype": "text/x-python",
   "name": "python",
   "nbconvert_exporter": "python",
   "pygments_lexer": "ipython3",
   "version": "3.9.13"
  }
 },
 "nbformat": 4,
 "nbformat_minor": 5
}
