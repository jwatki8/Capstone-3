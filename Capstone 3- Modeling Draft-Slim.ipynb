{
 "cells": [
  {
   "cell_type": "code",
   "execution_count": 1,
   "id": "c3f901c9",
   "metadata": {},
   "outputs": [],
   "source": [
    "import pandas as pd\n",
    "import numpy as np\n",
    "import os\n",
    "import matplotlib.pyplot as plt\n",
    "import seaborn as sns\n",
    "import sklearn\n",
    "from sklearn.feature_extraction.text import CountVectorizer\n",
    "from sklearn.metrics.pairwise import cosine_similarity\n",
    "import spacy\n",
    "from yellowbrick.text import FreqDistVisualizer\n",
    "from pathlib import Path\n",
    "nlp=spacy.load('en_core_web_sm')\n",
    "from textblob import TextBlob, Word, Blobber\n",
    "\n",
    "from sb_utils import save_file\n",
    "\n",
    "\n",
    "from surprise import accuracy, Dataset, SVD \n",
    "from surprise import Reader\n",
    "from surprise.model_selection import cross_validate, train_test_split, LeaveOneOut, ShuffleSplit \n",
    "from surprise.model_selection import RandomizedSearchCV,GridSearchCV\n",
    "from surprise import KNNBasic,  KNNWithMeans, KNNBaseline\n",
    "from surprise.model_selection import KFold"
   ]
  },
  {
   "cell_type": "code",
   "execution_count": 2,
   "id": "caf2fb69",
   "metadata": {},
   "outputs": [],
   "source": [
    "#full dataset\n",
    "#wine_df2 = pd.read_csv('C:/Users/jwatki8/Documents/Data Science Program information/Capstone project 3/data/wine_df.csv')"
   ]
  },
  {
   "cell_type": "code",
   "execution_count": 3,
   "id": "84dcc569",
   "metadata": {},
   "outputs": [],
   "source": [
    "wine_df = pd.read_csv('C:/Users/jwatki8/Documents/Data Science Program information/Capstone project 3/data/wine_df_S.csv')"
   ]
  },
  {
   "cell_type": "code",
   "execution_count": 4,
   "id": "b160f822",
   "metadata": {},
   "outputs": [
    {
     "name": "stdout",
     "output_type": "stream",
     "text": [
      "<class 'pandas.core.frame.DataFrame'>\n",
      "RangeIndex: 150000 entries, 0 to 149999\n",
      "Data columns (total 50 columns):\n",
      " #   Column                                  Non-Null Count   Dtype  \n",
      "---  ------                                  --------------   -----  \n",
      " 0   RatingID                                150000 non-null  int64  \n",
      " 1   UserID                                  150000 non-null  int64  \n",
      " 2   WineID                                  150000 non-null  int64  \n",
      " 3   Vintage                                 150000 non-null  object \n",
      " 4   Rating                                  150000 non-null  float64\n",
      " 5   Date                                    150000 non-null  object \n",
      " 6   rating_mean                             150000 non-null  float64\n",
      " 7   rater_count                             150000 non-null  int64  \n",
      " 8   rater_mean                              150000 non-null  float64\n",
      " 9   WineName                                150000 non-null  object \n",
      " 10  Type                                    150000 non-null  object \n",
      " 11  Elaborate                               150000 non-null  object \n",
      " 12  Grapes                                  150000 non-null  object \n",
      " 13  Harmonize                               150000 non-null  object \n",
      " 14  ABV                                     150000 non-null  float64\n",
      " 15  Body                                    150000 non-null  object \n",
      " 16  Acidity                                 150000 non-null  object \n",
      " 17  Country                                 150000 non-null  object \n",
      " 18  RegionID                                150000 non-null  int64  \n",
      " 19  RegionName                              150000 non-null  object \n",
      " 20  WineryID                                150000 non-null  int64  \n",
      " 21  WineryName                              150000 non-null  object \n",
      " 22  Vintages                                150000 non-null  object \n",
      " 23  type_Dessert                            150000 non-null  int64  \n",
      " 24  type_Dessert/Port                       150000 non-null  int64  \n",
      " 25  type_Red                                150000 non-null  int64  \n",
      " 26  type_Rosé                               150000 non-null  int64  \n",
      " 27  type_Sparkling                          150000 non-null  int64  \n",
      " 28  type_White                              150000 non-null  int64  \n",
      " 29  elab_Assemblage/Blend                   150000 non-null  int64  \n",
      " 30  elab_Assemblage/Bordeaux Red Blend      150000 non-null  int64  \n",
      " 31  elab_Assemblage/Champagne Blend         150000 non-null  int64  \n",
      " 32  elab_Assemblage/Port Blend              150000 non-null  int64  \n",
      " 33  elab_Assemblage/Portuguese Red Blend    150000 non-null  int64  \n",
      " 34  elab_Assemblage/Portuguese White Blend  150000 non-null  int64  \n",
      " 35  elab_Assemblage/Priorat Red Blend       150000 non-null  int64  \n",
      " 36  elab_Assemblage/Provence Rosé Blend     150000 non-null  int64  \n",
      " 37  elab_Assemblage/Rhône Red Blend         150000 non-null  int64  \n",
      " 38  elab_Assemblage/Tuscan Red Blend        150000 non-null  int64  \n",
      " 39  elab_Assemblage/Valpolicella Red Blend  150000 non-null  int64  \n",
      " 40  elab_Varietal/100%                      150000 non-null  int64  \n",
      " 41  elab_Varietal/>75%                      150000 non-null  int64  \n",
      " 42  body_Full-bodied                        150000 non-null  int64  \n",
      " 43  body_Light-bodied                       150000 non-null  int64  \n",
      " 44  body_Medium-bodied                      150000 non-null  int64  \n",
      " 45  body_Very full-bodied                   150000 non-null  int64  \n",
      " 46  body_Very light-bodied                  150000 non-null  int64  \n",
      " 47  acid_High                               150000 non-null  int64  \n",
      " 48  acid_Low                                150000 non-null  int64  \n",
      " 49  acid_Medium                             150000 non-null  int64  \n",
      "dtypes: float64(4), int64(33), object(13)\n",
      "memory usage: 57.2+ MB\n"
     ]
    }
   ],
   "source": [
    "wine_df.info()"
   ]
  },
  {
   "cell_type": "markdown",
   "id": "7fde1917",
   "metadata": {},
   "source": [
    "Since our recommender system will be based on user ratings of wine, let’s start by parsing out the user id, wine id and rating."
   ]
  },
  {
   "cell_type": "code",
   "execution_count": 5,
   "id": "01867e52",
   "metadata": {},
   "outputs": [],
   "source": [
    "rec_base=wine_df[['UserID', 'WineID','Rating']]"
   ]
  },
  {
   "cell_type": "code",
   "execution_count": 6,
   "id": "7d130ae3",
   "metadata": {},
   "outputs": [
    {
     "name": "stdout",
     "output_type": "stream",
     "text": [
      "<class 'pandas.core.frame.DataFrame'>\n",
      "RangeIndex: 150000 entries, 0 to 149999\n",
      "Data columns (total 3 columns):\n",
      " #   Column  Non-Null Count   Dtype  \n",
      "---  ------  --------------   -----  \n",
      " 0   UserID  150000 non-null  int64  \n",
      " 1   WineID  150000 non-null  int64  \n",
      " 2   Rating  150000 non-null  float64\n",
      "dtypes: float64(1), int64(2)\n",
      "memory usage: 3.4 MB\n"
     ]
    }
   ],
   "source": [
    "rec_base.info()"
   ]
  },
  {
   "cell_type": "code",
   "execution_count": 7,
   "id": "4b01add8",
   "metadata": {},
   "outputs": [],
   "source": [
    "reader = Reader(rating_scale=(1, 5))\n",
    "data = Dataset.load_from_df(rec_base[['UserID', 'WineID','Rating']], reader)\n",
    "anti_set = data.build_full_trainset().build_anti_testset()"
   ]
  },
  {
   "cell_type": "code",
   "execution_count": null,
   "id": "be9a3597",
   "metadata": {},
   "outputs": [],
   "source": [
    "#Train test split"
   ]
  },
  {
   "cell_type": "markdown",
   "id": "8570f3ee",
   "metadata": {},
   "source": [
    "I would like to examine a few different types of splits for the data. First let’s take a look at a traditional train test split."
   ]
  },
  {
   "cell_type": "code",
   "execution_count": 8,
   "id": "a0523250",
   "metadata": {},
   "outputs": [],
   "source": [
    "trainset, testset = train_test_split(data, test_size=0.25)"
   ]
  },
  {
   "cell_type": "code",
   "execution_count": 9,
   "id": "297b9f5c",
   "metadata": {},
   "outputs": [
    {
     "name": "stdout",
     "output_type": "stream",
     "text": [
      "RMSE: 0.4844\n",
      "MAE:  0.3548\n"
     ]
    },
    {
     "data": {
      "text/plain": [
       "0.35483597033810665"
      ]
     },
     "execution_count": 9,
     "metadata": {},
     "output_type": "execute_result"
    }
   ],
   "source": [
    "algo = SVD()\n",
    "\n",
    "# Train the algorithm on the trainset, and predict ratings for the testset\n",
    "algo.fit(trainset)\n",
    "predictions = algo.test(testset)\n",
    "\n",
    "# Then compute RMSE\n",
    "accuracy.rmse(predictions)\n",
    "accuracy.mae(predictions)"
   ]
  },
  {
   "cell_type": "code",
   "execution_count": 10,
   "id": "fddac744",
   "metadata": {},
   "outputs": [
    {
     "name": "stdout",
     "output_type": "stream",
     "text": [
      "Estimating biases using als...\n",
      "Computing the msd similarity matrix...\n",
      "Done computing similarity matrix.\n",
      "RMSE: 0.4820\n",
      "MAE:  0.3517\n"
     ]
    },
    {
     "data": {
      "text/plain": [
       "0.35170036676907257"
      ]
     },
     "execution_count": 10,
     "metadata": {},
     "output_type": "execute_result"
    }
   ],
   "source": [
    "#trainset, testset = train_test_split(data, test_size=0.25)\n",
    "\n",
    "# We'll use the famous SVD algorithm.\n",
    "algo2 = KNNBaseline()\n",
    "\n",
    "# Train the algorithm on the trainset, and predict ratings for the testset\n",
    "algo2.fit(trainset)\n",
    "predictions = algo2.test(testset)\n",
    "\n",
    "# Then compute RMSE\n",
    "accuracy.rmse(predictions)\n",
    "accuracy.mae(predictions)"
   ]
  },
  {
   "cell_type": "code",
   "execution_count": 21,
   "id": "8f3d06c9",
   "metadata": {},
   "outputs": [
    {
     "name": "stdout",
     "output_type": "stream",
     "text": [
      "0.47849875860334234\n",
      "{'n_factors': 25, 'reg_all': 0.05, 'lr_all': 0.005}\n"
     ]
    }
   ],
   "source": [
    "params = {'n_factors': [25, 50, 100],\n",
    "         'reg_all': [.02, .05, .1],'lr_all': [0.002, 0.005]}\n",
    "g_s_svd = GridSearchCV(SVD, param_grid=params, n_jobs=-1)\n",
    "g_s_svd.fit(data)\n",
    "\n",
    "# best RMSE score\n",
    "print(g_s_svd.best_score[\"rmse\"])\n",
    "\n",
    "# combination of parameters that gave the best RMSE score\n",
    "print(g_s_svd.best_params[\"rmse\"])"
   ]
  },
  {
   "cell_type": "code",
   "execution_count": 24,
   "id": "89b81f47",
   "metadata": {},
   "outputs": [
    {
     "name": "stdout",
     "output_type": "stream",
     "text": [
      "Evaluating RMSE, MAE of algorithm SVD on 3 split(s).\n",
      "\n",
      "                  Fold 1  Fold 2  Fold 3  Mean    Std     \n",
      "RMSE (testset)    0.4841  0.4839  0.4796  0.4825  0.0021  \n",
      "MAE (testset)     0.3544  0.3536  0.3526  0.3535  0.0008  \n",
      "Fit time          0.93    0.92    0.93    0.92    0.00    \n",
      "Test time         0.81    0.36    0.63    0.60    0.18    \n"
     ]
    },
    {
     "data": {
      "text/plain": [
       "{'test_rmse': array([0.48414091, 0.48387144, 0.47961521]),\n",
       " 'test_mae': array([0.3544013 , 0.35359566, 0.3525615 ]),\n",
       " 'fit_time': (0.9255781173706055, 0.9209592342376709, 0.9267685413360596),\n",
       " 'test_time': (0.8054673671722412, 0.35544347763061523, 0.6262245178222656)}"
      ]
     },
     "execution_count": 24,
     "metadata": {},
     "output_type": "execute_result"
    }
   ],
   "source": [
    "algo = SVD(n_factors=25,reg_all=0.05,lr_all=0.005)\n",
    "\n",
    "cross_validate(algo, data, measures=[\"RMSE\", \"MAE\"], cv=3, verbose=True)"
   ]
  },
  {
   "cell_type": "code",
   "execution_count": 24,
   "id": "e0dd234a",
   "metadata": {},
   "outputs": [
    {
     "name": "stdout",
     "output_type": "stream",
     "text": [
      "Evaluating RMSE, MAE of algorithm SVD on 3 split(s).\n",
      "\n",
      "                  Fold 1  Fold 2  Fold 3  Mean    Std     \n",
      "RMSE (testset)    0.5076  0.4947  0.4953  0.4992  0.0059  \n",
      "MAE (testset)     0.3668  0.3605  0.3606  0.3626  0.0029  \n",
      "Fit time          1.24    1.18    1.14    1.19    0.04    \n",
      "Test time         0.13    0.07    0.10    0.10    0.02    \n"
     ]
    },
    {
     "data": {
      "text/plain": [
       "{'test_rmse': array([0.50759131, 0.49473782, 0.49526982]),\n",
       " 'test_mae': array([0.36676033, 0.36053751, 0.36062853]),\n",
       " 'fit_time': (1.2448101043701172, 1.1755585670471191, 1.138174295425415),\n",
       " 'test_time': (0.13187146186828613, 0.07233285903930664, 0.09816288948059082)}"
      ]
     },
     "execution_count": 24,
     "metadata": {},
     "output_type": "execute_result"
    }
   ],
   "source": [
    "algo = SVD(n_factors=25,reg_all=0.05)\n",
    "\n",
    "cross_validate(algo, data, measures=[\"RMSE\", \"MAE\"], cv=lo, verbose=True)"
   ]
  },
  {
   "cell_type": "code",
   "execution_count": 25,
   "id": "5f037fb2",
   "metadata": {},
   "outputs": [
    {
     "data": {
      "text/plain": [
       "Prediction(uid=1061261, iid=154991, r_ui=None, est=3.82003, details={'was_impossible': False})"
      ]
     },
     "execution_count": 25,
     "metadata": {},
     "output_type": "execute_result"
    }
   ],
   "source": [
    "#start using full data set here\n",
    "dataset = data.build_full_trainset()\n",
    "svd = SVD(n_factors=25,reg_all=0.05,lr_all=0.005)\n",
    "svd.fit(dataset)\n",
    "#svd.predict(3, 6)\n",
    "svd.predict(uid=1061261, iid=154991)"
   ]
  },
  {
   "cell_type": "code",
   "execution_count": null,
   "id": "388a99a9",
   "metadata": {},
   "outputs": [],
   "source": [
    "#Shuffle split cross validation verbose=True"
   ]
  },
  {
   "cell_type": "markdown",
   "id": "3634a0e6",
   "metadata": {},
   "source": [
    "Next I would like to see the results of a Shuffle split."
   ]
  },
  {
   "cell_type": "code",
   "execution_count": 10,
   "id": "fb77ab93",
   "metadata": {},
   "outputs": [
    {
     "name": "stdout",
     "output_type": "stream",
     "text": [
      "RMSE: 0.4835\n",
      "MAE:  0.3560\n",
      "RMSE: 0.4838\n",
      "MAE:  0.3560\n",
      "RMSE: 0.4829\n",
      "MAE:  0.3554\n"
     ]
    }
   ],
   "source": [
    "# define a cross-validation iterator\n",
    "ss = ShuffleSplit(n_splits=3,random_state=22)\n",
    "\n",
    "algo = SVD()\n",
    "\n",
    "for trainset, testset in ss.split(data):\n",
    "\n",
    "    # train and test algorithm.\n",
    "    algo.fit(trainset)\n",
    "    predictions = algo.test(testset)\n",
    "\n",
    "    # Compute and print Root Mean Squared Error\n",
    "    accuracy.rmse(predictions)\n",
    "    accuracy.mae(predictions)"
   ]
  },
  {
   "cell_type": "code",
   "execution_count": null,
   "id": "cfedecb0",
   "metadata": {},
   "outputs": [],
   "source": [
    "#leave one out cross validation"
   ]
  },
  {
   "cell_type": "markdown",
   "id": "5d2b5850",
   "metadata": {},
   "source": [
    "I also want to examine a Leave One Out split."
   ]
  },
  {
   "cell_type": "code",
   "execution_count": 23,
   "id": "3bc9137a",
   "metadata": {},
   "outputs": [
    {
     "name": "stdout",
     "output_type": "stream",
     "text": [
      "RMSE: 0.5105\n",
      "MAE:  0.3703\n",
      "RMSE: 0.4996\n",
      "MAE:  0.3658\n",
      "RMSE: 0.5004\n",
      "MAE:  0.3660\n"
     ]
    }
   ],
   "source": [
    "# define a cross-validation iterator\n",
    "lo = LeaveOneOut(n_splits=3,random_state=22)\n",
    "\n",
    "algo = SVD()\n",
    "\n",
    "for trainset, testset in lo.split(data):\n",
    "\n",
    "    # train and test algorithm.\n",
    "    algo.fit(trainset)\n",
    "    predictions = algo.test(testset)\n",
    "\n",
    "    # Compute and print Root Mean Squared Error\n",
    "    accuracy.rmse(predictions)\n",
    "    accuracy.mae(predictions)"
   ]
  },
  {
   "cell_type": "markdown",
   "id": "973ecf72",
   "metadata": {},
   "source": [
    "After examining the models, it looks like the ShuffleSplit model gives the best results. It also makes the most sense to use the Root Mean Squared error to evaluate the model because of the size of our dataset."
   ]
  },
  {
   "cell_type": "code",
   "execution_count": 20,
   "id": "344bde68",
   "metadata": {},
   "outputs": [],
   "source": [
    "reader = Reader(rating_scale=(1, 5))\n",
    "data = Dataset.load_from_df(rec_base[['UserID', 'WineID','Rating']], reader)\n"
   ]
  },
  {
   "cell_type": "code",
   "execution_count": 11,
   "id": "0da9e388",
   "metadata": {},
   "outputs": [],
   "source": [
    "ss = ShuffleSplit(random_state=22)\n",
    "algo = SVD()\n",
    "#algo = SVD(n_epochs=5,lr_all=0.002,reg_all=0.4)"
   ]
  },
  {
   "cell_type": "code",
   "execution_count": 12,
   "id": "5cc608c5",
   "metadata": {},
   "outputs": [
    {
     "name": "stdout",
     "output_type": "stream",
     "text": [
      "0.4921812387993036\n",
      "{'n_epochs': 10}\n"
     ]
    }
   ],
   "source": [
    "param_grid = {\"n_epochs\": [5, 10]}\n",
    "gs = GridSearchCV(SVD, param_grid, measures=[\"rmse\", \"mae\"], cv=ss)\n",
    "\n",
    "gs.fit(data)\n",
    "\n",
    "# best RMSE score\n",
    "print(gs.best_score[\"rmse\"])\n",
    "\n",
    "# combination of parameters that gave the best RMSE score\n",
    "print(gs.best_params[\"rmse\"])"
   ]
  },
  {
   "cell_type": "code",
   "execution_count": 15,
   "id": "c4eba74b",
   "metadata": {},
   "outputs": [
    {
     "name": "stdout",
     "output_type": "stream",
     "text": [
      "0.4920504484251108\n",
      "{'n_epochs': 10, 'lr_all': 0.005}\n"
     ]
    }
   ],
   "source": [
    "param_grid = {\"n_epochs\": [10], \"lr_all\": [0.002, 0.005]}\n",
    "gs = GridSearchCV(SVD, param_grid, measures=[\"rmse\", \"mae\"], cv=ss)\n",
    "\n",
    "gs.fit(data)\n",
    "\n",
    "# best RMSE score\n",
    "print(gs.best_score[\"rmse\"])\n",
    "\n",
    "# combination of parameters that gave the best RMSE score\n",
    "print(gs.best_params[\"rmse\"])"
   ]
  },
  {
   "cell_type": "code",
   "execution_count": 16,
   "id": "4ead0836",
   "metadata": {},
   "outputs": [
    {
     "name": "stdout",
     "output_type": "stream",
     "text": [
      "0.5029384831051555\n",
      "{'n_epochs': 10, 'lr_all': 0.005, 'reg_all': 0.4}\n"
     ]
    }
   ],
   "source": [
    "param_grid = {\"n_epochs\": [10], \"lr_all\": [0.005], \"reg_all\": [0.4, 0.6]}\n",
    "gs = GridSearchCV(SVD, param_grid, measures=[\"rmse\", \"mae\"], cv=ss)\n",
    "\n",
    "gs.fit(data)\n",
    "\n",
    "# best RMSE score\n",
    "print(gs.best_score[\"rmse\"])\n",
    "\n",
    "# combination of parameters that gave the best RMSE score\n",
    "print(gs.best_params[\"rmse\"])"
   ]
  },
  {
   "cell_type": "code",
   "execution_count": 17,
   "id": "235bbfe8",
   "metadata": {},
   "outputs": [
    {
     "ename": "ValueError",
     "evalue": "Cannot take a larger sample than population when 'replace=False'",
     "output_type": "error",
     "traceback": [
      "\u001b[1;31m---------------------------------------------------------------------------\u001b[0m",
      "\u001b[1;31mValueError\u001b[0m                                Traceback (most recent call last)",
      "Cell \u001b[1;32mIn[17], line 2\u001b[0m\n\u001b[0;32m      1\u001b[0m param_distributions \u001b[38;5;241m=\u001b[39m {\u001b[38;5;124m\"\u001b[39m\u001b[38;5;124mn_epochs\u001b[39m\u001b[38;5;124m\"\u001b[39m: [\u001b[38;5;241m5\u001b[39m, \u001b[38;5;241m10\u001b[39m]}\n\u001b[1;32m----> 2\u001b[0m rcv \u001b[38;5;241m=\u001b[39m \u001b[43mRandomizedSearchCV\u001b[49m\u001b[43m(\u001b[49m\u001b[43mSVD\u001b[49m\u001b[43m,\u001b[49m\u001b[43m \u001b[49m\u001b[43mparam_distributions\u001b[49m\u001b[43m,\u001b[49m\u001b[43m \u001b[49m\u001b[43mmeasures\u001b[49m\u001b[38;5;241;43m=\u001b[39;49m\u001b[43m[\u001b[49m\u001b[38;5;124;43m\"\u001b[39;49m\u001b[38;5;124;43mrmse\u001b[39;49m\u001b[38;5;124;43m\"\u001b[39;49m\u001b[43m,\u001b[49m\u001b[43m \u001b[49m\u001b[38;5;124;43m\"\u001b[39;49m\u001b[38;5;124;43mmae\u001b[39;49m\u001b[38;5;124;43m\"\u001b[39;49m\u001b[43m]\u001b[49m\u001b[43m,\u001b[49m\u001b[43m \u001b[49m\u001b[43mcv\u001b[49m\u001b[38;5;241;43m=\u001b[39;49m\u001b[43mss\u001b[49m\u001b[43m)\u001b[49m\n\u001b[0;32m      4\u001b[0m rcv\u001b[38;5;241m.\u001b[39mfit(data)\n\u001b[0;32m      6\u001b[0m \u001b[38;5;66;03m# best RMSE score\u001b[39;00m\n",
      "File \u001b[1;32m~\\anaconda3\\lib\\site-packages\\surprise\\model_selection\\search.py:473\u001b[0m, in \u001b[0;36mRandomizedSearchCV.__init__\u001b[1;34m(self, algo_class, param_distributions, n_iter, measures, cv, refit, return_train_measures, n_jobs, pre_dispatch, random_state, joblib_verbose)\u001b[0m\n\u001b[0;32m    471\u001b[0m \u001b[38;5;28mself\u001b[39m\u001b[38;5;241m.\u001b[39mrandom_state \u001b[38;5;241m=\u001b[39m random_state\n\u001b[0;32m    472\u001b[0m \u001b[38;5;28mself\u001b[39m\u001b[38;5;241m.\u001b[39mparam_distributions \u001b[38;5;241m=\u001b[39m \u001b[38;5;28mself\u001b[39m\u001b[38;5;241m.\u001b[39m_parse_options(param_distributions\u001b[38;5;241m.\u001b[39mcopy())\n\u001b[1;32m--> 473\u001b[0m \u001b[38;5;28mself\u001b[39m\u001b[38;5;241m.\u001b[39mparam_combinations \u001b[38;5;241m=\u001b[39m \u001b[38;5;28;43mself\u001b[39;49m\u001b[38;5;241;43m.\u001b[39;49m\u001b[43m_sample_parameters\u001b[49m\u001b[43m(\u001b[49m\n\u001b[0;32m    474\u001b[0m \u001b[43m    \u001b[49m\u001b[38;5;28;43mself\u001b[39;49m\u001b[38;5;241;43m.\u001b[39;49m\u001b[43mparam_distributions\u001b[49m\u001b[43m,\u001b[49m\u001b[43m \u001b[49m\u001b[38;5;28;43mself\u001b[39;49m\u001b[38;5;241;43m.\u001b[39;49m\u001b[43mn_iter\u001b[49m\u001b[43m,\u001b[49m\u001b[43m \u001b[49m\u001b[38;5;28;43mself\u001b[39;49m\u001b[38;5;241;43m.\u001b[39;49m\u001b[43mrandom_state\u001b[49m\n\u001b[0;32m    475\u001b[0m \u001b[43m\u001b[49m\u001b[43m)\u001b[49m\n",
      "File \u001b[1;32m~\\anaconda3\\lib\\site-packages\\surprise\\model_selection\\search.py:530\u001b[0m, in \u001b[0;36mRandomizedSearchCV._sample_parameters\u001b[1;34m(param_distributions, n_iter, random_state)\u001b[0m\n\u001b[0;32m    524\u001b[0m \u001b[38;5;28;01mif\u001b[39;00m all_lists:\n\u001b[0;32m    525\u001b[0m     \u001b[38;5;66;03m# create exhaustive combinations\u001b[39;00m\n\u001b[0;32m    526\u001b[0m     param_grid \u001b[38;5;241m=\u001b[39m [\n\u001b[0;32m    527\u001b[0m         \u001b[38;5;28mdict\u001b[39m(\u001b[38;5;28mzip\u001b[39m(param_distributions, v))\n\u001b[0;32m    528\u001b[0m         \u001b[38;5;28;01mfor\u001b[39;00m v \u001b[38;5;129;01min\u001b[39;00m product(\u001b[38;5;241m*\u001b[39mparam_distributions\u001b[38;5;241m.\u001b[39mvalues())\n\u001b[0;32m    529\u001b[0m     ]\n\u001b[1;32m--> 530\u001b[0m     combos \u001b[38;5;241m=\u001b[39m \u001b[43mnp\u001b[49m\u001b[38;5;241;43m.\u001b[39;49m\u001b[43mrandom\u001b[49m\u001b[38;5;241;43m.\u001b[39;49m\u001b[43mchoice\u001b[49m\u001b[43m(\u001b[49m\u001b[43mparam_grid\u001b[49m\u001b[43m,\u001b[49m\u001b[43m \u001b[49m\u001b[43mn_iter\u001b[49m\u001b[43m,\u001b[49m\u001b[43m \u001b[49m\u001b[43mreplace\u001b[49m\u001b[38;5;241;43m=\u001b[39;49m\u001b[38;5;28;43;01mFalse\u001b[39;49;00m\u001b[43m)\u001b[49m\n\u001b[0;32m    532\u001b[0m \u001b[38;5;28;01melse\u001b[39;00m:\n\u001b[0;32m    533\u001b[0m     combos \u001b[38;5;241m=\u001b[39m []\n",
      "File \u001b[1;32mmtrand.pyx:965\u001b[0m, in \u001b[0;36mnumpy.random.mtrand.RandomState.choice\u001b[1;34m()\u001b[0m\n",
      "\u001b[1;31mValueError\u001b[0m: Cannot take a larger sample than population when 'replace=False'"
     ]
    }
   ],
   "source": [
    "param_distributions = {\"n_epochs\": [5, 10]}\n",
    "rcv = RandomizedSearchCV(SVD, param_distributions, measures=[\"rmse\", \"mae\"], cv=ss)\n",
    "\n",
    "rcv.fit(data)\n",
    "\n",
    "# best RMSE score\n",
    "print(rcv.best_score[\"rmse\"])\n",
    "\n",
    "# combination of parameters that gave the best RMSE score\n",
    "print(rcv.best_params[\"rmse\"])"
   ]
  },
  {
   "cell_type": "code",
   "execution_count": 29,
   "id": "e2f9e02d",
   "metadata": {},
   "outputs": [
    {
     "ename": "ValueError",
     "evalue": "Cannot take a larger sample than population when 'replace=False'",
     "output_type": "error",
     "traceback": [
      "\u001b[1;31m---------------------------------------------------------------------------\u001b[0m",
      "\u001b[1;31mValueError\u001b[0m                                Traceback (most recent call last)",
      "Cell \u001b[1;32mIn[29], line 2\u001b[0m\n\u001b[0;32m      1\u001b[0m param_distributions \u001b[38;5;241m=\u001b[39m {\u001b[38;5;124m\"\u001b[39m\u001b[38;5;124mn_epochs\u001b[39m\u001b[38;5;124m\"\u001b[39m: [\u001b[38;5;241m5\u001b[39m, \u001b[38;5;241m10\u001b[39m], \u001b[38;5;124m\"\u001b[39m\u001b[38;5;124mlr_all\u001b[39m\u001b[38;5;124m\"\u001b[39m: [\u001b[38;5;241m0.002\u001b[39m, \u001b[38;5;241m0.005\u001b[39m], \u001b[38;5;124m\"\u001b[39m\u001b[38;5;124mreg_all\u001b[39m\u001b[38;5;124m\"\u001b[39m: [\u001b[38;5;241m0.4\u001b[39m, \u001b[38;5;241m0.6\u001b[39m]}\n\u001b[1;32m----> 2\u001b[0m rcv \u001b[38;5;241m=\u001b[39m \u001b[43mRandomizedSearchCV\u001b[49m\u001b[43m(\u001b[49m\u001b[43mSVD\u001b[49m\u001b[43m,\u001b[49m\u001b[43m \u001b[49m\u001b[43mparam_distributions\u001b[49m\u001b[43m,\u001b[49m\u001b[43m \u001b[49m\u001b[43mmeasures\u001b[49m\u001b[38;5;241;43m=\u001b[39;49m\u001b[43m[\u001b[49m\u001b[38;5;124;43m\"\u001b[39;49m\u001b[38;5;124;43mrmse\u001b[39;49m\u001b[38;5;124;43m\"\u001b[39;49m\u001b[43m,\u001b[49m\u001b[43m \u001b[49m\u001b[38;5;124;43m\"\u001b[39;49m\u001b[38;5;124;43mmae\u001b[39;49m\u001b[38;5;124;43m\"\u001b[39;49m\u001b[43m]\u001b[49m\u001b[43m,\u001b[49m\u001b[43m \u001b[49m\u001b[43mcv\u001b[49m\u001b[38;5;241;43m=\u001b[39;49m\u001b[38;5;241;43m3\u001b[39;49m\u001b[43m)\u001b[49m\n",
      "File \u001b[1;32m~\\anaconda3\\lib\\site-packages\\surprise\\model_selection\\search.py:473\u001b[0m, in \u001b[0;36mRandomizedSearchCV.__init__\u001b[1;34m(self, algo_class, param_distributions, n_iter, measures, cv, refit, return_train_measures, n_jobs, pre_dispatch, random_state, joblib_verbose)\u001b[0m\n\u001b[0;32m    471\u001b[0m \u001b[38;5;28mself\u001b[39m\u001b[38;5;241m.\u001b[39mrandom_state \u001b[38;5;241m=\u001b[39m random_state\n\u001b[0;32m    472\u001b[0m \u001b[38;5;28mself\u001b[39m\u001b[38;5;241m.\u001b[39mparam_distributions \u001b[38;5;241m=\u001b[39m \u001b[38;5;28mself\u001b[39m\u001b[38;5;241m.\u001b[39m_parse_options(param_distributions\u001b[38;5;241m.\u001b[39mcopy())\n\u001b[1;32m--> 473\u001b[0m \u001b[38;5;28mself\u001b[39m\u001b[38;5;241m.\u001b[39mparam_combinations \u001b[38;5;241m=\u001b[39m \u001b[38;5;28;43mself\u001b[39;49m\u001b[38;5;241;43m.\u001b[39;49m\u001b[43m_sample_parameters\u001b[49m\u001b[43m(\u001b[49m\n\u001b[0;32m    474\u001b[0m \u001b[43m    \u001b[49m\u001b[38;5;28;43mself\u001b[39;49m\u001b[38;5;241;43m.\u001b[39;49m\u001b[43mparam_distributions\u001b[49m\u001b[43m,\u001b[49m\u001b[43m \u001b[49m\u001b[38;5;28;43mself\u001b[39;49m\u001b[38;5;241;43m.\u001b[39;49m\u001b[43mn_iter\u001b[49m\u001b[43m,\u001b[49m\u001b[43m \u001b[49m\u001b[38;5;28;43mself\u001b[39;49m\u001b[38;5;241;43m.\u001b[39;49m\u001b[43mrandom_state\u001b[49m\n\u001b[0;32m    475\u001b[0m \u001b[43m\u001b[49m\u001b[43m)\u001b[49m\n",
      "File \u001b[1;32m~\\anaconda3\\lib\\site-packages\\surprise\\model_selection\\search.py:530\u001b[0m, in \u001b[0;36mRandomizedSearchCV._sample_parameters\u001b[1;34m(param_distributions, n_iter, random_state)\u001b[0m\n\u001b[0;32m    524\u001b[0m \u001b[38;5;28;01mif\u001b[39;00m all_lists:\n\u001b[0;32m    525\u001b[0m     \u001b[38;5;66;03m# create exhaustive combinations\u001b[39;00m\n\u001b[0;32m    526\u001b[0m     param_grid \u001b[38;5;241m=\u001b[39m [\n\u001b[0;32m    527\u001b[0m         \u001b[38;5;28mdict\u001b[39m(\u001b[38;5;28mzip\u001b[39m(param_distributions, v))\n\u001b[0;32m    528\u001b[0m         \u001b[38;5;28;01mfor\u001b[39;00m v \u001b[38;5;129;01min\u001b[39;00m product(\u001b[38;5;241m*\u001b[39mparam_distributions\u001b[38;5;241m.\u001b[39mvalues())\n\u001b[0;32m    529\u001b[0m     ]\n\u001b[1;32m--> 530\u001b[0m     combos \u001b[38;5;241m=\u001b[39m \u001b[43mnp\u001b[49m\u001b[38;5;241;43m.\u001b[39;49m\u001b[43mrandom\u001b[49m\u001b[38;5;241;43m.\u001b[39;49m\u001b[43mchoice\u001b[49m\u001b[43m(\u001b[49m\u001b[43mparam_grid\u001b[49m\u001b[43m,\u001b[49m\u001b[43m \u001b[49m\u001b[43mn_iter\u001b[49m\u001b[43m,\u001b[49m\u001b[43m \u001b[49m\u001b[43mreplace\u001b[49m\u001b[38;5;241;43m=\u001b[39;49m\u001b[38;5;28;43;01mFalse\u001b[39;49;00m\u001b[43m)\u001b[49m\n\u001b[0;32m    532\u001b[0m \u001b[38;5;28;01melse\u001b[39;00m:\n\u001b[0;32m    533\u001b[0m     combos \u001b[38;5;241m=\u001b[39m []\n",
      "File \u001b[1;32mmtrand.pyx:965\u001b[0m, in \u001b[0;36mnumpy.random.mtrand.RandomState.choice\u001b[1;34m()\u001b[0m\n",
      "\u001b[1;31mValueError\u001b[0m: Cannot take a larger sample than population when 'replace=False'"
     ]
    }
   ],
   "source": [
    "param_distributions = {\"n_epochs\": [5, 10], \"lr_all\": [0.002, 0.005], \"reg_all\": [0.4, 0.6]}\n",
    "rcv = RandomizedSearchCV(SVD, param_distributions, measures=[\"rmse\", \"mae\"], cv=ss)\n",
    "\n",
    "#rcv.fit(data)\n",
    "\n",
    "# best RMSE score\n",
    "#print(rcv.best_score[\"rmse\"])\n",
    "\n",
    "# combination of parameters that gave the best RMSE score\n",
    "#print(rcv.best_params[\"rmse\"])"
   ]
  },
  {
   "cell_type": "code",
   "execution_count": 19,
   "id": "e0393198",
   "metadata": {},
   "outputs": [
    {
     "data": {
      "text/plain": [
       "Prediction(uid=1061261, iid=154991, r_ui=None, est=4.321918823637014, details={'was_impossible': False})"
      ]
     },
     "execution_count": 19,
     "metadata": {},
     "output_type": "execute_result"
    }
   ],
   "source": [
    "#svd.predict(uid=1061261, iid=154991)\n",
    "#pred = algo.predict(uid, iid, r_ui=4, verbose=True)"
   ]
  },
  {
   "cell_type": "code",
   "execution_count": null,
   "id": "9695dc47",
   "metadata": {},
   "outputs": [],
   "source": [
    "#svd = SVD(verbose=True, n_epochs=10)\n",
    "#cross_validate(svd, data, measures=['RMSE', 'MAE'], cv=3, verbose=True)"
   ]
  },
  {
   "cell_type": "code",
   "execution_count": null,
   "id": "3569cb6d",
   "metadata": {},
   "outputs": [],
   "source": [
    "#cross_validate(algo, data, measures=[\"RMSE\", \"MAE\"], cv=3, verbose=True)"
   ]
  },
  {
   "cell_type": "code",
   "execution_count": 11,
   "id": "0a87525c",
   "metadata": {},
   "outputs": [
    {
     "name": "stdout",
     "output_type": "stream",
     "text": [
      "Processing epoch 0\n",
      "Processing epoch 1\n",
      "Processing epoch 2\n",
      "Processing epoch 3\n",
      "Processing epoch 4\n",
      "Processing epoch 5\n",
      "Processing epoch 6\n",
      "Processing epoch 7\n",
      "Processing epoch 8\n",
      "Processing epoch 9\n",
      "Processing epoch 0\n",
      "Processing epoch 1\n",
      "Processing epoch 2\n",
      "Processing epoch 3\n",
      "Processing epoch 4\n",
      "Processing epoch 5\n",
      "Processing epoch 6\n",
      "Processing epoch 7\n",
      "Processing epoch 8\n",
      "Processing epoch 9\n",
      "Processing epoch 0\n",
      "Processing epoch 1\n",
      "Processing epoch 2\n",
      "Processing epoch 3\n",
      "Processing epoch 4\n",
      "Processing epoch 5\n",
      "Processing epoch 6\n",
      "Processing epoch 7\n",
      "Processing epoch 8\n",
      "Processing epoch 9\n",
      "Evaluating RMSE, MAE of algorithm SVD on 3 split(s).\n",
      "\n",
      "                  Fold 1  Fold 2  Fold 3  Mean    Std     \n",
      "RMSE (testset)    0.6100  0.6098  0.6093  0.6097  0.0003  \n",
      "MAE (testset)     0.4445  0.4444  0.4441  0.4444  0.0002  \n",
      "Fit time          148.34  156.56  158.67  154.52  4.45    \n",
      "Test time         104.62  108.54  110.32  107.83  2.38    \n"
     ]
    },
    {
     "data": {
      "text/plain": [
       "{'test_rmse': array([0.61004689, 0.60977692, 0.6093211 ]),\n",
       " 'test_mae': array([0.4445458 , 0.4444005 , 0.44413388]),\n",
       " 'fit_time': (148.34153485298157, 156.55779576301575, 158.66535186767578),\n",
       " 'test_time': (104.61968541145325, 108.53983163833618, 110.32388472557068)}"
      ]
     },
     "execution_count": 11,
     "metadata": {},
     "output_type": "execute_result"
    }
   ],
   "source": [
    "#svd = SVD(verbose=True, n_epochs=10)\n",
    "#cross_validate(svd, data, measures=['RMSE', 'MAE'], cv=3, verbose=True)"
   ]
  }
 ],
 "metadata": {
  "kernelspec": {
   "display_name": "Python 3 (ipykernel)",
   "language": "python",
   "name": "python3"
  },
  "language_info": {
   "codemirror_mode": {
    "name": "ipython",
    "version": 3
   },
   "file_extension": ".py",
   "mimetype": "text/x-python",
   "name": "python",
   "nbconvert_exporter": "python",
   "pygments_lexer": "ipython3",
   "version": "3.9.13"
  }
 },
 "nbformat": 4,
 "nbformat_minor": 5
}
