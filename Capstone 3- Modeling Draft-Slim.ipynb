{
 "cells": [
  {
   "cell_type": "code",
   "execution_count": 1,
   "id": "c3f901c9",
   "metadata": {},
   "outputs": [],
   "source": [
    "import pandas as pd\n",
    "import numpy as np\n",
    "import os\n",
    "import matplotlib.pyplot as plt\n",
    "import seaborn as sns\n",
    "import sklearn\n",
    "from sklearn.feature_extraction.text import CountVectorizer\n",
    "from sklearn.metrics.pairwise import cosine_similarity\n",
    "import spacy\n",
    "from yellowbrick.text import FreqDistVisualizer\n",
    "from pathlib import Path\n",
    "nlp=spacy.load('en_core_web_sm')\n",
    "from textblob import TextBlob, Word, Blobber\n",
    "\n",
    "from sb_utils import save_file\n",
    "\n",
    "\n",
    "from surprise import accuracy, Dataset, SVD, NormalPredictor, BaselineOnly\n",
    "from surprise import Reader\n",
    "from surprise.model_selection import cross_validate, train_test_split, LeaveOneOut, ShuffleSplit \n",
    "from surprise.model_selection import RandomizedSearchCV,GridSearchCV\n",
    "from surprise import KNNBasic,  KNNWithMeans, KNNBaseline\n",
    "from surprise.model_selection import KFold\n",
    "\n",
    "from sklearn.model_selection import train_test_split as tts1\n",
    "import datetime\n",
    "import math"
   ]
  },
  {
   "cell_type": "code",
   "execution_count": 2,
   "id": "caf2fb69",
   "metadata": {},
   "outputs": [],
   "source": [
    "#full dataset\n",
    "#wine_df2 = pd.read_csv('C:/Users/jwatki8/Documents/Data Science Program information/Capstone project 3/data/wine_df.csv')"
   ]
  },
  {
   "cell_type": "code",
   "execution_count": 2,
   "id": "84dcc569",
   "metadata": {},
   "outputs": [],
   "source": [
    "wine_df = pd.read_csv('C:/Users/jwatki8/Documents/Data Science Program information/Capstone project 3/data/wine_df_S.csv')"
   ]
  },
  {
   "cell_type": "code",
   "execution_count": 3,
   "id": "b160f822",
   "metadata": {},
   "outputs": [
    {
     "name": "stdout",
     "output_type": "stream",
     "text": [
      "<class 'pandas.core.frame.DataFrame'>\n",
      "RangeIndex: 150000 entries, 0 to 149999\n",
      "Data columns (total 50 columns):\n",
      " #   Column                                  Non-Null Count   Dtype  \n",
      "---  ------                                  --------------   -----  \n",
      " 0   RatingID                                150000 non-null  int64  \n",
      " 1   UserID                                  150000 non-null  int64  \n",
      " 2   WineID                                  150000 non-null  int64  \n",
      " 3   Vintage                                 150000 non-null  object \n",
      " 4   Rating                                  150000 non-null  float64\n",
      " 5   Date                                    150000 non-null  object \n",
      " 6   rating_mean                             150000 non-null  float64\n",
      " 7   rater_count                             150000 non-null  int64  \n",
      " 8   rater_mean                              150000 non-null  float64\n",
      " 9   WineName                                150000 non-null  object \n",
      " 10  Type                                    150000 non-null  object \n",
      " 11  Elaborate                               150000 non-null  object \n",
      " 12  Grapes                                  150000 non-null  object \n",
      " 13  Harmonize                               150000 non-null  object \n",
      " 14  ABV                                     150000 non-null  float64\n",
      " 15  Body                                    150000 non-null  object \n",
      " 16  Acidity                                 150000 non-null  object \n",
      " 17  Country                                 150000 non-null  object \n",
      " 18  RegionID                                150000 non-null  int64  \n",
      " 19  RegionName                              150000 non-null  object \n",
      " 20  WineryID                                150000 non-null  int64  \n",
      " 21  WineryName                              150000 non-null  object \n",
      " 22  Vintages                                150000 non-null  object \n",
      " 23  type_Dessert                            150000 non-null  int64  \n",
      " 24  type_Dessert/Port                       150000 non-null  int64  \n",
      " 25  type_Red                                150000 non-null  int64  \n",
      " 26  type_Rosé                               150000 non-null  int64  \n",
      " 27  type_Sparkling                          150000 non-null  int64  \n",
      " 28  type_White                              150000 non-null  int64  \n",
      " 29  elab_Assemblage/Blend                   150000 non-null  int64  \n",
      " 30  elab_Assemblage/Bordeaux Red Blend      150000 non-null  int64  \n",
      " 31  elab_Assemblage/Champagne Blend         150000 non-null  int64  \n",
      " 32  elab_Assemblage/Port Blend              150000 non-null  int64  \n",
      " 33  elab_Assemblage/Portuguese Red Blend    150000 non-null  int64  \n",
      " 34  elab_Assemblage/Portuguese White Blend  150000 non-null  int64  \n",
      " 35  elab_Assemblage/Priorat Red Blend       150000 non-null  int64  \n",
      " 36  elab_Assemblage/Provence Rosé Blend     150000 non-null  int64  \n",
      " 37  elab_Assemblage/Rhône Red Blend         150000 non-null  int64  \n",
      " 38  elab_Assemblage/Tuscan Red Blend        150000 non-null  int64  \n",
      " 39  elab_Assemblage/Valpolicella Red Blend  150000 non-null  int64  \n",
      " 40  elab_Varietal/100%                      150000 non-null  int64  \n",
      " 41  elab_Varietal/>75%                      150000 non-null  int64  \n",
      " 42  body_Full-bodied                        150000 non-null  int64  \n",
      " 43  body_Light-bodied                       150000 non-null  int64  \n",
      " 44  body_Medium-bodied                      150000 non-null  int64  \n",
      " 45  body_Very full-bodied                   150000 non-null  int64  \n",
      " 46  body_Very light-bodied                  150000 non-null  int64  \n",
      " 47  acid_High                               150000 non-null  int64  \n",
      " 48  acid_Low                                150000 non-null  int64  \n",
      " 49  acid_Medium                             150000 non-null  int64  \n",
      "dtypes: float64(4), int64(33), object(13)\n",
      "memory usage: 57.2+ MB\n"
     ]
    }
   ],
   "source": [
    "wine_df.info()"
   ]
  },
  {
   "cell_type": "markdown",
   "id": "7fde1917",
   "metadata": {},
   "source": [
    "Since our recommender system will be based on user ratings of wine, let’s start by parsing out the user id, wine id and rating."
   ]
  },
  {
   "cell_type": "code",
   "execution_count": 4,
   "id": "01867e52",
   "metadata": {},
   "outputs": [],
   "source": [
    "rec_base=wine_df[['UserID', 'WineID','Rating']]"
   ]
  },
  {
   "cell_type": "code",
   "execution_count": 5,
   "id": "7d130ae3",
   "metadata": {},
   "outputs": [
    {
     "name": "stdout",
     "output_type": "stream",
     "text": [
      "<class 'pandas.core.frame.DataFrame'>\n",
      "RangeIndex: 150000 entries, 0 to 149999\n",
      "Data columns (total 3 columns):\n",
      " #   Column  Non-Null Count   Dtype  \n",
      "---  ------  --------------   -----  \n",
      " 0   UserID  150000 non-null  int64  \n",
      " 1   WineID  150000 non-null  int64  \n",
      " 2   Rating  150000 non-null  float64\n",
      "dtypes: float64(1), int64(2)\n",
      "memory usage: 3.4 MB\n"
     ]
    }
   ],
   "source": [
    "rec_base.info()"
   ]
  },
  {
   "cell_type": "markdown",
   "id": "d5b9d200",
   "metadata": {},
   "source": [
    "Next I will create the surprise data set to cross-validate our models on as well as create an anti-set to run predictions on later."
   ]
  },
  {
   "cell_type": "code",
   "execution_count": 6,
   "id": "ed73f1e7",
   "metadata": {},
   "outputs": [],
   "source": [
    "reader = Reader(rating_scale=(1, 5))\n",
    "data = Dataset.load_from_df(rec_base[['UserID', 'WineID', 'Rating']], reader)\n",
    "anti_set = data.build_full_trainset().build_anti_testset()"
   ]
  },
  {
   "cell_type": "markdown",
   "id": "95c985ad",
   "metadata": {},
   "source": [
    "I will start with a Normal Predictor model to examine a baseline RMSE for our dataset."
   ]
  },
  {
   "cell_type": "markdown",
   "id": "e622fb41",
   "metadata": {},
   "source": [
    "### Normal Predictor Model"
   ]
  },
  {
   "cell_type": "code",
   "execution_count": 7,
   "id": "722cbb68",
   "metadata": {},
   "outputs": [
    {
     "name": "stdout",
     "output_type": "stream",
     "text": [
      "Evaluating RMSE, MAE of algorithm NormalPredictor on 3 split(s).\n",
      "\n",
      "                  Fold 1  Fold 2  Fold 3  Mean    Std     \n",
      "RMSE (testset)    0.9067  0.9016  0.9083  0.9055  0.0029  \n",
      "MAE (testset)     0.7185  0.7145  0.7208  0.7179  0.0026  \n",
      "Fit time          0.19    0.21    0.22    0.21    0.01    \n",
      "Test time         0.64    0.67    0.38    0.56    0.13    \n"
     ]
    },
    {
     "data": {
      "text/plain": [
       "{'test_rmse': array([0.90667394, 0.90156515, 0.90830895]),\n",
       " 'test_mae': array([0.71845319, 0.71454768, 0.72079583]),\n",
       " 'fit_time': (0.19170761108398438, 0.21454381942749023, 0.21509575843811035),\n",
       " 'test_time': (0.6432430744171143, 0.6673738956451416, 0.3750443458557129)}"
      ]
     },
     "execution_count": 7,
     "metadata": {},
     "output_type": "execute_result"
    }
   ],
   "source": [
    "algo = NormalPredictor()\n",
    "cross_validate(algo, data, measures=[\"RMSE\", \"MAE\"], cv=3,verbose=True)"
   ]
  },
  {
   "cell_type": "markdown",
   "id": "1bcbfbfa",
   "metadata": {},
   "source": [
    "As expected it looks like our mean RMSE (0.906) is fairly high for a rating scale of 1-5. Let’s try out another model."
   ]
  },
  {
   "cell_type": "markdown",
   "id": "fa59500c",
   "metadata": {},
   "source": [
    "### SVD Model"
   ]
  },
  {
   "cell_type": "code",
   "execution_count": 8,
   "id": "012670bb",
   "metadata": {},
   "outputs": [
    {
     "name": "stdout",
     "output_type": "stream",
     "text": [
      "Evaluating RMSE, MAE of algorithm SVD on 3 split(s).\n",
      "\n",
      "                  Fold 1  Fold 2  Fold 3  Mean    Std     \n",
      "RMSE (testset)    0.4883  0.4865  0.4906  0.4884  0.0017  \n",
      "MAE (testset)     0.3594  0.3580  0.3596  0.3590  0.0007  \n",
      "Fit time          1.64    1.57    1.62    1.61    0.03    \n",
      "Test time         0.70    0.73    0.42    0.61    0.14    \n"
     ]
    },
    {
     "data": {
      "text/plain": [
       "{'test_rmse': array([0.48825139, 0.48650532, 0.49058397]),\n",
       " 'test_mae': array([0.35937552, 0.35795554, 0.35956568]),\n",
       " 'fit_time': (1.636568307876587, 1.5744712352752686, 1.6188795566558838),\n",
       " 'test_time': (0.697878360748291, 0.7256443500518799, 0.41780900955200195)}"
      ]
     },
     "execution_count": 8,
     "metadata": {},
     "output_type": "execute_result"
    }
   ],
   "source": [
    "algo2 = SVD()\n",
    "cross_validate(algo2, data, measures=[\"RMSE\", \"MAE\"], cv=3,verbose=True)"
   ]
  },
  {
   "cell_type": "markdown",
   "id": "6d01ecec",
   "metadata": {},
   "source": [
    "The SVD model gives us a much better mean RMSE of 0.488. Next I will test out some of the KNN models."
   ]
  },
  {
   "cell_type": "markdown",
   "id": "d24dc39c",
   "metadata": {},
   "source": [
    "### KNN With Means Model"
   ]
  },
  {
   "cell_type": "code",
   "execution_count": 9,
   "id": "eb2436a9",
   "metadata": {},
   "outputs": [
    {
     "name": "stdout",
     "output_type": "stream",
     "text": [
      "Computing the msd similarity matrix...\n",
      "Done computing similarity matrix.\n",
      "Computing the msd similarity matrix...\n",
      "Done computing similarity matrix.\n",
      "Computing the msd similarity matrix...\n",
      "Done computing similarity matrix.\n",
      "Evaluating RMSE, MAE of algorithm KNNWithMeans on 3 split(s).\n",
      "\n",
      "                  Fold 1  Fold 2  Fold 3  Mean    Std     \n",
      "RMSE (testset)    0.5238  0.5255  0.5231  0.5242  0.0010  \n",
      "MAE (testset)     0.3893  0.3903  0.3891  0.3895  0.0005  \n",
      "Fit time          4.93    4.86    4.99    4.93    0.05    \n",
      "Test time         18.34   17.24   16.19   17.26   0.88    \n"
     ]
    },
    {
     "data": {
      "text/plain": [
       "{'test_rmse': array([0.52383386, 0.52550199, 0.52314531]),\n",
       " 'test_mae': array([0.38929515, 0.39028789, 0.38905282]),\n",
       " 'fit_time': (4.9270713329315186, 4.861518144607544, 4.986725091934204),\n",
       " 'test_time': (18.344540119171143, 17.24240231513977, 16.18823218345642)}"
      ]
     },
     "execution_count": 9,
     "metadata": {},
     "output_type": "execute_result"
    }
   ],
   "source": [
    "algo3 = KNNWithMeans()\n",
    "cross_validate(algo3, data, measures=[\"RMSE\", \"MAE\"], cv=3,verbose=True)"
   ]
  },
  {
   "cell_type": "markdown",
   "id": "8ec17063",
   "metadata": {},
   "source": [
    "The KNNWithMeans model has a higher mean RMSE than both of the previous models. The test time is also much longer than the both of the previous models. "
   ]
  },
  {
   "cell_type": "markdown",
   "id": "69a3ef97",
   "metadata": {},
   "source": [
    "### KNN Baseline Model"
   ]
  },
  {
   "cell_type": "code",
   "execution_count": 10,
   "id": "fc728c30",
   "metadata": {},
   "outputs": [
    {
     "name": "stdout",
     "output_type": "stream",
     "text": [
      "Estimating biases using als...\n",
      "Computing the msd similarity matrix...\n",
      "Done computing similarity matrix.\n",
      "Estimating biases using als...\n",
      "Computing the msd similarity matrix...\n",
      "Done computing similarity matrix.\n",
      "Estimating biases using als...\n",
      "Computing the msd similarity matrix...\n",
      "Done computing similarity matrix.\n",
      "Evaluating RMSE, MAE of algorithm KNNBaseline on 3 split(s).\n",
      "\n",
      "                  Fold 1  Fold 2  Fold 3  Mean    Std     \n",
      "RMSE (testset)    0.4820  0.4854  0.4937  0.4870  0.0049  \n",
      "MAE (testset)     0.3540  0.3561  0.3600  0.3567  0.0025  \n",
      "Fit time          4.82    5.13    5.02    4.99    0.13    \n",
      "Test time         18.07   17.83   18.61   18.17   0.33    \n"
     ]
    },
    {
     "data": {
      "text/plain": [
       "{'test_rmse': array([0.48197791, 0.48539342, 0.49366408]),\n",
       " 'test_mae': array([0.35398516, 0.35614453, 0.35998461]),\n",
       " 'fit_time': (4.817298889160156, 5.132474899291992, 5.020930051803589),\n",
       " 'test_time': (18.065242767333984, 17.8345844745636, 18.610236167907715)}"
      ]
     },
     "execution_count": 10,
     "metadata": {},
     "output_type": "execute_result"
    }
   ],
   "source": [
    "algo4 = KNNBaseline()\n",
    "cross_validate(algo4, data, measures=[\"RMSE\", \"MAE\"], cv=3,verbose=True)"
   ]
  },
  {
   "cell_type": "markdown",
   "id": "ebfe19cf",
   "metadata": {},
   "source": [
    "The KNNBaseline model seems to have the best mean RMSE at 0.486. It also has the longest mean fit and test time of all of our models. "
   ]
  },
  {
   "cell_type": "markdown",
   "id": "0d6d2ee8",
   "metadata": {},
   "source": [
    "From the results outputted from testing different models on our data, I think it would be wise to move forward with fine tuning and applying both the KNNBaseline model as well as our SVD model. Even though the KNNBaseline model technically has the best mean RMSE, The SVD model has an RMSE that is very close and also would save a lot of test and fit time. I think it would be worth comparing the predictions for both models to find out if we can save time in the long run."
   ]
  },
  {
   "cell_type": "markdown",
   "id": "7374f2c3",
   "metadata": {},
   "source": [
    "First let’s run a grid search for the best hyperparameters for our KNNBaseline Model."
   ]
  },
  {
   "cell_type": "code",
   "execution_count": 11,
   "id": "9764965e",
   "metadata": {},
   "outputs": [],
   "source": [
    "#Gridsearch for KNNBaseline"
   ]
  },
  {
   "cell_type": "code",
   "execution_count": 12,
   "id": "b4161b93",
   "metadata": {},
   "outputs": [
    {
     "name": "stdout",
     "output_type": "stream",
     "text": [
      "Estimating biases using als...\n",
      "Computing the msd similarity matrix...\n",
      "Done computing similarity matrix.\n",
      "Estimating biases using als...\n",
      "Computing the msd similarity matrix...\n",
      "Done computing similarity matrix.\n",
      "Estimating biases using als...\n",
      "Computing the msd similarity matrix...\n",
      "Done computing similarity matrix.\n",
      "Estimating biases using als...\n",
      "Computing the msd similarity matrix...\n",
      "Done computing similarity matrix.\n",
      "Estimating biases using als...\n",
      "Computing the msd similarity matrix...\n",
      "Done computing similarity matrix.\n",
      "Estimating biases using als...\n",
      "Computing the msd similarity matrix...\n",
      "Done computing similarity matrix.\n",
      "Estimating biases using als...\n",
      "Computing the msd similarity matrix...\n",
      "Done computing similarity matrix.\n",
      "Estimating biases using als...\n",
      "Computing the msd similarity matrix...\n",
      "Done computing similarity matrix.\n",
      "Estimating biases using als...\n",
      "Computing the msd similarity matrix...\n",
      "Done computing similarity matrix.\n",
      "Estimating biases using als...\n",
      "Computing the msd similarity matrix...\n",
      "Done computing similarity matrix.\n",
      "Estimating biases using als...\n",
      "Computing the msd similarity matrix...\n",
      "Done computing similarity matrix.\n",
      "Estimating biases using als...\n",
      "Computing the msd similarity matrix...\n",
      "Done computing similarity matrix.\n",
      "Estimating biases using als...\n",
      "Computing the msd similarity matrix...\n",
      "Done computing similarity matrix.\n",
      "Estimating biases using als...\n",
      "Computing the msd similarity matrix...\n",
      "Done computing similarity matrix.\n",
      "Estimating biases using als...\n",
      "Computing the msd similarity matrix...\n",
      "Done computing similarity matrix.\n",
      "Estimating biases using als...\n",
      "Computing the msd similarity matrix...\n",
      "Done computing similarity matrix.\n",
      "Estimating biases using als...\n",
      "Computing the msd similarity matrix...\n",
      "Done computing similarity matrix.\n",
      "Estimating biases using als...\n",
      "Computing the msd similarity matrix...\n",
      "Done computing similarity matrix.\n",
      "Estimating biases using als...\n",
      "Computing the msd similarity matrix...\n",
      "Done computing similarity matrix.\n",
      "Estimating biases using als...\n",
      "Computing the msd similarity matrix...\n",
      "Done computing similarity matrix.\n",
      "Estimating biases using als...\n",
      "Computing the msd similarity matrix...\n",
      "Done computing similarity matrix.\n",
      "Estimating biases using als...\n",
      "Computing the msd similarity matrix...\n",
      "Done computing similarity matrix.\n",
      "Estimating biases using als...\n",
      "Computing the msd similarity matrix...\n",
      "Done computing similarity matrix.\n",
      "Estimating biases using als...\n",
      "Computing the msd similarity matrix...\n",
      "Done computing similarity matrix.\n",
      "Estimating biases using als...\n",
      "Computing the msd similarity matrix...\n",
      "Done computing similarity matrix.\n",
      "Estimating biases using als...\n",
      "Computing the msd similarity matrix...\n",
      "Done computing similarity matrix.\n",
      "Estimating biases using als...\n",
      "Computing the msd similarity matrix...\n",
      "Done computing similarity matrix.\n",
      "Estimating biases using als...\n",
      "Computing the msd similarity matrix...\n",
      "Done computing similarity matrix.\n",
      "Estimating biases using als...\n",
      "Computing the msd similarity matrix...\n",
      "Done computing similarity matrix.\n",
      "Estimating biases using als...\n",
      "Computing the msd similarity matrix...\n",
      "Done computing similarity matrix.\n",
      "Estimating biases using als...\n",
      "Computing the msd similarity matrix...\n",
      "Done computing similarity matrix.\n",
      "Estimating biases using als...\n",
      "Computing the msd similarity matrix...\n",
      "Done computing similarity matrix.\n",
      "Estimating biases using als...\n",
      "Computing the msd similarity matrix...\n",
      "Done computing similarity matrix.\n",
      "Estimating biases using als...\n",
      "Computing the msd similarity matrix...\n",
      "Done computing similarity matrix.\n",
      "Estimating biases using als...\n",
      "Computing the msd similarity matrix...\n",
      "Done computing similarity matrix.\n",
      "Estimating biases using als...\n",
      "Computing the msd similarity matrix...\n",
      "Done computing similarity matrix.\n",
      "Estimating biases using als...\n",
      "Computing the msd similarity matrix...\n",
      "Done computing similarity matrix.\n",
      "Estimating biases using als...\n",
      "Computing the msd similarity matrix...\n",
      "Done computing similarity matrix.\n",
      "Estimating biases using als...\n",
      "Computing the msd similarity matrix...\n",
      "Done computing similarity matrix.\n",
      "Estimating biases using als...\n",
      "Computing the msd similarity matrix...\n",
      "Done computing similarity matrix.\n",
      "Estimating biases using als...\n",
      "Computing the msd similarity matrix...\n",
      "Done computing similarity matrix.\n",
      "Estimating biases using als...\n",
      "Computing the msd similarity matrix...\n",
      "Done computing similarity matrix.\n",
      "Estimating biases using als...\n",
      "Computing the msd similarity matrix...\n",
      "Done computing similarity matrix.\n",
      "Estimating biases using als...\n",
      "Computing the msd similarity matrix...\n",
      "Done computing similarity matrix.\n",
      "Estimating biases using als...\n",
      "Computing the msd similarity matrix...\n",
      "Done computing similarity matrix.\n",
      "Estimating biases using als...\n",
      "Computing the msd similarity matrix...\n",
      "Done computing similarity matrix.\n",
      "Estimating biases using als...\n",
      "Computing the msd similarity matrix...\n",
      "Done computing similarity matrix.\n",
      "Estimating biases using als...\n",
      "Computing the msd similarity matrix...\n",
      "Done computing similarity matrix.\n",
      "Estimating biases using als...\n",
      "Computing the msd similarity matrix...\n",
      "Done computing similarity matrix.\n",
      "Estimating biases using als...\n",
      "Computing the msd similarity matrix...\n",
      "Done computing similarity matrix.\n",
      "Estimating biases using als...\n",
      "Computing the msd similarity matrix...\n",
      "Done computing similarity matrix.\n",
      "Estimating biases using als...\n",
      "Computing the msd similarity matrix...\n",
      "Done computing similarity matrix.\n",
      "Estimating biases using als...\n",
      "Computing the msd similarity matrix...\n",
      "Done computing similarity matrix.\n",
      "Estimating biases using als...\n",
      "Computing the msd similarity matrix...\n",
      "Done computing similarity matrix.\n",
      "Best RMSE: 0.4870563513542923 {'n_epochs': 5, 'lr_all': 0.002, 'reg_all': 0.4}\n"
     ]
    }
   ],
   "source": [
    "param_gridKNNB = {'n_epochs': [5, 10, 15],\n",
    "        'lr_all': [0.002, 0.005],\n",
    "        'reg_all': [0.4, 0.6, 0.8]\n",
    "        }\n",
    "\n",
    "gsKNNB = GridSearchCV(KNNBaseline, param_gridKNNB, measures=['rmse'], cv=3)\n",
    "\n",
    "gsKNNB.fit(data)\n",
    "\n",
    "print('Best RMSE:', gsKNNB.best_score['rmse'], gsKNNB.best_params['rmse'])"
   ]
  },
  {
   "cell_type": "markdown",
   "id": "8051c205",
   "metadata": {},
   "source": [
    "It looks like the best parameters for this model are as follows:\n",
    "{'n_epochs': 5, 'lr_all': 0.002, 'reg_all': 0.4}\n"
   ]
  },
  {
   "cell_type": "markdown",
   "id": "747ecc93",
   "metadata": {},
   "source": [
    "Now let’s find the best parameters for the SVD model."
   ]
  },
  {
   "cell_type": "code",
   "execution_count": 13,
   "id": "02075c37",
   "metadata": {},
   "outputs": [],
   "source": [
    "#GridSearch for SVD"
   ]
  },
  {
   "cell_type": "code",
   "execution_count": 14,
   "id": "dfe07c6a",
   "metadata": {},
   "outputs": [
    {
     "name": "stdout",
     "output_type": "stream",
     "text": [
      "Best RMSE: 0.5020759516493014 {'n_epochs': 15, 'lr_all': 0.005, 'reg_all': 0.4}\n"
     ]
    }
   ],
   "source": [
    "param_grid = {'n_epochs': [5, 10, 15],\n",
    "        'lr_all': [0.002, 0.005],\n",
    "        'reg_all': [0.4, 0.6, 0.8]\n",
    "        }\n",
    "\n",
    "gs_SVD = GridSearchCV(SVD, param_grid, measures=['rmse', 'mae'], cv=3)\n",
    "\n",
    "gs_SVD.fit(data)\n",
    "\n",
    "print('Best RMSE:', gs_SVD.best_score['rmse'], gs_SVD.best_params['rmse'])"
   ]
  },
  {
   "cell_type": "markdown",
   "id": "60859854",
   "metadata": {},
   "source": [
    "The best parameters for the SVD model are as follows:\n",
    "{'n_epochs': 15, 'lr_all': 0.005, 'reg_all': 0.4}"
   ]
  },
  {
   "cell_type": "markdown",
   "id": "e2021bc8",
   "metadata": {},
   "source": [
    "Next I will create the traintest split for the data."
   ]
  },
  {
   "cell_type": "code",
   "execution_count": 15,
   "id": "a1740e08",
   "metadata": {},
   "outputs": [],
   "source": [
    "#update to surprise traintest set to make predictions\n",
    "trainset, testset = train_test_split(data, test_size=0.25, random_state=22)"
   ]
  },
  {
   "cell_type": "markdown",
   "id": "b6bd8e8b",
   "metadata": {},
   "source": [
    "To apply the model and get predictions, I will create a dataframe that will display the user, wine the actual rating and the predicted rating from our model."
   ]
  },
  {
   "cell_type": "code",
   "execution_count": 16,
   "id": "cc52f87d",
   "metadata": {},
   "outputs": [
    {
     "name": "stdout",
     "output_type": "stream",
     "text": [
      "Estimating biases using als...\n",
      "Computing the msd similarity matrix...\n",
      "Done computing similarity matrix.\n"
     ]
    }
   ],
   "source": [
    "#KNNBaseline\n",
    "predictions = KNNBaseline(bsl_options=gsKNNB.best_params['rmse']).fit(trainset).test(testset)\n",
    "KNN_Predictions = pd.DataFrame(predictions, columns=['UserID', 'WineID', 'Real_Rating', 'Estimated_Rating', 'details'])\n",
    "KNN_Predictions.drop(['details'], axis=1, inplace=True)"
   ]
  },
  {
   "cell_type": "code",
   "execution_count": 17,
   "id": "62b88b46",
   "metadata": {},
   "outputs": [],
   "source": [
    "#SVD\n",
    "predictions = SVD(n_epochs=15, lr_all=0.005, reg_all=0.4).fit(trainset).test(testset)\n",
    "SVD_Predictions = pd.DataFrame(predictions, columns=['UserID', 'WineID', 'Real_Rating', 'Estimated_Rating', 'details'])\n",
    "SVD_Predictions.drop(['details'], axis=1, inplace=True)"
   ]
  },
  {
   "cell_type": "markdown",
   "id": "c7b0e342",
   "metadata": {},
   "source": [
    "Because the actual ratings between 1 and 5 all have either .0 or .5 decimals, I want to create a function that will round the predicted results to .0 or .5. This will give us a column that has plausible ratings to make comparisons with as well."
   ]
  },
  {
   "cell_type": "code",
   "execution_count": 18,
   "id": "23eb469c",
   "metadata": {},
   "outputs": [],
   "source": [
    "def halfrounder(x):\n",
    "    frac, whole = math.modf(x)\n",
    "    if frac > 0.7499999:\n",
    "        a = 1\n",
    "    elif frac < 0.25:\n",
    "        a = 0\n",
    "    else:\n",
    "        a = 0.5\n",
    "    return whole + a"
   ]
  },
  {
   "cell_type": "code",
   "execution_count": 19,
   "id": "c3641092",
   "metadata": {},
   "outputs": [],
   "source": [
    "#knnbaseline\n",
    "KNN_Predictions['Estimation_Rounded'] = KNN_Predictions.apply(lambda row: halfrounder(row.Estimated_Rating), axis=1)\n",
    "KNN_Predictions['Error'] = abs(KNN_Predictions['Real_Rating'] - KNN_Predictions['Estimated_Rating'])"
   ]
  },
  {
   "cell_type": "code",
   "execution_count": 20,
   "id": "346bb91d",
   "metadata": {},
   "outputs": [],
   "source": [
    "#svd\n",
    "SVD_Predictions['Estimation_Rounded'] = SVD_Predictions.apply(lambda row: halfrounder(row.Estimated_Rating), axis=1)\n",
    "SVD_Predictions['Error'] = abs(SVD_Predictions['Real_Rating'] - SVD_Predictions['Estimated_Rating'])"
   ]
  },
  {
   "cell_type": "code",
   "execution_count": 21,
   "id": "1e66f97e",
   "metadata": {},
   "outputs": [
    {
     "data": {
      "text/html": [
       "<div>\n",
       "<style scoped>\n",
       "    .dataframe tbody tr th:only-of-type {\n",
       "        vertical-align: middle;\n",
       "    }\n",
       "\n",
       "    .dataframe tbody tr th {\n",
       "        vertical-align: top;\n",
       "    }\n",
       "\n",
       "    .dataframe thead th {\n",
       "        text-align: right;\n",
       "    }\n",
       "</style>\n",
       "<table border=\"1\" class=\"dataframe\">\n",
       "  <thead>\n",
       "    <tr style=\"text-align: right;\">\n",
       "      <th></th>\n",
       "      <th>UserID</th>\n",
       "      <th>WineID</th>\n",
       "      <th>Real_Rating</th>\n",
       "      <th>Estimated_Rating</th>\n",
       "      <th>Estimation_Rounded</th>\n",
       "      <th>Error</th>\n",
       "    </tr>\n",
       "  </thead>\n",
       "  <tbody>\n",
       "    <tr>\n",
       "      <th>0</th>\n",
       "      <td>1971360</td>\n",
       "      <td>111475</td>\n",
       "      <td>4.0</td>\n",
       "      <td>4.297177</td>\n",
       "      <td>4.5</td>\n",
       "      <td>0.297177</td>\n",
       "    </tr>\n",
       "    <tr>\n",
       "      <th>1</th>\n",
       "      <td>1358888</td>\n",
       "      <td>193487</td>\n",
       "      <td>3.0</td>\n",
       "      <td>3.284433</td>\n",
       "      <td>3.5</td>\n",
       "      <td>0.284433</td>\n",
       "    </tr>\n",
       "    <tr>\n",
       "      <th>2</th>\n",
       "      <td>1222064</td>\n",
       "      <td>155623</td>\n",
       "      <td>3.0</td>\n",
       "      <td>2.885143</td>\n",
       "      <td>3.0</td>\n",
       "      <td>0.114857</td>\n",
       "    </tr>\n",
       "    <tr>\n",
       "      <th>3</th>\n",
       "      <td>1095942</td>\n",
       "      <td>113730</td>\n",
       "      <td>4.5</td>\n",
       "      <td>4.218465</td>\n",
       "      <td>4.0</td>\n",
       "      <td>0.281535</td>\n",
       "    </tr>\n",
       "    <tr>\n",
       "      <th>4</th>\n",
       "      <td>1006401</td>\n",
       "      <td>111434</td>\n",
       "      <td>4.0</td>\n",
       "      <td>4.336163</td>\n",
       "      <td>4.5</td>\n",
       "      <td>0.336163</td>\n",
       "    </tr>\n",
       "  </tbody>\n",
       "</table>\n",
       "</div>"
      ],
      "text/plain": [
       "    UserID  WineID  Real_Rating  Estimated_Rating  Estimation_Rounded  \\\n",
       "0  1971360  111475          4.0          4.297177                 4.5   \n",
       "1  1358888  193487          3.0          3.284433                 3.5   \n",
       "2  1222064  155623          3.0          2.885143                 3.0   \n",
       "3  1095942  113730          4.5          4.218465                 4.0   \n",
       "4  1006401  111434          4.0          4.336163                 4.5   \n",
       "\n",
       "      Error  \n",
       "0  0.297177  \n",
       "1  0.284433  \n",
       "2  0.114857  \n",
       "3  0.281535  \n",
       "4  0.336163  "
      ]
     },
     "execution_count": 21,
     "metadata": {},
     "output_type": "execute_result"
    }
   ],
   "source": [
    "KNN_Predictions.head()"
   ]
  },
  {
   "cell_type": "markdown",
   "id": "f124b53d",
   "metadata": {},
   "source": [
    "Now we have a column in our predictions data frame that includes the rounded predictions."
   ]
  },
  {
   "cell_type": "markdown",
   "id": "f11dfd5b",
   "metadata": {},
   "source": [
    "Let’s examine the relationship between the real ratings and the estimated ratings."
   ]
  },
  {
   "cell_type": "code",
   "execution_count": 22,
   "id": "26acefc3",
   "metadata": {},
   "outputs": [
    {
     "data": {
      "text/plain": [
       "0.032"
      ]
     },
     "execution_count": 22,
     "metadata": {},
     "output_type": "execute_result"
    }
   ],
   "source": [
    "(KNN_Predictions['Real_Rating'][KNN_Predictions['Error'] == 0].count())/(KNN_Predictions['Real_Rating'].count())*100"
   ]
  },
  {
   "cell_type": "markdown",
   "id": "10aedb06",
   "metadata": {},
   "source": [
    "The above shows us that only .032 percent of the estimated ratings are equal to the real ratings."
   ]
  },
  {
   "cell_type": "markdown",
   "id": "fe97386c",
   "metadata": {},
   "source": [
    "I want to examine how many estimated ratings have a low error."
   ]
  },
  {
   "cell_type": "code",
   "execution_count": 23,
   "id": "26ed53ad",
   "metadata": {},
   "outputs": [],
   "source": [
    "low_error=KNN_Predictions[KNN_Predictions['Error'] < .1]"
   ]
  },
  {
   "cell_type": "code",
   "execution_count": 24,
   "id": "3a7404af",
   "metadata": {},
   "outputs": [
    {
     "name": "stdout",
     "output_type": "stream",
     "text": [
      "<class 'pandas.core.frame.DataFrame'>\n",
      "Int64Index: 7275 entries, 5 to 37492\n",
      "Data columns (total 6 columns):\n",
      " #   Column              Non-Null Count  Dtype  \n",
      "---  ------              --------------  -----  \n",
      " 0   UserID              7275 non-null   int64  \n",
      " 1   WineID              7275 non-null   int64  \n",
      " 2   Real_Rating         7275 non-null   float64\n",
      " 3   Estimated_Rating    7275 non-null   float64\n",
      " 4   Estimation_Rounded  7275 non-null   float64\n",
      " 5   Error               7275 non-null   float64\n",
      "dtypes: float64(4), int64(2)\n",
      "memory usage: 397.9 KB\n"
     ]
    }
   ],
   "source": [
    "low_error.info()"
   ]
  },
  {
   "cell_type": "code",
   "execution_count": 25,
   "id": "c550665d",
   "metadata": {},
   "outputs": [
    {
     "data": {
      "text/html": [
       "<div>\n",
       "<style scoped>\n",
       "    .dataframe tbody tr th:only-of-type {\n",
       "        vertical-align: middle;\n",
       "    }\n",
       "\n",
       "    .dataframe tbody tr th {\n",
       "        vertical-align: top;\n",
       "    }\n",
       "\n",
       "    .dataframe thead th {\n",
       "        text-align: right;\n",
       "    }\n",
       "</style>\n",
       "<table border=\"1\" class=\"dataframe\">\n",
       "  <thead>\n",
       "    <tr style=\"text-align: right;\">\n",
       "      <th></th>\n",
       "      <th>UserID</th>\n",
       "      <th>WineID</th>\n",
       "      <th>Real_Rating</th>\n",
       "      <th>Estimated_Rating</th>\n",
       "      <th>Estimation_Rounded</th>\n",
       "      <th>Error</th>\n",
       "    </tr>\n",
       "  </thead>\n",
       "  <tbody>\n",
       "    <tr>\n",
       "      <th>5</th>\n",
       "      <td>1215266</td>\n",
       "      <td>111429</td>\n",
       "      <td>4.0</td>\n",
       "      <td>4.067975</td>\n",
       "      <td>4.0</td>\n",
       "      <td>0.067975</td>\n",
       "    </tr>\n",
       "    <tr>\n",
       "      <th>6</th>\n",
       "      <td>1210984</td>\n",
       "      <td>135885</td>\n",
       "      <td>4.0</td>\n",
       "      <td>3.967138</td>\n",
       "      <td>4.0</td>\n",
       "      <td>0.032862</td>\n",
       "    </tr>\n",
       "    <tr>\n",
       "      <th>7</th>\n",
       "      <td>1064790</td>\n",
       "      <td>113344</td>\n",
       "      <td>4.0</td>\n",
       "      <td>4.068471</td>\n",
       "      <td>4.0</td>\n",
       "      <td>0.068471</td>\n",
       "    </tr>\n",
       "    <tr>\n",
       "      <th>10</th>\n",
       "      <td>1387564</td>\n",
       "      <td>167530</td>\n",
       "      <td>3.5</td>\n",
       "      <td>3.484070</td>\n",
       "      <td>3.5</td>\n",
       "      <td>0.015930</td>\n",
       "    </tr>\n",
       "    <tr>\n",
       "      <th>11</th>\n",
       "      <td>1104552</td>\n",
       "      <td>183463</td>\n",
       "      <td>3.5</td>\n",
       "      <td>3.526267</td>\n",
       "      <td>3.5</td>\n",
       "      <td>0.026267</td>\n",
       "    </tr>\n",
       "  </tbody>\n",
       "</table>\n",
       "</div>"
      ],
      "text/plain": [
       "     UserID  WineID  Real_Rating  Estimated_Rating  Estimation_Rounded  \\\n",
       "5   1215266  111429          4.0          4.067975                 4.0   \n",
       "6   1210984  135885          4.0          3.967138                 4.0   \n",
       "7   1064790  113344          4.0          4.068471                 4.0   \n",
       "10  1387564  167530          3.5          3.484070                 3.5   \n",
       "11  1104552  183463          3.5          3.526267                 3.5   \n",
       "\n",
       "       Error  \n",
       "5   0.067975  \n",
       "6   0.032862  \n",
       "7   0.068471  \n",
       "10  0.015930  \n",
       "11  0.026267  "
      ]
     },
     "execution_count": 25,
     "metadata": {},
     "output_type": "execute_result"
    }
   ],
   "source": [
    "low_error.head()"
   ]
  },
  {
   "cell_type": "markdown",
   "id": "5e04057c",
   "metadata": {},
   "source": [
    "This model produced 7278 estimated ratings out of 150,000 with errors less than 0.1. Let’s take a look at the distribution of this subset of real ratings."
   ]
  },
  {
   "cell_type": "code",
   "execution_count": 26,
   "id": "30596ed8",
   "metadata": {},
   "outputs": [
    {
     "data": {
      "image/png": "[encoded data removed]",
      "text/plain": [
       "<Figure size 800x550 with 1 Axes>"
      ]
     },
     "metadata": {},
     "output_type": "display_data"
    }
   ],
   "source": [
    "sns.countplot(data=low_error, x='Real_Rating')\n",
    "plt.ticklabel_format(style='plain', axis='y')\n",
    "plt.show()\n"
   ]
  },
  {
   "cell_type": "markdown",
   "id": "01b79398",
   "metadata": {},
   "source": [
    "It looks like this model is best at predicting ratings of 4.0. It Is also worth noting that this rating distribution is similar to the total data set."
   ]
  },
  {
   "cell_type": "markdown",
   "id": "72bfb5aa",
   "metadata": {},
   "source": [
    "To get a better idea of the amount of accurate predictions we have, I want to create a subset of the dataframe that only includes the rows where the actual user rating and the predicted user ratings match."
   ]
  },
  {
   "cell_type": "code",
   "execution_count": 27,
   "id": "c1433488",
   "metadata": {},
   "outputs": [],
   "source": [
    "Perfect_KNN=KNN_Predictions.query('Real_Rating == Estimated_Rating')"
   ]
  },
  {
   "cell_type": "code",
   "execution_count": 28,
   "id": "f280a43d",
   "metadata": {},
   "outputs": [
    {
     "name": "stdout",
     "output_type": "stream",
     "text": [
      "<class 'pandas.core.frame.DataFrame'>\n",
      "Int64Index: 12 entries, 4223 to 37165\n",
      "Data columns (total 6 columns):\n",
      " #   Column              Non-Null Count  Dtype  \n",
      "---  ------              --------------  -----  \n",
      " 0   UserID              12 non-null     int64  \n",
      " 1   WineID              12 non-null     int64  \n",
      " 2   Real_Rating         12 non-null     float64\n",
      " 3   Estimated_Rating    12 non-null     float64\n",
      " 4   Estimation_Rounded  12 non-null     float64\n",
      " 5   Error               12 non-null     float64\n",
      "dtypes: float64(4), int64(2)\n",
      "memory usage: 672.0 bytes\n"
     ]
    }
   ],
   "source": [
    "Perfect_KNN.info()"
   ]
  },
  {
   "cell_type": "code",
   "execution_count": 29,
   "id": "f0f42b6c",
   "metadata": {},
   "outputs": [
    {
     "data": {
      "text/html": [
       "<div>\n",
       "<style scoped>\n",
       "    .dataframe tbody tr th:only-of-type {\n",
       "        vertical-align: middle;\n",
       "    }\n",
       "\n",
       "    .dataframe tbody tr th {\n",
       "        vertical-align: top;\n",
       "    }\n",
       "\n",
       "    .dataframe thead th {\n",
       "        text-align: right;\n",
       "    }\n",
       "</style>\n",
       "<table border=\"1\" class=\"dataframe\">\n",
       "  <thead>\n",
       "    <tr style=\"text-align: right;\">\n",
       "      <th></th>\n",
       "      <th>UserID</th>\n",
       "      <th>WineID</th>\n",
       "      <th>Real_Rating</th>\n",
       "      <th>Estimated_Rating</th>\n",
       "      <th>Estimation_Rounded</th>\n",
       "      <th>Error</th>\n",
       "    </tr>\n",
       "  </thead>\n",
       "  <tbody>\n",
       "    <tr>\n",
       "      <th>4223</th>\n",
       "      <td>1132942</td>\n",
       "      <td>111415</td>\n",
       "      <td>5.0</td>\n",
       "      <td>5.0</td>\n",
       "      <td>5.0</td>\n",
       "      <td>0.0</td>\n",
       "    </tr>\n",
       "    <tr>\n",
       "      <th>9862</th>\n",
       "      <td>1269346</td>\n",
       "      <td>179061</td>\n",
       "      <td>5.0</td>\n",
       "      <td>5.0</td>\n",
       "      <td>5.0</td>\n",
       "      <td>0.0</td>\n",
       "    </tr>\n",
       "    <tr>\n",
       "      <th>11182</th>\n",
       "      <td>1129337</td>\n",
       "      <td>174184</td>\n",
       "      <td>5.0</td>\n",
       "      <td>5.0</td>\n",
       "      <td>5.0</td>\n",
       "      <td>0.0</td>\n",
       "    </tr>\n",
       "    <tr>\n",
       "      <th>11470</th>\n",
       "      <td>1078952</td>\n",
       "      <td>179043</td>\n",
       "      <td>5.0</td>\n",
       "      <td>5.0</td>\n",
       "      <td>5.0</td>\n",
       "      <td>0.0</td>\n",
       "    </tr>\n",
       "    <tr>\n",
       "      <th>12126</th>\n",
       "      <td>1187231</td>\n",
       "      <td>174184</td>\n",
       "      <td>5.0</td>\n",
       "      <td>5.0</td>\n",
       "      <td>5.0</td>\n",
       "      <td>0.0</td>\n",
       "    </tr>\n",
       "    <tr>\n",
       "      <th>20323</th>\n",
       "      <td>1016381</td>\n",
       "      <td>179043</td>\n",
       "      <td>5.0</td>\n",
       "      <td>5.0</td>\n",
       "      <td>5.0</td>\n",
       "      <td>0.0</td>\n",
       "    </tr>\n",
       "    <tr>\n",
       "      <th>20344</th>\n",
       "      <td>1013202</td>\n",
       "      <td>174184</td>\n",
       "      <td>5.0</td>\n",
       "      <td>5.0</td>\n",
       "      <td>5.0</td>\n",
       "      <td>0.0</td>\n",
       "    </tr>\n",
       "    <tr>\n",
       "      <th>23318</th>\n",
       "      <td>1085339</td>\n",
       "      <td>111415</td>\n",
       "      <td>5.0</td>\n",
       "      <td>5.0</td>\n",
       "      <td>5.0</td>\n",
       "      <td>0.0</td>\n",
       "    </tr>\n",
       "    <tr>\n",
       "      <th>29097</th>\n",
       "      <td>1214100</td>\n",
       "      <td>174184</td>\n",
       "      <td>5.0</td>\n",
       "      <td>5.0</td>\n",
       "      <td>5.0</td>\n",
       "      <td>0.0</td>\n",
       "    </tr>\n",
       "    <tr>\n",
       "      <th>31572</th>\n",
       "      <td>1139787</td>\n",
       "      <td>111415</td>\n",
       "      <td>5.0</td>\n",
       "      <td>5.0</td>\n",
       "      <td>5.0</td>\n",
       "      <td>0.0</td>\n",
       "    </tr>\n",
       "    <tr>\n",
       "      <th>35683</th>\n",
       "      <td>1175360</td>\n",
       "      <td>111395</td>\n",
       "      <td>5.0</td>\n",
       "      <td>5.0</td>\n",
       "      <td>5.0</td>\n",
       "      <td>0.0</td>\n",
       "    </tr>\n",
       "    <tr>\n",
       "      <th>37165</th>\n",
       "      <td>1104702</td>\n",
       "      <td>179061</td>\n",
       "      <td>5.0</td>\n",
       "      <td>5.0</td>\n",
       "      <td>5.0</td>\n",
       "      <td>0.0</td>\n",
       "    </tr>\n",
       "  </tbody>\n",
       "</table>\n",
       "</div>"
      ],
      "text/plain": [
       "        UserID  WineID  Real_Rating  Estimated_Rating  Estimation_Rounded  \\\n",
       "4223   1132942  111415          5.0               5.0                 5.0   \n",
       "9862   1269346  179061          5.0               5.0                 5.0   \n",
       "11182  1129337  174184          5.0               5.0                 5.0   \n",
       "11470  1078952  179043          5.0               5.0                 5.0   \n",
       "12126  1187231  174184          5.0               5.0                 5.0   \n",
       "20323  1016381  179043          5.0               5.0                 5.0   \n",
       "20344  1013202  174184          5.0               5.0                 5.0   \n",
       "23318  1085339  111415          5.0               5.0                 5.0   \n",
       "29097  1214100  174184          5.0               5.0                 5.0   \n",
       "31572  1139787  111415          5.0               5.0                 5.0   \n",
       "35683  1175360  111395          5.0               5.0                 5.0   \n",
       "37165  1104702  179061          5.0               5.0                 5.0   \n",
       "\n",
       "       Error  \n",
       "4223     0.0  \n",
       "9862     0.0  \n",
       "11182    0.0  \n",
       "11470    0.0  \n",
       "12126    0.0  \n",
       "20323    0.0  \n",
       "20344    0.0  \n",
       "23318    0.0  \n",
       "29097    0.0  \n",
       "31572    0.0  \n",
       "35683    0.0  \n",
       "37165    0.0  "
      ]
     },
     "execution_count": 29,
     "metadata": {},
     "output_type": "execute_result"
    }
   ],
   "source": [
    "Perfect_KNN"
   ]
  },
  {
   "cell_type": "markdown",
   "id": "3626f0a7",
   "metadata": {},
   "source": [
    "From this we can see that only 12 of the estimated ratings for this model are perfect matches to the real ratings. We can also see that all of these predicted ratings are 5.0."
   ]
  },
  {
   "cell_type": "markdown",
   "id": "26c080da",
   "metadata": {},
   "source": [
    "Let’s take a look at our predictions with the SVD model."
   ]
  },
  {
   "cell_type": "code",
   "execution_count": 30,
   "id": "43e12ffa",
   "metadata": {},
   "outputs": [
    {
     "data": {
      "text/html": [
       "<div>\n",
       "<style scoped>\n",
       "    .dataframe tbody tr th:only-of-type {\n",
       "        vertical-align: middle;\n",
       "    }\n",
       "\n",
       "    .dataframe tbody tr th {\n",
       "        vertical-align: top;\n",
       "    }\n",
       "\n",
       "    .dataframe thead th {\n",
       "        text-align: right;\n",
       "    }\n",
       "</style>\n",
       "<table border=\"1\" class=\"dataframe\">\n",
       "  <thead>\n",
       "    <tr style=\"text-align: right;\">\n",
       "      <th></th>\n",
       "      <th>UserID</th>\n",
       "      <th>WineID</th>\n",
       "      <th>Real_Rating</th>\n",
       "      <th>Estimated_Rating</th>\n",
       "      <th>Estimation_Rounded</th>\n",
       "      <th>Error</th>\n",
       "    </tr>\n",
       "  </thead>\n",
       "  <tbody>\n",
       "    <tr>\n",
       "      <th>0</th>\n",
       "      <td>1971360</td>\n",
       "      <td>111475</td>\n",
       "      <td>4.0</td>\n",
       "      <td>4.232196</td>\n",
       "      <td>4.0</td>\n",
       "      <td>0.232196</td>\n",
       "    </tr>\n",
       "    <tr>\n",
       "      <th>1</th>\n",
       "      <td>1358888</td>\n",
       "      <td>193487</td>\n",
       "      <td>3.0</td>\n",
       "      <td>3.445211</td>\n",
       "      <td>3.5</td>\n",
       "      <td>0.445211</td>\n",
       "    </tr>\n",
       "    <tr>\n",
       "      <th>2</th>\n",
       "      <td>1222064</td>\n",
       "      <td>155623</td>\n",
       "      <td>3.0</td>\n",
       "      <td>3.068288</td>\n",
       "      <td>3.0</td>\n",
       "      <td>0.068288</td>\n",
       "    </tr>\n",
       "    <tr>\n",
       "      <th>3</th>\n",
       "      <td>1095942</td>\n",
       "      <td>113730</td>\n",
       "      <td>4.5</td>\n",
       "      <td>4.209202</td>\n",
       "      <td>4.0</td>\n",
       "      <td>0.290798</td>\n",
       "    </tr>\n",
       "    <tr>\n",
       "      <th>4</th>\n",
       "      <td>1006401</td>\n",
       "      <td>111434</td>\n",
       "      <td>4.0</td>\n",
       "      <td>4.290544</td>\n",
       "      <td>4.5</td>\n",
       "      <td>0.290544</td>\n",
       "    </tr>\n",
       "  </tbody>\n",
       "</table>\n",
       "</div>"
      ],
      "text/plain": [
       "    UserID  WineID  Real_Rating  Estimated_Rating  Estimation_Rounded  \\\n",
       "0  1971360  111475          4.0          4.232196                 4.0   \n",
       "1  1358888  193487          3.0          3.445211                 3.5   \n",
       "2  1222064  155623          3.0          3.068288                 3.0   \n",
       "3  1095942  113730          4.5          4.209202                 4.0   \n",
       "4  1006401  111434          4.0          4.290544                 4.5   \n",
       "\n",
       "      Error  \n",
       "0  0.232196  \n",
       "1  0.445211  \n",
       "2  0.068288  \n",
       "3  0.290798  \n",
       "4  0.290544  "
      ]
     },
     "execution_count": 30,
     "metadata": {},
     "output_type": "execute_result"
    }
   ],
   "source": [
    "SVD_Predictions.head()"
   ]
  },
  {
   "cell_type": "code",
   "execution_count": 31,
   "id": "eb97d64e",
   "metadata": {},
   "outputs": [
    {
     "data": {
      "text/plain": [
       "0.0"
      ]
     },
     "execution_count": 31,
     "metadata": {},
     "output_type": "execute_result"
    }
   ],
   "source": [
    "(SVD_Predictions['Real_Rating'][SVD_Predictions['Error'] == 0].count())/(SVD_Predictions['Real_Rating'].count())*100"
   ]
  },
  {
   "cell_type": "code",
   "execution_count": 32,
   "id": "1ee74e6d",
   "metadata": {},
   "outputs": [],
   "source": [
    "Perfect_SVD=SVD_Predictions.query('Real_Rating == Estimated_Rating')"
   ]
  },
  {
   "cell_type": "code",
   "execution_count": 33,
   "id": "166ead29",
   "metadata": {},
   "outputs": [
    {
     "name": "stdout",
     "output_type": "stream",
     "text": [
      "<class 'pandas.core.frame.DataFrame'>\n",
      "Int64Index: 0 entries\n",
      "Data columns (total 6 columns):\n",
      " #   Column              Non-Null Count  Dtype  \n",
      "---  ------              --------------  -----  \n",
      " 0   UserID              0 non-null      int64  \n",
      " 1   WineID              0 non-null      int64  \n",
      " 2   Real_Rating         0 non-null      float64\n",
      " 3   Estimated_Rating    0 non-null      float64\n",
      " 4   Estimation_Rounded  0 non-null      float64\n",
      " 5   Error               0 non-null      float64\n",
      "dtypes: float64(4), int64(2)\n",
      "memory usage: 0.0 bytes\n"
     ]
    }
   ],
   "source": [
    "Perfect_SVD.info()"
   ]
  },
  {
   "cell_type": "markdown",
   "id": "fca039e4",
   "metadata": {},
   "source": [
    "The SVD model predicts 0 accurate ratings in the estimated column. Let’s take a look at how many ratings we get with a low error."
   ]
  },
  {
   "cell_type": "code",
   "execution_count": 34,
   "id": "0877a23d",
   "metadata": {},
   "outputs": [],
   "source": [
    "low_error2=SVD_Predictions[SVD_Predictions['Error'] < .1]"
   ]
  },
  {
   "cell_type": "code",
   "execution_count": 35,
   "id": "3db9fbe2",
   "metadata": {},
   "outputs": [
    {
     "name": "stdout",
     "output_type": "stream",
     "text": [
      "<class 'pandas.core.frame.DataFrame'>\n",
      "Int64Index: 7078 entries, 2 to 37496\n",
      "Data columns (total 6 columns):\n",
      " #   Column              Non-Null Count  Dtype  \n",
      "---  ------              --------------  -----  \n",
      " 0   UserID              7078 non-null   int64  \n",
      " 1   WineID              7078 non-null   int64  \n",
      " 2   Real_Rating         7078 non-null   float64\n",
      " 3   Estimated_Rating    7078 non-null   float64\n",
      " 4   Estimation_Rounded  7078 non-null   float64\n",
      " 5   Error               7078 non-null   float64\n",
      "dtypes: float64(4), int64(2)\n",
      "memory usage: 387.1 KB\n"
     ]
    }
   ],
   "source": [
    "low_error2.info()"
   ]
  },
  {
   "cell_type": "code",
   "execution_count": 36,
   "id": "46faf0d5",
   "metadata": {},
   "outputs": [
    {
     "data": {
      "text/html": [
       "<div>\n",
       "<style scoped>\n",
       "    .dataframe tbody tr th:only-of-type {\n",
       "        vertical-align: middle;\n",
       "    }\n",
       "\n",
       "    .dataframe tbody tr th {\n",
       "        vertical-align: top;\n",
       "    }\n",
       "\n",
       "    .dataframe thead th {\n",
       "        text-align: right;\n",
       "    }\n",
       "</style>\n",
       "<table border=\"1\" class=\"dataframe\">\n",
       "  <thead>\n",
       "    <tr style=\"text-align: right;\">\n",
       "      <th></th>\n",
       "      <th>UserID</th>\n",
       "      <th>WineID</th>\n",
       "      <th>Real_Rating</th>\n",
       "      <th>Estimated_Rating</th>\n",
       "      <th>Estimation_Rounded</th>\n",
       "      <th>Error</th>\n",
       "    </tr>\n",
       "  </thead>\n",
       "  <tbody>\n",
       "    <tr>\n",
       "      <th>2</th>\n",
       "      <td>1222064</td>\n",
       "      <td>155623</td>\n",
       "      <td>3.0</td>\n",
       "      <td>3.068288</td>\n",
       "      <td>3.0</td>\n",
       "      <td>0.068288</td>\n",
       "    </tr>\n",
       "    <tr>\n",
       "      <th>5</th>\n",
       "      <td>1215266</td>\n",
       "      <td>111429</td>\n",
       "      <td>4.0</td>\n",
       "      <td>4.082315</td>\n",
       "      <td>4.0</td>\n",
       "      <td>0.082315</td>\n",
       "    </tr>\n",
       "    <tr>\n",
       "      <th>7</th>\n",
       "      <td>1064790</td>\n",
       "      <td>113344</td>\n",
       "      <td>4.0</td>\n",
       "      <td>3.970611</td>\n",
       "      <td>4.0</td>\n",
       "      <td>0.029389</td>\n",
       "    </tr>\n",
       "    <tr>\n",
       "      <th>10</th>\n",
       "      <td>1387564</td>\n",
       "      <td>167530</td>\n",
       "      <td>3.5</td>\n",
       "      <td>3.523824</td>\n",
       "      <td>3.5</td>\n",
       "      <td>0.023824</td>\n",
       "    </tr>\n",
       "    <tr>\n",
       "      <th>12</th>\n",
       "      <td>1765460</td>\n",
       "      <td>111590</td>\n",
       "      <td>4.0</td>\n",
       "      <td>4.037386</td>\n",
       "      <td>4.0</td>\n",
       "      <td>0.037386</td>\n",
       "    </tr>\n",
       "  </tbody>\n",
       "</table>\n",
       "</div>"
      ],
      "text/plain": [
       "     UserID  WineID  Real_Rating  Estimated_Rating  Estimation_Rounded  \\\n",
       "2   1222064  155623          3.0          3.068288                 3.0   \n",
       "5   1215266  111429          4.0          4.082315                 4.0   \n",
       "7   1064790  113344          4.0          3.970611                 4.0   \n",
       "10  1387564  167530          3.5          3.523824                 3.5   \n",
       "12  1765460  111590          4.0          4.037386                 4.0   \n",
       "\n",
       "       Error  \n",
       "2   0.068288  \n",
       "5   0.082315  \n",
       "7   0.029389  \n",
       "10  0.023824  \n",
       "12  0.037386  "
      ]
     },
     "execution_count": 36,
     "metadata": {},
     "output_type": "execute_result"
    }
   ],
   "source": [
    "low_error2.head()"
   ]
  },
  {
   "cell_type": "markdown",
   "id": "3078872e",
   "metadata": {},
   "source": [
    "The number of predictions in this data subset is 7093. This is similar to but less than the number of low error predictions from the KNN baseline model. Let’s take a look at the distribution of this subset as well."
   ]
  },
  {
   "cell_type": "code",
   "execution_count": 37,
   "id": "0b69fd39",
   "metadata": {},
   "outputs": [
    {
     "data": {
      "image/png": "[encoded data removed]",
      "text/plain": [
       "<Figure size 800x550 with 1 Axes>"
      ]
     },
     "metadata": {},
     "output_type": "display_data"
    }
   ],
   "source": [
    "sns.countplot(data=low_error2, x='Real_Rating')\n",
    "plt.ticklabel_format(style='plain', axis='y')\n",
    "plt.show()\n"
   ]
  },
  {
   "cell_type": "markdown",
   "id": "0d7e9682",
   "metadata": {},
   "source": [
    "The rating distribution for this model is very similar to the KNNBaseline model with the top represented rating being 4.0."
   ]
  },
  {
   "cell_type": "markdown",
   "id": "6059f44b",
   "metadata": {},
   "source": [
    "### Conclusions"
   ]
  },
  {
   "cell_type": "markdown",
   "id": "266c1780",
   "metadata": {},
   "source": [
    "After using each model to create predictions it looks like the KNNBaseline model produces better results than the SVD model. The SVD model predicted zero accurate estimated ratings while the KNN baseline produces a small percentage of accurate predictions of the user ratings. It seems that the KNNBaseline would be the better model to use to increase the chance of predicting ratings more accurately. "
   ]
  }
 ],
 "metadata": {
  "kernelspec": {
   "display_name": "Python 3 (ipykernel)",
   "language": "python",
   "name": "python3"
  },
  "language_info": {
   "codemirror_mode": {
    "name": "ipython",
    "version": 3
   },
   "file_extension": ".py",
   "mimetype": "text/x-python",
   "name": "python",
   "nbconvert_exporter": "python",
   "pygments_lexer": "ipython3",
   "version": "3.9.13"
  }
 },
 "nbformat": 4,
 "nbformat_minor": 5
}
