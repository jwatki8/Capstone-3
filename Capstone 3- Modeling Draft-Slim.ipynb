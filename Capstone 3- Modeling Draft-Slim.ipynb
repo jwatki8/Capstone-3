{
 "cells": [
  {
   "cell_type": "code",
   "execution_count": 1,
   "id": "c3f901c9",
   "metadata": {},
   "outputs": [],
   "source": [
    "import pandas as pd\n",
    "import numpy as np\n",
    "import os\n",
    "import matplotlib.pyplot as plt\n",
    "import seaborn as sns\n",
    "import sklearn\n",
    "from sklearn.feature_extraction.text import CountVectorizer\n",
    "from sklearn.metrics.pairwise import cosine_similarity\n",
    "import spacy\n",
    "from yellowbrick.text import FreqDistVisualizer\n",
    "from pathlib import Path\n",
    "nlp=spacy.load('en_core_web_sm')\n",
    "from textblob import TextBlob, Word, Blobber\n",
    "\n",
    "from sb_utils import save_file\n",
    "\n",
    "\n",
    "from surprise import accuracy, Dataset, SVD, NormalPredictor, BaselineOnly\n",
    "from surprise import Reader\n",
    "from surprise.model_selection import cross_validate, train_test_split, LeaveOneOut, ShuffleSplit \n",
    "from surprise.model_selection import RandomizedSearchCV,GridSearchCV\n",
    "from surprise import KNNBasic,  KNNWithMeans, KNNBaseline\n",
    "from surprise.model_selection import KFold\n",
    "\n",
    "from sklearn.model_selection import train_test_split as tts1\n",
    "import datetime\n",
    "import math"
   ]
  },
  {
   "cell_type": "code",
   "execution_count": 2,
   "id": "84dcc569",
   "metadata": {},
   "outputs": [],
   "source": [
    "wine_df = pd.read_csv('C:/Users/jwatki8/Documents/Data Science Program information/Capstone project 3/data/wine_df_S.csv')"
   ]
  },
  {
   "cell_type": "code",
   "execution_count": 3,
   "id": "b160f822",
   "metadata": {},
   "outputs": [
    {
     "name": "stdout",
     "output_type": "stream",
     "text": [
      "<class 'pandas.core.frame.DataFrame'>\n",
      "RangeIndex: 150000 entries, 0 to 149999\n",
      "Data columns (total 50 columns):\n",
      " #   Column                                  Non-Null Count   Dtype  \n",
      "---  ------                                  --------------   -----  \n",
      " 0   RatingID                                150000 non-null  int64  \n",
      " 1   UserID                                  150000 non-null  int64  \n",
      " 2   WineID                                  150000 non-null  int64  \n",
      " 3   Vintage                                 150000 non-null  object \n",
      " 4   Rating                                  150000 non-null  float64\n",
      " 5   Date                                    150000 non-null  object \n",
      " 6   rating_mean                             150000 non-null  float64\n",
      " 7   rater_count                             150000 non-null  int64  \n",
      " 8   rater_mean                              150000 non-null  float64\n",
      " 9   WineName                                150000 non-null  object \n",
      " 10  Type                                    150000 non-null  object \n",
      " 11  Elaborate                               150000 non-null  object \n",
      " 12  Grapes                                  150000 non-null  object \n",
      " 13  Harmonize                               150000 non-null  object \n",
      " 14  ABV                                     150000 non-null  float64\n",
      " 15  Body                                    150000 non-null  object \n",
      " 16  Acidity                                 150000 non-null  object \n",
      " 17  Country                                 150000 non-null  object \n",
      " 18  RegionID                                150000 non-null  int64  \n",
      " 19  RegionName                              150000 non-null  object \n",
      " 20  WineryID                                150000 non-null  int64  \n",
      " 21  WineryName                              150000 non-null  object \n",
      " 22  Vintages                                150000 non-null  object \n",
      " 23  type_Dessert                            150000 non-null  int64  \n",
      " 24  type_Dessert/Port                       150000 non-null  int64  \n",
      " 25  type_Red                                150000 non-null  int64  \n",
      " 26  type_Rosé                               150000 non-null  int64  \n",
      " 27  type_Sparkling                          150000 non-null  int64  \n",
      " 28  type_White                              150000 non-null  int64  \n",
      " 29  elab_Assemblage/Blend                   150000 non-null  int64  \n",
      " 30  elab_Assemblage/Bordeaux Red Blend      150000 non-null  int64  \n",
      " 31  elab_Assemblage/Champagne Blend         150000 non-null  int64  \n",
      " 32  elab_Assemblage/Port Blend              150000 non-null  int64  \n",
      " 33  elab_Assemblage/Portuguese Red Blend    150000 non-null  int64  \n",
      " 34  elab_Assemblage/Portuguese White Blend  150000 non-null  int64  \n",
      " 35  elab_Assemblage/Priorat Red Blend       150000 non-null  int64  \n",
      " 36  elab_Assemblage/Provence Rosé Blend     150000 non-null  int64  \n",
      " 37  elab_Assemblage/Rhône Red Blend         150000 non-null  int64  \n",
      " 38  elab_Assemblage/Tuscan Red Blend        150000 non-null  int64  \n",
      " 39  elab_Assemblage/Valpolicella Red Blend  150000 non-null  int64  \n",
      " 40  elab_Varietal/100%                      150000 non-null  int64  \n",
      " 41  elab_Varietal/>75%                      150000 non-null  int64  \n",
      " 42  body_Full-bodied                        150000 non-null  int64  \n",
      " 43  body_Light-bodied                       150000 non-null  int64  \n",
      " 44  body_Medium-bodied                      150000 non-null  int64  \n",
      " 45  body_Very full-bodied                   150000 non-null  int64  \n",
      " 46  body_Very light-bodied                  150000 non-null  int64  \n",
      " 47  acid_High                               150000 non-null  int64  \n",
      " 48  acid_Low                                150000 non-null  int64  \n",
      " 49  acid_Medium                             150000 non-null  int64  \n",
      "dtypes: float64(4), int64(33), object(13)\n",
      "memory usage: 57.2+ MB\n"
     ]
    }
   ],
   "source": [
    "wine_df.info()"
   ]
  },
  {
   "cell_type": "markdown",
   "id": "7fde1917",
   "metadata": {},
   "source": [
    "Since our recommender system will be based on user ratings of wine, let’s start by parsing out the user id, wine id and rating."
   ]
  },
  {
   "cell_type": "code",
   "execution_count": 4,
   "id": "01867e52",
   "metadata": {},
   "outputs": [],
   "source": [
    "rec_base=wine_df[['UserID', 'WineID','Rating']]"
   ]
  },
  {
   "cell_type": "code",
   "execution_count": 5,
   "id": "7d130ae3",
   "metadata": {},
   "outputs": [
    {
     "name": "stdout",
     "output_type": "stream",
     "text": [
      "<class 'pandas.core.frame.DataFrame'>\n",
      "RangeIndex: 150000 entries, 0 to 149999\n",
      "Data columns (total 3 columns):\n",
      " #   Column  Non-Null Count   Dtype  \n",
      "---  ------  --------------   -----  \n",
      " 0   UserID  150000 non-null  int64  \n",
      " 1   WineID  150000 non-null  int64  \n",
      " 2   Rating  150000 non-null  float64\n",
      "dtypes: float64(1), int64(2)\n",
      "memory usage: 3.4 MB\n"
     ]
    }
   ],
   "source": [
    "rec_base.info()"
   ]
  },
  {
   "cell_type": "markdown",
   "id": "d5b9d200",
   "metadata": {},
   "source": [
    "Next I will create the surprise data set to cross-validate our models on as well as create an anti-set to run predictions on later."
   ]
  },
  {
   "cell_type": "code",
   "execution_count": 6,
   "id": "ed73f1e7",
   "metadata": {},
   "outputs": [],
   "source": [
    "reader = Reader(rating_scale=(1, 5))\n",
    "data = Dataset.load_from_df(rec_base[['UserID', 'WineID', 'Rating']], reader)\n",
    "anti_set = data.build_full_trainset().build_anti_testset()"
   ]
  },
  {
   "cell_type": "markdown",
   "id": "95c985ad",
   "metadata": {},
   "source": [
    "I will start with a Normal Predictor model to examine a baseline RMSE for our dataset."
   ]
  },
  {
   "cell_type": "markdown",
   "id": "e622fb41",
   "metadata": {},
   "source": [
    "### Normal Predictor Model"
   ]
  },
  {
   "cell_type": "code",
   "execution_count": 7,
   "id": "722cbb68",
   "metadata": {},
   "outputs": [
    {
     "name": "stdout",
     "output_type": "stream",
     "text": [
      "Evaluating RMSE, MAE of algorithm NormalPredictor on 3 split(s).\n",
      "\n",
      "                  Fold 1  Fold 2  Fold 3  Mean    Std     \n",
      "RMSE (testset)    0.9055  0.9019  0.9085  0.9053  0.0027  \n",
      "MAE (testset)     0.7171  0.7152  0.7219  0.7181  0.0028  \n",
      "Fit time          0.17    0.19    0.19    0.18    0.01    \n",
      "Test time         0.56    0.57    0.34    0.49    0.11    \n"
     ]
    },
    {
     "data": {
      "text/plain": [
       "{'test_rmse': array([0.90546002, 0.90189442, 0.90846457]),\n",
       " 'test_mae': array([0.71714124, 0.7151529 , 0.72189367]),\n",
       " 'fit_time': (0.16591095924377441, 0.19288969039916992, 0.18789148330688477),\n",
       " 'test_time': (0.5636751651763916, 0.5672638416290283, 0.33780598640441895)}"
      ]
     },
     "execution_count": 7,
     "metadata": {},
     "output_type": "execute_result"
    }
   ],
   "source": [
    "algo = NormalPredictor()\n",
    "cross_validate(algo, data, measures=[\"RMSE\", \"MAE\"], cv=3,verbose=True)"
   ]
  },
  {
   "cell_type": "markdown",
   "id": "1bcbfbfa",
   "metadata": {},
   "source": [
    "As expected it looks like our mean RMSE (0.906) is fairly high for a rating scale of 1-5. Let’s try out another model."
   ]
  },
  {
   "cell_type": "markdown",
   "id": "fa59500c",
   "metadata": {},
   "source": [
    "### SVD Model"
   ]
  },
  {
   "cell_type": "code",
   "execution_count": 8,
   "id": "012670bb",
   "metadata": {},
   "outputs": [
    {
     "name": "stdout",
     "output_type": "stream",
     "text": [
      "Evaluating RMSE, MAE of algorithm SVD on 3 split(s).\n",
      "\n",
      "                  Fold 1  Fold 2  Fold 3  Mean    Std     \n",
      "RMSE (testset)    0.4897  0.4896  0.4883  0.4892  0.0006  \n",
      "MAE (testset)     0.3593  0.3593  0.3594  0.3593  0.0000  \n",
      "Fit time          1.42    1.59    2.40    1.80    0.43    \n",
      "Test time         0.61    0.71    0.50    0.61    0.09    \n"
     ]
    },
    {
     "data": {
      "text/plain": [
       "{'test_rmse': array([0.48972791, 0.48958801, 0.48829018]),\n",
       " 'test_mae': array([0.35932707, 0.35931971, 0.35936035]),\n",
       " 'fit_time': (1.4221687316894531, 1.58656907081604, 2.398963212966919),\n",
       " 'test_time': (0.6126642227172852, 0.7121484279632568, 0.4967479705810547)}"
      ]
     },
     "execution_count": 8,
     "metadata": {},
     "output_type": "execute_result"
    }
   ],
   "source": [
    "algo2 = SVD()\n",
    "cross_validate(algo2, data, measures=[\"RMSE\", \"MAE\"], cv=3,verbose=True)"
   ]
  },
  {
   "cell_type": "markdown",
   "id": "6d01ecec",
   "metadata": {},
   "source": [
    "The SVD model gives us a much better mean RMSE of 0.488. Next I will test out some of the KNN models."
   ]
  },
  {
   "cell_type": "markdown",
   "id": "d24dc39c",
   "metadata": {},
   "source": [
    "### KNN With Means Model"
   ]
  },
  {
   "cell_type": "code",
   "execution_count": 9,
   "id": "eb2436a9",
   "metadata": {},
   "outputs": [
    {
     "name": "stdout",
     "output_type": "stream",
     "text": [
      "Computing the msd similarity matrix...\n",
      "Done computing similarity matrix.\n",
      "Computing the msd similarity matrix...\n",
      "Done computing similarity matrix.\n",
      "Computing the msd similarity matrix...\n",
      "Done computing similarity matrix.\n",
      "Evaluating RMSE, MAE of algorithm KNNWithMeans on 3 split(s).\n",
      "\n",
      "                  Fold 1  Fold 2  Fold 3  Mean    Std     \n",
      "RMSE (testset)    0.5242  0.5275  0.5215  0.5244  0.0025  \n",
      "MAE (testset)     0.3891  0.3912  0.3882  0.3895  0.0013  \n",
      "Fit time          4.64    5.01    4.72    4.79    0.16    \n",
      "Test time         16.78   17.16   15.35   16.43   0.78    \n"
     ]
    },
    {
     "data": {
      "text/plain": [
       "{'test_rmse': array([0.52420318, 0.52752245, 0.52152346]),\n",
       " 'test_mae': array([0.38906131, 0.39119688, 0.38819892]),\n",
       " 'fit_time': (4.6422765254974365, 5.011636734008789, 4.721883773803711),\n",
       " 'test_time': (16.7757830619812, 17.15996289253235, 15.353219985961914)}"
      ]
     },
     "execution_count": 9,
     "metadata": {},
     "output_type": "execute_result"
    }
   ],
   "source": [
    "algo3 = KNNWithMeans()\n",
    "cross_validate(algo3, data, measures=[\"RMSE\", \"MAE\"], cv=3,verbose=True)"
   ]
  },
  {
   "cell_type": "markdown",
   "id": "8ec17063",
   "metadata": {},
   "source": [
    "The KNNWithMeans model has a higher mean RMSE than the previous model. The test time is also much longer than the both of the previous models. "
   ]
  },
  {
   "cell_type": "markdown",
   "id": "69a3ef97",
   "metadata": {},
   "source": [
    "### KNN Baseline Model"
   ]
  },
  {
   "cell_type": "code",
   "execution_count": 10,
   "id": "fc728c30",
   "metadata": {},
   "outputs": [
    {
     "name": "stdout",
     "output_type": "stream",
     "text": [
      "Estimating biases using als...\n",
      "Computing the msd similarity matrix...\n",
      "Done computing similarity matrix.\n",
      "Estimating biases using als...\n",
      "Computing the msd similarity matrix...\n",
      "Done computing similarity matrix.\n",
      "Estimating biases using als...\n",
      "Computing the msd similarity matrix...\n",
      "Done computing similarity matrix.\n",
      "Evaluating RMSE, MAE of algorithm KNNBaseline on 3 split(s).\n",
      "\n",
      "                  Fold 1  Fold 2  Fold 3  Mean    Std     \n",
      "RMSE (testset)    0.4889  0.4890  0.4844  0.4874  0.0021  \n",
      "MAE (testset)     0.3565  0.3581  0.3556  0.3567  0.0010  \n",
      "Fit time          4.77    5.05    5.23    5.01    0.19    \n",
      "Test time         17.26   17.88   17.95   17.70   0.31    \n"
     ]
    },
    {
     "data": {
      "text/plain": [
       "{'test_rmse': array([0.48885374, 0.48897857, 0.4844312 ]),\n",
       " 'test_mae': array([0.35646568, 0.3580669 , 0.35559216]),\n",
       " 'fit_time': (4.765731334686279, 5.045135736465454, 5.22603440284729),\n",
       " 'test_time': (17.257729291915894, 17.884800672531128, 17.953495740890503)}"
      ]
     },
     "execution_count": 10,
     "metadata": {},
     "output_type": "execute_result"
    }
   ],
   "source": [
    "algo4 = KNNBaseline()\n",
    "cross_validate(algo4, data, measures=[\"RMSE\", \"MAE\"], cv=3,verbose=True)"
   ]
  },
  {
   "cell_type": "markdown",
   "id": "ebfe19cf",
   "metadata": {},
   "source": [
    "The KNNBaseline model seems to have the best mean RMSE at 0.486. It also has the longest mean fit and test time of all of our models. "
   ]
  },
  {
   "cell_type": "markdown",
   "id": "0d6d2ee8",
   "metadata": {},
   "source": [
    "From the results outputted from testing different models on our data, I think it would be wise to move forward with fine tuning and applying both the KNNBaseline model as well as our SVD model. Even though the KNNBaseline model technically has the best mean RMSE, The SVD model has an RMSE that is very close and also would save a lot of test and fit time. I think it would be worth comparing the predictions for both models to find out if we can save time in the long run."
   ]
  },
  {
   "cell_type": "markdown",
   "id": "7374f2c3",
   "metadata": {},
   "source": [
    "First let’s run a grid search for the best hyperparameters for our KNNBaseline Model."
   ]
  },
  {
   "cell_type": "code",
   "execution_count": 11,
   "id": "9764965e",
   "metadata": {},
   "outputs": [],
   "source": [
    "#Gridsearch for KNNBaseline"
   ]
  },
  {
   "cell_type": "code",
   "execution_count": 12,
   "id": "b4161b93",
   "metadata": {},
   "outputs": [
    {
     "name": "stdout",
     "output_type": "stream",
     "text": [
      "Estimating biases using als...\n",
      "Computing the msd similarity matrix...\n",
      "Done computing similarity matrix.\n",
      "Estimating biases using als...\n",
      "Computing the msd similarity matrix...\n",
      "Done computing similarity matrix.\n",
      "Estimating biases using als...\n",
      "Computing the msd similarity matrix...\n",
      "Done computing similarity matrix.\n",
      "Estimating biases using als...\n",
      "Computing the msd similarity matrix...\n",
      "Done computing similarity matrix.\n",
      "Estimating biases using als...\n",
      "Computing the msd similarity matrix...\n",
      "Done computing similarity matrix.\n",
      "Estimating biases using als...\n",
      "Computing the msd similarity matrix...\n",
      "Done computing similarity matrix.\n",
      "Estimating biases using als...\n",
      "Computing the msd similarity matrix...\n",
      "Done computing similarity matrix.\n",
      "Estimating biases using als...\n",
      "Computing the msd similarity matrix...\n",
      "Done computing similarity matrix.\n",
      "Estimating biases using als...\n",
      "Computing the msd similarity matrix...\n",
      "Done computing similarity matrix.\n",
      "Estimating biases using als...\n",
      "Computing the msd similarity matrix...\n",
      "Done computing similarity matrix.\n",
      "Estimating biases using als...\n",
      "Computing the msd similarity matrix...\n",
      "Done computing similarity matrix.\n",
      "Estimating biases using als...\n",
      "Computing the msd similarity matrix...\n",
      "Done computing similarity matrix.\n",
      "Estimating biases using als...\n",
      "Computing the msd similarity matrix...\n",
      "Done computing similarity matrix.\n",
      "Estimating biases using als...\n",
      "Computing the msd similarity matrix...\n",
      "Done computing similarity matrix.\n",
      "Estimating biases using als...\n",
      "Computing the msd similarity matrix...\n",
      "Done computing similarity matrix.\n",
      "Estimating biases using als...\n",
      "Computing the msd similarity matrix...\n",
      "Done computing similarity matrix.\n",
      "Estimating biases using als...\n",
      "Computing the msd similarity matrix...\n",
      "Done computing similarity matrix.\n",
      "Estimating biases using als...\n",
      "Computing the msd similarity matrix...\n",
      "Done computing similarity matrix.\n",
      "Estimating biases using als...\n",
      "Computing the msd similarity matrix...\n",
      "Done computing similarity matrix.\n",
      "Estimating biases using als...\n",
      "Computing the msd similarity matrix...\n",
      "Done computing similarity matrix.\n",
      "Estimating biases using als...\n",
      "Computing the msd similarity matrix...\n",
      "Done computing similarity matrix.\n",
      "Estimating biases using als...\n",
      "Computing the msd similarity matrix...\n",
      "Done computing similarity matrix.\n",
      "Estimating biases using als...\n",
      "Computing the msd similarity matrix...\n",
      "Done computing similarity matrix.\n",
      "Estimating biases using als...\n",
      "Computing the msd similarity matrix...\n",
      "Done computing similarity matrix.\n",
      "Estimating biases using als...\n",
      "Computing the msd similarity matrix...\n",
      "Done computing similarity matrix.\n",
      "Estimating biases using als...\n",
      "Computing the msd similarity matrix...\n",
      "Done computing similarity matrix.\n",
      "Estimating biases using als...\n",
      "Computing the msd similarity matrix...\n",
      "Done computing similarity matrix.\n",
      "Estimating biases using als...\n",
      "Computing the msd similarity matrix...\n",
      "Done computing similarity matrix.\n",
      "Estimating biases using als...\n",
      "Computing the msd similarity matrix...\n",
      "Done computing similarity matrix.\n",
      "Estimating biases using als...\n",
      "Computing the msd similarity matrix...\n",
      "Done computing similarity matrix.\n",
      "Estimating biases using als...\n",
      "Computing the msd similarity matrix...\n",
      "Done computing similarity matrix.\n",
      "Estimating biases using als...\n",
      "Computing the msd similarity matrix...\n",
      "Done computing similarity matrix.\n",
      "Estimating biases using als...\n",
      "Computing the msd similarity matrix...\n",
      "Done computing similarity matrix.\n",
      "Estimating biases using als...\n",
      "Computing the msd similarity matrix...\n",
      "Done computing similarity matrix.\n",
      "Estimating biases using als...\n",
      "Computing the msd similarity matrix...\n",
      "Done computing similarity matrix.\n",
      "Estimating biases using als...\n",
      "Computing the msd similarity matrix...\n",
      "Done computing similarity matrix.\n",
      "Estimating biases using als...\n",
      "Computing the msd similarity matrix...\n",
      "Done computing similarity matrix.\n",
      "Estimating biases using als...\n",
      "Computing the msd similarity matrix...\n",
      "Done computing similarity matrix.\n",
      "Estimating biases using als...\n",
      "Computing the msd similarity matrix...\n",
      "Done computing similarity matrix.\n",
      "Estimating biases using als...\n",
      "Computing the msd similarity matrix...\n",
      "Done computing similarity matrix.\n",
      "Estimating biases using als...\n",
      "Computing the msd similarity matrix...\n",
      "Done computing similarity matrix.\n",
      "Estimating biases using als...\n",
      "Computing the msd similarity matrix...\n",
      "Done computing similarity matrix.\n",
      "Estimating biases using als...\n",
      "Computing the msd similarity matrix...\n",
      "Done computing similarity matrix.\n",
      "Estimating biases using als...\n",
      "Computing the msd similarity matrix...\n",
      "Done computing similarity matrix.\n",
      "Estimating biases using als...\n",
      "Computing the msd similarity matrix...\n",
      "Done computing similarity matrix.\n",
      "Estimating biases using als...\n",
      "Computing the msd similarity matrix...\n",
      "Done computing similarity matrix.\n",
      "Estimating biases using als...\n",
      "Computing the msd similarity matrix...\n",
      "Done computing similarity matrix.\n",
      "Estimating biases using als...\n",
      "Computing the msd similarity matrix...\n",
      "Done computing similarity matrix.\n",
      "Estimating biases using als...\n",
      "Computing the msd similarity matrix...\n",
      "Done computing similarity matrix.\n",
      "Estimating biases using als...\n",
      "Computing the msd similarity matrix...\n",
      "Done computing similarity matrix.\n",
      "Estimating biases using als...\n",
      "Computing the msd similarity matrix...\n",
      "Done computing similarity matrix.\n",
      "Estimating biases using als...\n",
      "Computing the msd similarity matrix...\n",
      "Done computing similarity matrix.\n",
      "Estimating biases using als...\n",
      "Computing the msd similarity matrix...\n",
      "Done computing similarity matrix.\n",
      "Estimating biases using als...\n",
      "Computing the msd similarity matrix...\n",
      "Done computing similarity matrix.\n",
      "Best RMSE: 0.487380844723689 {'n_epochs': 5, 'lr_all': 0.002, 'reg_all': 0.4}\n"
     ]
    }
   ],
   "source": [
    "param_gridKNNB = {'n_epochs': [5, 10, 15],\n",
    "        'lr_all': [0.002, 0.005],\n",
    "        'reg_all': [0.4, 0.6, 0.8]\n",
    "        }\n",
    "\n",
    "gsKNNB = GridSearchCV(KNNBaseline, param_gridKNNB, measures=['rmse'], cv=3)\n",
    "\n",
    "gsKNNB.fit(data)\n",
    "\n",
    "print('Best RMSE:', gsKNNB.best_score['rmse'], gsKNNB.best_params['rmse'])"
   ]
  },
  {
   "cell_type": "markdown",
   "id": "8051c205",
   "metadata": {},
   "source": [
    "It looks like the best parameters for this model are as follows:\n",
    "{'n_epochs': 5, 'lr_all': 0.002, 'reg_all': 0.4}\n"
   ]
  },
  {
   "cell_type": "markdown",
   "id": "747ecc93",
   "metadata": {},
   "source": [
    "Now let’s find the best parameters for the SVD model."
   ]
  },
  {
   "cell_type": "code",
   "execution_count": 13,
   "id": "02075c37",
   "metadata": {},
   "outputs": [],
   "source": [
    "#GridSearch for SVD"
   ]
  },
  {
   "cell_type": "code",
   "execution_count": 14,
   "id": "dfe07c6a",
   "metadata": {},
   "outputs": [
    {
     "name": "stdout",
     "output_type": "stream",
     "text": [
      "Best RMSE: 0.5024278113573212 {'n_epochs': 15, 'lr_all': 0.005, 'reg_all': 0.4}\n"
     ]
    }
   ],
   "source": [
    "param_grid = {'n_epochs': [5, 10, 15],\n",
    "        'lr_all': [0.002, 0.005],\n",
    "        'reg_all': [0.4, 0.6, 0.8]\n",
    "        }\n",
    "\n",
    "gs_SVD = GridSearchCV(SVD, param_grid, measures=['rmse', 'mae'], cv=3)\n",
    "\n",
    "gs_SVD.fit(data)\n",
    "\n",
    "print('Best RMSE:', gs_SVD.best_score['rmse'], gs_SVD.best_params['rmse'])"
   ]
  },
  {
   "cell_type": "markdown",
   "id": "60859854",
   "metadata": {},
   "source": [
    "The best parameters for the SVD model are as follows:\n",
    "{'n_epochs': 15, 'lr_all': 0.005, 'reg_all': 0.4}"
   ]
  },
  {
   "cell_type": "markdown",
   "id": "e2021bc8",
   "metadata": {},
   "source": [
    "Next I will create the traintest split for the data."
   ]
  },
  {
   "cell_type": "code",
   "execution_count": 15,
   "id": "a1740e08",
   "metadata": {},
   "outputs": [],
   "source": [
    "#update to surprise traintest set to make predictions\n",
    "trainset, testset = train_test_split(data, test_size=0.25, random_state=22)"
   ]
  },
  {
   "cell_type": "markdown",
   "id": "b6bd8e8b",
   "metadata": {},
   "source": [
    "To apply the model and get predictions, I will create a dataframe that will display the userID, wineID, the actual rating and the predicted rating from our model. I will also include an error column that displays the difference between the actual rating and the predicted rating."
   ]
  },
  {
   "cell_type": "code",
   "execution_count": 16,
   "id": "cc52f87d",
   "metadata": {},
   "outputs": [
    {
     "name": "stdout",
     "output_type": "stream",
     "text": [
      "Estimating biases using als...\n",
      "Computing the msd similarity matrix...\n",
      "Done computing similarity matrix.\n"
     ]
    }
   ],
   "source": [
    "#KNNBaseline\n",
    "predictions = KNNBaseline(bsl_options=gsKNNB.best_params['rmse']).fit(trainset).test(testset)\n",
    "KNN_Predictions = pd.DataFrame(predictions, columns=['UserID', 'WineID', 'Real_Rating', 'Estimated_Rating', 'details'])\n",
    "KNN_Predictions.drop(['details'], axis=1, inplace=True)"
   ]
  },
  {
   "cell_type": "code",
   "execution_count": 17,
   "id": "62b88b46",
   "metadata": {},
   "outputs": [],
   "source": [
    "#SVD\n",
    "predictions = SVD(n_epochs=15, lr_all=0.005, reg_all=0.4).fit(trainset).test(testset)\n",
    "SVD_Predictions = pd.DataFrame(predictions, columns=['UserID', 'WineID', 'Real_Rating', 'Estimated_Rating', 'details'])\n",
    "SVD_Predictions.drop(['details'], axis=1, inplace=True)"
   ]
  },
  {
   "cell_type": "code",
   "execution_count": 18,
   "id": "c3641092",
   "metadata": {},
   "outputs": [],
   "source": [
    "#knnbaseline\n",
    "KNN_Predictions['Error'] = abs(KNN_Predictions['Real_Rating'] - KNN_Predictions['Estimated_Rating'])"
   ]
  },
  {
   "cell_type": "code",
   "execution_count": 19,
   "id": "346bb91d",
   "metadata": {},
   "outputs": [],
   "source": [
    "#svd\n",
    "SVD_Predictions['Error'] = abs(SVD_Predictions['Real_Rating'] - SVD_Predictions['Estimated_Rating'])"
   ]
  },
  {
   "cell_type": "code",
   "execution_count": 20,
   "id": "1e66f97e",
   "metadata": {},
   "outputs": [
    {
     "data": {
      "text/html": [
       "<div>\n",
       "<style scoped>\n",
       "    .dataframe tbody tr th:only-of-type {\n",
       "        vertical-align: middle;\n",
       "    }\n",
       "\n",
       "    .dataframe tbody tr th {\n",
       "        vertical-align: top;\n",
       "    }\n",
       "\n",
       "    .dataframe thead th {\n",
       "        text-align: right;\n",
       "    }\n",
       "</style>\n",
       "<table border=\"1\" class=\"dataframe\">\n",
       "  <thead>\n",
       "    <tr style=\"text-align: right;\">\n",
       "      <th></th>\n",
       "      <th>UserID</th>\n",
       "      <th>WineID</th>\n",
       "      <th>Real_Rating</th>\n",
       "      <th>Estimated_Rating</th>\n",
       "      <th>Error</th>\n",
       "    </tr>\n",
       "  </thead>\n",
       "  <tbody>\n",
       "    <tr>\n",
       "      <th>0</th>\n",
       "      <td>1971360</td>\n",
       "      <td>111475</td>\n",
       "      <td>4.0</td>\n",
       "      <td>4.297177</td>\n",
       "      <td>0.297177</td>\n",
       "    </tr>\n",
       "    <tr>\n",
       "      <th>1</th>\n",
       "      <td>1358888</td>\n",
       "      <td>193487</td>\n",
       "      <td>3.0</td>\n",
       "      <td>3.284433</td>\n",
       "      <td>0.284433</td>\n",
       "    </tr>\n",
       "    <tr>\n",
       "      <th>2</th>\n",
       "      <td>1222064</td>\n",
       "      <td>155623</td>\n",
       "      <td>3.0</td>\n",
       "      <td>2.885143</td>\n",
       "      <td>0.114857</td>\n",
       "    </tr>\n",
       "    <tr>\n",
       "      <th>3</th>\n",
       "      <td>1095942</td>\n",
       "      <td>113730</td>\n",
       "      <td>4.5</td>\n",
       "      <td>4.218465</td>\n",
       "      <td>0.281535</td>\n",
       "    </tr>\n",
       "    <tr>\n",
       "      <th>4</th>\n",
       "      <td>1006401</td>\n",
       "      <td>111434</td>\n",
       "      <td>4.0</td>\n",
       "      <td>4.336163</td>\n",
       "      <td>0.336163</td>\n",
       "    </tr>\n",
       "  </tbody>\n",
       "</table>\n",
       "</div>"
      ],
      "text/plain": [
       "    UserID  WineID  Real_Rating  Estimated_Rating     Error\n",
       "0  1971360  111475          4.0          4.297177  0.297177\n",
       "1  1358888  193487          3.0          3.284433  0.284433\n",
       "2  1222064  155623          3.0          2.885143  0.114857\n",
       "3  1095942  113730          4.5          4.218465  0.281535\n",
       "4  1006401  111434          4.0          4.336163  0.336163"
      ]
     },
     "execution_count": 20,
     "metadata": {},
     "output_type": "execute_result"
    }
   ],
   "source": [
    "KNN_Predictions.head()"
   ]
  },
  {
   "cell_type": "markdown",
   "id": "f11dfd5b",
   "metadata": {},
   "source": [
    "Let’s examine the relationship between the real ratings and the estimated ratings."
   ]
  },
  {
   "cell_type": "markdown",
   "id": "fe97386c",
   "metadata": {},
   "source": [
    "I want to examine how many estimated ratings have a low error."
   ]
  },
  {
   "cell_type": "code",
   "execution_count": 21,
   "id": "26ed53ad",
   "metadata": {},
   "outputs": [],
   "source": [
    "low_error=KNN_Predictions[KNN_Predictions['Error'] < .1]"
   ]
  },
  {
   "cell_type": "code",
   "execution_count": 22,
   "id": "3a7404af",
   "metadata": {},
   "outputs": [
    {
     "name": "stdout",
     "output_type": "stream",
     "text": [
      "<class 'pandas.core.frame.DataFrame'>\n",
      "Int64Index: 7275 entries, 5 to 37492\n",
      "Data columns (total 5 columns):\n",
      " #   Column            Non-Null Count  Dtype  \n",
      "---  ------            --------------  -----  \n",
      " 0   UserID            7275 non-null   int64  \n",
      " 1   WineID            7275 non-null   int64  \n",
      " 2   Real_Rating       7275 non-null   float64\n",
      " 3   Estimated_Rating  7275 non-null   float64\n",
      " 4   Error             7275 non-null   float64\n",
      "dtypes: float64(3), int64(2)\n",
      "memory usage: 341.0 KB\n"
     ]
    }
   ],
   "source": [
    "low_error.info()"
   ]
  },
  {
   "cell_type": "code",
   "execution_count": 23,
   "id": "c550665d",
   "metadata": {},
   "outputs": [
    {
     "data": {
      "text/html": [
       "<div>\n",
       "<style scoped>\n",
       "    .dataframe tbody tr th:only-of-type {\n",
       "        vertical-align: middle;\n",
       "    }\n",
       "\n",
       "    .dataframe tbody tr th {\n",
       "        vertical-align: top;\n",
       "    }\n",
       "\n",
       "    .dataframe thead th {\n",
       "        text-align: right;\n",
       "    }\n",
       "</style>\n",
       "<table border=\"1\" class=\"dataframe\">\n",
       "  <thead>\n",
       "    <tr style=\"text-align: right;\">\n",
       "      <th></th>\n",
       "      <th>UserID</th>\n",
       "      <th>WineID</th>\n",
       "      <th>Real_Rating</th>\n",
       "      <th>Estimated_Rating</th>\n",
       "      <th>Error</th>\n",
       "    </tr>\n",
       "  </thead>\n",
       "  <tbody>\n",
       "    <tr>\n",
       "      <th>5</th>\n",
       "      <td>1215266</td>\n",
       "      <td>111429</td>\n",
       "      <td>4.0</td>\n",
       "      <td>4.067975</td>\n",
       "      <td>0.067975</td>\n",
       "    </tr>\n",
       "    <tr>\n",
       "      <th>6</th>\n",
       "      <td>1210984</td>\n",
       "      <td>135885</td>\n",
       "      <td>4.0</td>\n",
       "      <td>3.967138</td>\n",
       "      <td>0.032862</td>\n",
       "    </tr>\n",
       "    <tr>\n",
       "      <th>7</th>\n",
       "      <td>1064790</td>\n",
       "      <td>113344</td>\n",
       "      <td>4.0</td>\n",
       "      <td>4.068471</td>\n",
       "      <td>0.068471</td>\n",
       "    </tr>\n",
       "    <tr>\n",
       "      <th>10</th>\n",
       "      <td>1387564</td>\n",
       "      <td>167530</td>\n",
       "      <td>3.5</td>\n",
       "      <td>3.484070</td>\n",
       "      <td>0.015930</td>\n",
       "    </tr>\n",
       "    <tr>\n",
       "      <th>11</th>\n",
       "      <td>1104552</td>\n",
       "      <td>183463</td>\n",
       "      <td>3.5</td>\n",
       "      <td>3.526267</td>\n",
       "      <td>0.026267</td>\n",
       "    </tr>\n",
       "  </tbody>\n",
       "</table>\n",
       "</div>"
      ],
      "text/plain": [
       "     UserID  WineID  Real_Rating  Estimated_Rating     Error\n",
       "5   1215266  111429          4.0          4.067975  0.067975\n",
       "6   1210984  135885          4.0          3.967138  0.032862\n",
       "7   1064790  113344          4.0          4.068471  0.068471\n",
       "10  1387564  167530          3.5          3.484070  0.015930\n",
       "11  1104552  183463          3.5          3.526267  0.026267"
      ]
     },
     "execution_count": 23,
     "metadata": {},
     "output_type": "execute_result"
    }
   ],
   "source": [
    "low_error.head()"
   ]
  },
  {
   "cell_type": "markdown",
   "id": "5e04057c",
   "metadata": {},
   "source": [
    "This model produced 7278 estimated ratings out of 150,000 with errors less than 0.1. Let’s take a look at the distribution of this subset of real ratings."
   ]
  },
  {
   "cell_type": "code",
   "execution_count": 24,
   "id": "30596ed8",
   "metadata": {},
   "outputs": [
    {
     "data": {
      "image/png": "[encoded data removed]",
      "text/plain": [
       "<Figure size 800x550 with 1 Axes>"
      ]
     },
     "metadata": {},
     "output_type": "display_data"
    }
   ],
   "source": [
    "sns.countplot(data=low_error, x='Real_Rating')\n",
    "plt.ticklabel_format(style='plain', axis='y')\n",
    "plt.show()\n"
   ]
  },
  {
   "cell_type": "markdown",
   "id": "01b79398",
   "metadata": {},
   "source": [
    "It looks like this model is best at predicting ratings of 4.0. It Is also worth noting that this rating distribution is similar to the total data set."
   ]
  },
  {
   "cell_type": "markdown",
   "id": "26c080da",
   "metadata": {},
   "source": [
    "Let’s take a look at our predictions with the SVD model."
   ]
  },
  {
   "cell_type": "code",
   "execution_count": 25,
   "id": "43e12ffa",
   "metadata": {},
   "outputs": [
    {
     "data": {
      "text/html": [
       "<div>\n",
       "<style scoped>\n",
       "    .dataframe tbody tr th:only-of-type {\n",
       "        vertical-align: middle;\n",
       "    }\n",
       "\n",
       "    .dataframe tbody tr th {\n",
       "        vertical-align: top;\n",
       "    }\n",
       "\n",
       "    .dataframe thead th {\n",
       "        text-align: right;\n",
       "    }\n",
       "</style>\n",
       "<table border=\"1\" class=\"dataframe\">\n",
       "  <thead>\n",
       "    <tr style=\"text-align: right;\">\n",
       "      <th></th>\n",
       "      <th>UserID</th>\n",
       "      <th>WineID</th>\n",
       "      <th>Real_Rating</th>\n",
       "      <th>Estimated_Rating</th>\n",
       "      <th>Error</th>\n",
       "    </tr>\n",
       "  </thead>\n",
       "  <tbody>\n",
       "    <tr>\n",
       "      <th>0</th>\n",
       "      <td>1971360</td>\n",
       "      <td>111475</td>\n",
       "      <td>4.0</td>\n",
       "      <td>4.231913</td>\n",
       "      <td>0.231913</td>\n",
       "    </tr>\n",
       "    <tr>\n",
       "      <th>1</th>\n",
       "      <td>1358888</td>\n",
       "      <td>193487</td>\n",
       "      <td>3.0</td>\n",
       "      <td>3.446532</td>\n",
       "      <td>0.446532</td>\n",
       "    </tr>\n",
       "    <tr>\n",
       "      <th>2</th>\n",
       "      <td>1222064</td>\n",
       "      <td>155623</td>\n",
       "      <td>3.0</td>\n",
       "      <td>3.076992</td>\n",
       "      <td>0.076992</td>\n",
       "    </tr>\n",
       "    <tr>\n",
       "      <th>3</th>\n",
       "      <td>1095942</td>\n",
       "      <td>113730</td>\n",
       "      <td>4.5</td>\n",
       "      <td>4.213787</td>\n",
       "      <td>0.286213</td>\n",
       "    </tr>\n",
       "    <tr>\n",
       "      <th>4</th>\n",
       "      <td>1006401</td>\n",
       "      <td>111434</td>\n",
       "      <td>4.0</td>\n",
       "      <td>4.292957</td>\n",
       "      <td>0.292957</td>\n",
       "    </tr>\n",
       "  </tbody>\n",
       "</table>\n",
       "</div>"
      ],
      "text/plain": [
       "    UserID  WineID  Real_Rating  Estimated_Rating     Error\n",
       "0  1971360  111475          4.0          4.231913  0.231913\n",
       "1  1358888  193487          3.0          3.446532  0.446532\n",
       "2  1222064  155623          3.0          3.076992  0.076992\n",
       "3  1095942  113730          4.5          4.213787  0.286213\n",
       "4  1006401  111434          4.0          4.292957  0.292957"
      ]
     },
     "execution_count": 25,
     "metadata": {},
     "output_type": "execute_result"
    }
   ],
   "source": [
    "SVD_Predictions.head()"
   ]
  },
  {
   "cell_type": "markdown",
   "id": "fca039e4",
   "metadata": {},
   "source": [
    "Let’s take a look at how many ratings we get with a low error."
   ]
  },
  {
   "cell_type": "code",
   "execution_count": 26,
   "id": "0877a23d",
   "metadata": {},
   "outputs": [],
   "source": [
    "low_error2=SVD_Predictions[SVD_Predictions['Error'] < .1]"
   ]
  },
  {
   "cell_type": "code",
   "execution_count": 27,
   "id": "3db9fbe2",
   "metadata": {},
   "outputs": [
    {
     "name": "stdout",
     "output_type": "stream",
     "text": [
      "<class 'pandas.core.frame.DataFrame'>\n",
      "Int64Index: 7070 entries, 2 to 37496\n",
      "Data columns (total 5 columns):\n",
      " #   Column            Non-Null Count  Dtype  \n",
      "---  ------            --------------  -----  \n",
      " 0   UserID            7070 non-null   int64  \n",
      " 1   WineID            7070 non-null   int64  \n",
      " 2   Real_Rating       7070 non-null   float64\n",
      " 3   Estimated_Rating  7070 non-null   float64\n",
      " 4   Error             7070 non-null   float64\n",
      "dtypes: float64(3), int64(2)\n",
      "memory usage: 331.4 KB\n"
     ]
    }
   ],
   "source": [
    "low_error2.info()"
   ]
  },
  {
   "cell_type": "code",
   "execution_count": 28,
   "id": "46faf0d5",
   "metadata": {},
   "outputs": [
    {
     "data": {
      "text/html": [
       "<div>\n",
       "<style scoped>\n",
       "    .dataframe tbody tr th:only-of-type {\n",
       "        vertical-align: middle;\n",
       "    }\n",
       "\n",
       "    .dataframe tbody tr th {\n",
       "        vertical-align: top;\n",
       "    }\n",
       "\n",
       "    .dataframe thead th {\n",
       "        text-align: right;\n",
       "    }\n",
       "</style>\n",
       "<table border=\"1\" class=\"dataframe\">\n",
       "  <thead>\n",
       "    <tr style=\"text-align: right;\">\n",
       "      <th></th>\n",
       "      <th>UserID</th>\n",
       "      <th>WineID</th>\n",
       "      <th>Real_Rating</th>\n",
       "      <th>Estimated_Rating</th>\n",
       "      <th>Error</th>\n",
       "    </tr>\n",
       "  </thead>\n",
       "  <tbody>\n",
       "    <tr>\n",
       "      <th>2</th>\n",
       "      <td>1222064</td>\n",
       "      <td>155623</td>\n",
       "      <td>3.0</td>\n",
       "      <td>3.076992</td>\n",
       "      <td>0.076992</td>\n",
       "    </tr>\n",
       "    <tr>\n",
       "      <th>5</th>\n",
       "      <td>1215266</td>\n",
       "      <td>111429</td>\n",
       "      <td>4.0</td>\n",
       "      <td>4.086092</td>\n",
       "      <td>0.086092</td>\n",
       "    </tr>\n",
       "    <tr>\n",
       "      <th>7</th>\n",
       "      <td>1064790</td>\n",
       "      <td>113344</td>\n",
       "      <td>4.0</td>\n",
       "      <td>3.961153</td>\n",
       "      <td>0.038847</td>\n",
       "    </tr>\n",
       "    <tr>\n",
       "      <th>10</th>\n",
       "      <td>1387564</td>\n",
       "      <td>167530</td>\n",
       "      <td>3.5</td>\n",
       "      <td>3.522494</td>\n",
       "      <td>0.022494</td>\n",
       "    </tr>\n",
       "    <tr>\n",
       "      <th>12</th>\n",
       "      <td>1765460</td>\n",
       "      <td>111590</td>\n",
       "      <td>4.0</td>\n",
       "      <td>4.033853</td>\n",
       "      <td>0.033853</td>\n",
       "    </tr>\n",
       "  </tbody>\n",
       "</table>\n",
       "</div>"
      ],
      "text/plain": [
       "     UserID  WineID  Real_Rating  Estimated_Rating     Error\n",
       "2   1222064  155623          3.0          3.076992  0.076992\n",
       "5   1215266  111429          4.0          4.086092  0.086092\n",
       "7   1064790  113344          4.0          3.961153  0.038847\n",
       "10  1387564  167530          3.5          3.522494  0.022494\n",
       "12  1765460  111590          4.0          4.033853  0.033853"
      ]
     },
     "execution_count": 28,
     "metadata": {},
     "output_type": "execute_result"
    }
   ],
   "source": [
    "low_error2.head()"
   ]
  },
  {
   "cell_type": "markdown",
   "id": "3078872e",
   "metadata": {},
   "source": [
    "The number of predictions in this data subset is 7070. This is similar to but less than the number of low error predictions from the KNN baseline model. Let’s take a look at the distribution of this subset as well."
   ]
  },
  {
   "cell_type": "code",
   "execution_count": 29,
   "id": "0b69fd39",
   "metadata": {},
   "outputs": [
    {
     "data": {
      "image/png": "[encoded data removed]",
      "text/plain": [
       "<Figure size 800x550 with 1 Axes>"
      ]
     },
     "metadata": {},
     "output_type": "display_data"
    }
   ],
   "source": [
    "sns.countplot(data=low_error2, x='Real_Rating')\n",
    "plt.ticklabel_format(style='plain', axis='y')\n",
    "plt.show()\n"
   ]
  },
  {
   "cell_type": "markdown",
   "id": "0d7e9682",
   "metadata": {},
   "source": [
    "The rating distribution for this model is very similar to the KNNBaseline model with the top represented rating being 4.0."
   ]
  },
  {
   "cell_type": "markdown",
   "id": "2062a960",
   "metadata": {},
   "source": [
    "Let’s compare the RMSE for the different models on our traintest set."
   ]
  },
  {
   "cell_type": "code",
   "execution_count": 30,
   "id": "ed98e0e9",
   "metadata": {},
   "outputs": [],
   "source": [
    "rmseK = np.sqrt(np.mean((KNN_Predictions['Error']) ** 2))\n",
    "rmseS = np.sqrt(np.mean((SVD_Predictions['Error']) ** 2))\n"
   ]
  },
  {
   "cell_type": "code",
   "execution_count": 31,
   "id": "6d0d8ce0",
   "metadata": {},
   "outputs": [
    {
     "data": {
      "image/png": "[encoded data removed]",
      "text/plain": [
       "<Figure size 500x500 with 1 Axes>"
      ]
     },
     "metadata": {},
     "output_type": "display_data"
    }
   ],
   "source": [
    "sns.lmplot(x='Real_Rating', y='Estimated_Rating', data=KNN_Predictions, scatter_kws={'alpha': 0.5})\n",
    "plt.text(x=0, y=6, s='RMSE:{:.2f}'.format(rmseK), fontsize=12)\n",
    "plt.title('RMSE KNNBase')\n",
    "plt.show()"
   ]
  },
  {
   "cell_type": "code",
   "execution_count": 32,
   "id": "e3c008a9",
   "metadata": {},
   "outputs": [
    {
     "data": {
      "image/png": "[encoded data removed]",
      "text/plain": [
       "<Figure size 500x500 with 1 Axes>"
      ]
     },
     "metadata": {},
     "output_type": "display_data"
    }
   ],
   "source": [
    "sns.lmplot(x='Real_Rating', y='Estimated_Rating',data=SVD_Predictions, scatter_kws={'alpha': 0.5})\n",
    "plt.text(x=0, y=6, s='RMSE:{:.2f}'.format(rmseS), fontsize=12)\n",
    "plt.title('RMSE SVD')\n",
    "plt.show()"
   ]
  },
  {
   "cell_type": "markdown",
   "id": "357c97b6",
   "metadata": {},
   "source": [
    "The RMSE for the KNN baseline model is pretty much the same as our initial cross validation mean. The SVD model is a bit higher than our initial cross validation mean."
   ]
  },
  {
   "cell_type": "markdown",
   "id": "6059f44b",
   "metadata": {},
   "source": [
    "### Conclusions"
   ]
  },
  {
   "cell_type": "markdown",
   "id": "266c1780",
   "metadata": {},
   "source": [
    "After using each model to create predictions it looks like the KNNBaseline model produces better results than the SVD model. The KNN Baseline model has a better RMSE and has more estimated ratings with low errors than the SVD mode. It seems that the KNN Baseline would be the better model to use to increase the chance of predicting ratings more accurately. Considering that the difference in outcomes between the two models is small and the time difference for applying the models is fairly large, it may be worth it to our stake holders to use the SVD model. A choice would have to be made here on whether accuracy or resource usage is the most important factor."
   ]
  }
 ],
 "metadata": {
  "kernelspec": {
   "display_name": "Python 3 (ipykernel)",
   "language": "python",
   "name": "python3"
  },
  "language_info": {
   "codemirror_mode": {
    "name": "ipython",
    "version": 3
   },
   "file_extension": ".py",
   "mimetype": "text/x-python",
   "name": "python",
   "nbconvert_exporter": "python",
   "pygments_lexer": "ipython3",
   "version": "3.9.13"
  }
 },
 "nbformat": 4,
 "nbformat_minor": 5
}
